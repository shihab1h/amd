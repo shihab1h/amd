{
  "cells": [
    {
      "cell_type": "markdown",
      "metadata": {
        "id": "RvK82VEVkc6Y"
      },
      "source": [
        "**Project for Algorithms for Massive Data (Prof. Malchiodi)**\n",
        "</br>**Studnet: Shihab Hamati**\n",
        "</br>**May 2023**"
      ]
    },
    {
      "cell_type": "markdown",
      "metadata": {
        "id": "Vb-eUuE5kUsb"
      },
      "source": [
        "**Convolutional Neural Network to classify healthy plant leaves**"
      ]
    },
    {
      "cell_type": "code",
      "execution_count": 1,
      "metadata": {
        "id": "a7HQEsNxkakn"
      },
      "outputs": [],
      "source": [
        "from google.colab import files\n",
        "import os\n",
        "import shutil\n",
        "import matplotlib.pyplot as plt\n",
        "\n",
        "from tensorflow.keras.preprocessing.image import ImageDataGenerator\n",
        "from tensorflow.keras.models import Sequential\n",
        "from tensorflow.keras.layers import Conv2D, MaxPooling2D, Dropout, Flatten, Dense\n",
        "from tensorflow.keras.callbacks import ModelCheckpoint, EarlyStopping"
      ]
    },
    {
      "cell_type": "code",
      "execution_count": 2,
      "metadata": {
        "colab": {
          "base_uri": "https://localhost:8080/",
          "height": 73
        },
        "id": "KjDnyPg4kWqc",
        "outputId": "f82a3833-2c90-4b43-a6d2-d4788294237c"
      },
      "outputs": [
        {
          "output_type": "display_data",
          "data": {
            "text/plain": [
              "<IPython.core.display.HTML object>"
            ],
            "text/html": [
              "\n",
              "     <input type=\"file\" id=\"files-59cffeae-28a2-4632-9cb2-6f3f3f64aaab\" name=\"files[]\" multiple disabled\n",
              "        style=\"border:none\" />\n",
              "     <output id=\"result-59cffeae-28a2-4632-9cb2-6f3f3f64aaab\">\n",
              "      Upload widget is only available when the cell has been executed in the\n",
              "      current browser session. Please rerun this cell to enable.\n",
              "      </output>\n",
              "      <script>// Copyright 2017 Google LLC\n",
              "//\n",
              "// Licensed under the Apache License, Version 2.0 (the \"License\");\n",
              "// you may not use this file except in compliance with the License.\n",
              "// You may obtain a copy of the License at\n",
              "//\n",
              "//      http://www.apache.org/licenses/LICENSE-2.0\n",
              "//\n",
              "// Unless required by applicable law or agreed to in writing, software\n",
              "// distributed under the License is distributed on an \"AS IS\" BASIS,\n",
              "// WITHOUT WARRANTIES OR CONDITIONS OF ANY KIND, either express or implied.\n",
              "// See the License for the specific language governing permissions and\n",
              "// limitations under the License.\n",
              "\n",
              "/**\n",
              " * @fileoverview Helpers for google.colab Python module.\n",
              " */\n",
              "(function(scope) {\n",
              "function span(text, styleAttributes = {}) {\n",
              "  const element = document.createElement('span');\n",
              "  element.textContent = text;\n",
              "  for (const key of Object.keys(styleAttributes)) {\n",
              "    element.style[key] = styleAttributes[key];\n",
              "  }\n",
              "  return element;\n",
              "}\n",
              "\n",
              "// Max number of bytes which will be uploaded at a time.\n",
              "const MAX_PAYLOAD_SIZE = 100 * 1024;\n",
              "\n",
              "function _uploadFiles(inputId, outputId) {\n",
              "  const steps = uploadFilesStep(inputId, outputId);\n",
              "  const outputElement = document.getElementById(outputId);\n",
              "  // Cache steps on the outputElement to make it available for the next call\n",
              "  // to uploadFilesContinue from Python.\n",
              "  outputElement.steps = steps;\n",
              "\n",
              "  return _uploadFilesContinue(outputId);\n",
              "}\n",
              "\n",
              "// This is roughly an async generator (not supported in the browser yet),\n",
              "// where there are multiple asynchronous steps and the Python side is going\n",
              "// to poll for completion of each step.\n",
              "// This uses a Promise to block the python side on completion of each step,\n",
              "// then passes the result of the previous step as the input to the next step.\n",
              "function _uploadFilesContinue(outputId) {\n",
              "  const outputElement = document.getElementById(outputId);\n",
              "  const steps = outputElement.steps;\n",
              "\n",
              "  const next = steps.next(outputElement.lastPromiseValue);\n",
              "  return Promise.resolve(next.value.promise).then((value) => {\n",
              "    // Cache the last promise value to make it available to the next\n",
              "    // step of the generator.\n",
              "    outputElement.lastPromiseValue = value;\n",
              "    return next.value.response;\n",
              "  });\n",
              "}\n",
              "\n",
              "/**\n",
              " * Generator function which is called between each async step of the upload\n",
              " * process.\n",
              " * @param {string} inputId Element ID of the input file picker element.\n",
              " * @param {string} outputId Element ID of the output display.\n",
              " * @return {!Iterable<!Object>} Iterable of next steps.\n",
              " */\n",
              "function* uploadFilesStep(inputId, outputId) {\n",
              "  const inputElement = document.getElementById(inputId);\n",
              "  inputElement.disabled = false;\n",
              "\n",
              "  const outputElement = document.getElementById(outputId);\n",
              "  outputElement.innerHTML = '';\n",
              "\n",
              "  const pickedPromise = new Promise((resolve) => {\n",
              "    inputElement.addEventListener('change', (e) => {\n",
              "      resolve(e.target.files);\n",
              "    });\n",
              "  });\n",
              "\n",
              "  const cancel = document.createElement('button');\n",
              "  inputElement.parentElement.appendChild(cancel);\n",
              "  cancel.textContent = 'Cancel upload';\n",
              "  const cancelPromise = new Promise((resolve) => {\n",
              "    cancel.onclick = () => {\n",
              "      resolve(null);\n",
              "    };\n",
              "  });\n",
              "\n",
              "  // Wait for the user to pick the files.\n",
              "  const files = yield {\n",
              "    promise: Promise.race([pickedPromise, cancelPromise]),\n",
              "    response: {\n",
              "      action: 'starting',\n",
              "    }\n",
              "  };\n",
              "\n",
              "  cancel.remove();\n",
              "\n",
              "  // Disable the input element since further picks are not allowed.\n",
              "  inputElement.disabled = true;\n",
              "\n",
              "  if (!files) {\n",
              "    return {\n",
              "      response: {\n",
              "        action: 'complete',\n",
              "      }\n",
              "    };\n",
              "  }\n",
              "\n",
              "  for (const file of files) {\n",
              "    const li = document.createElement('li');\n",
              "    li.append(span(file.name, {fontWeight: 'bold'}));\n",
              "    li.append(span(\n",
              "        `(${file.type || 'n/a'}) - ${file.size} bytes, ` +\n",
              "        `last modified: ${\n",
              "            file.lastModifiedDate ? file.lastModifiedDate.toLocaleDateString() :\n",
              "                                    'n/a'} - `));\n",
              "    const percent = span('0% done');\n",
              "    li.appendChild(percent);\n",
              "\n",
              "    outputElement.appendChild(li);\n",
              "\n",
              "    const fileDataPromise = new Promise((resolve) => {\n",
              "      const reader = new FileReader();\n",
              "      reader.onload = (e) => {\n",
              "        resolve(e.target.result);\n",
              "      };\n",
              "      reader.readAsArrayBuffer(file);\n",
              "    });\n",
              "    // Wait for the data to be ready.\n",
              "    let fileData = yield {\n",
              "      promise: fileDataPromise,\n",
              "      response: {\n",
              "        action: 'continue',\n",
              "      }\n",
              "    };\n",
              "\n",
              "    // Use a chunked sending to avoid message size limits. See b/62115660.\n",
              "    let position = 0;\n",
              "    do {\n",
              "      const length = Math.min(fileData.byteLength - position, MAX_PAYLOAD_SIZE);\n",
              "      const chunk = new Uint8Array(fileData, position, length);\n",
              "      position += length;\n",
              "\n",
              "      const base64 = btoa(String.fromCharCode.apply(null, chunk));\n",
              "      yield {\n",
              "        response: {\n",
              "          action: 'append',\n",
              "          file: file.name,\n",
              "          data: base64,\n",
              "        },\n",
              "      };\n",
              "\n",
              "      let percentDone = fileData.byteLength === 0 ?\n",
              "          100 :\n",
              "          Math.round((position / fileData.byteLength) * 100);\n",
              "      percent.textContent = `${percentDone}% done`;\n",
              "\n",
              "    } while (position < fileData.byteLength);\n",
              "  }\n",
              "\n",
              "  // All done.\n",
              "  yield {\n",
              "    response: {\n",
              "      action: 'complete',\n",
              "    }\n",
              "  };\n",
              "}\n",
              "\n",
              "scope.google = scope.google || {};\n",
              "scope.google.colab = scope.google.colab || {};\n",
              "scope.google.colab._files = {\n",
              "  _uploadFiles,\n",
              "  _uploadFilesContinue,\n",
              "};\n",
              "})(self);\n",
              "</script> "
            ]
          },
          "metadata": {}
        },
        {
          "output_type": "stream",
          "name": "stdout",
          "text": [
            "Saving kaggle.json to kaggle.json\n"
          ]
        }
      ],
      "source": [
        "# Upload Kaggle Credentials JSON File\n",
        "kaggle_token = files.upload()"
      ]
    },
    {
      "cell_type": "code",
      "execution_count": 3,
      "metadata": {
        "id": "nqyS4JLNlZWN"
      },
      "outputs": [],
      "source": [
        "os.environ['KAGGLE_CONFIG_DIR'] = os.getcwd()"
      ]
    },
    {
      "cell_type": "markdown",
      "metadata": {
        "id": "JUHH-LmpkSoh"
      },
      "source": [
        "Download dataset and unzip"
      ]
    },
    {
      "cell_type": "markdown",
      "source": [],
      "metadata": {
        "id": "8ctOrQEWYj0u"
      }
    },
    {
      "cell_type": "code",
      "execution_count": 4,
      "metadata": {
        "colab": {
          "base_uri": "https://localhost:8080/"
        },
        "id": "kQL726Eo4LVb",
        "outputId": "24add350-d001-402d-b3c3-187d43f76ad5"
      },
      "outputs": [
        {
          "output_type": "stream",
          "name": "stdout",
          "text": [
            "Warning: Your Kaggle API key is readable by other users on this system! To fix this, you can run 'chmod 600 /content/kaggle.json'\n",
            "Downloading plant-leaves-for-image-classification.zip to /content\n",
            "100% 6.55G/6.56G [01:29<00:00, 150MB/s]\n",
            "100% 6.56G/6.56G [01:29<00:00, 78.3MB/s]\n"
          ]
        }
      ],
      "source": [
        "!kaggle datasets download -d csafrit2/plant-leaves-for-image-classification"
      ]
    },
    {
      "cell_type": "code",
      "execution_count": 5,
      "metadata": {
        "id": "V_8-CxI1-D04"
      },
      "outputs": [],
      "source": [
        "!unzip -q /content/plant-leaves-for-image-classification.zip"
      ]
    },
    {
      "cell_type": "markdown",
      "metadata": {
        "id": "EDvRnFV9kLSW"
      },
      "source": [
        "Generate list of subdirectories of diseased leaves"
      ]
    },
    {
      "cell_type": "code",
      "execution_count": 6,
      "metadata": {
        "id": "hsoqNoLIjK1N"
      },
      "outputs": [],
      "source": [
        "paths = [\"/content/Plants_2/train\", \"/content/Plants_2/valid\", \"/content/Plants_2/test\"]"
      ]
    },
    {
      "cell_type": "markdown",
      "metadata": {
        "id": "TYjqlq9ZkEEK"
      },
      "source": [
        "Delete diseased folders, keep only health folders"
      ]
    },
    {
      "cell_type": "code",
      "execution_count": 7,
      "metadata": {
        "id": "Cqr12_dchalS"
      },
      "outputs": [],
      "source": [
        "def del_subdirs(path, keyword):\n",
        "  paths_to_delete = [sd for sd in os.listdir(path) if keyword in sd]\n",
        "  for p2d in paths_to_delete:\n",
        "    shutil.rmtree(os.path.join(path, p2d))\n",
        "  return"
      ]
    },
    {
      "cell_type": "code",
      "execution_count": 8,
      "metadata": {
        "id": "mPVUQ7g9ke1I"
      },
      "outputs": [],
      "source": [
        "for p in paths:\n",
        "  del_subdirs(p, 'diseased')"
      ]
    },
    {
      "cell_type": "code",
      "execution_count": 9,
      "metadata": {
        "id": "ziRUufxdzG1L"
      },
      "outputs": [],
      "source": [
        "IMG_SIZE = (256,256)\n",
        "RESCALE_FACTOR = 1.0/255\n",
        "BATCH_SIZE = 32\n",
        "SEED = 123"
      ]
    },
    {
      "cell_type": "code",
      "execution_count": 10,
      "metadata": {
        "id": "ccOjNu9N-emS"
      },
      "outputs": [],
      "source": [
        "# Image Data Generator for training & validation datasets\n",
        "# Applying data augmentation\n",
        "gen_train_val = ImageDataGenerator(\n",
        "    validation_split = 0.2,\n",
        "    rescale = RESCALE_FACTOR,\n",
        "    #width_shift_range = 0.1,\n",
        "    #height_shift_range = 0.1,\n",
        "    #shear_range = 0.1,\n",
        "    #zoom_range = 0.1,\n",
        "    horizontal_flip = True,\n",
        "    #vertical_flip = True\n",
        "    )     "
      ]
    },
    {
      "cell_type": "code",
      "execution_count": 11,
      "metadata": {
        "id": "NEgXfUAdneXF"
      },
      "outputs": [],
      "source": [
        "# Image Data Generator for testing dataset\n",
        "gen_test = ImageDataGenerator(rescale = RESCALE_FACTOR)"
      ]
    },
    {
      "cell_type": "code",
      "execution_count": 12,
      "metadata": {
        "colab": {
          "base_uri": "https://localhost:8080/"
        },
        "id": "TMj9kv8GzNYY",
        "outputId": "9d5a4476-877a-4873-c9c9-9b277b032d3f"
      },
      "outputs": [
        {
          "output_type": "stream",
          "name": "stdout",
          "text": [
            "Found 1736 images belonging to 11 classes.\n"
          ]
        }
      ],
      "source": [
        "dataset_train = gen_train_val.flow_from_directory(\n",
        "    directory=paths[0],\n",
        "    target_size=IMG_SIZE,\n",
        "    color_mode=\"rgb\",\n",
        "    batch_size=BATCH_SIZE,\n",
        "    class_mode=\"categorical\",\n",
        "    shuffle=True,\n",
        "    subset = \"training\",\n",
        "    seed = SEED )"
      ]
    },
    {
      "cell_type": "code",
      "execution_count": 13,
      "metadata": {
        "colab": {
          "base_uri": "https://localhost:8080/"
        },
        "id": "dRrInxxB0T7s",
        "outputId": "3de6c9c9-bfcc-4884-d3a8-ef6067eeeb53"
      },
      "outputs": [
        {
          "output_type": "stream",
          "name": "stdout",
          "text": [
            "Found 427 images belonging to 11 classes.\n"
          ]
        }
      ],
      "source": [
        "# only 55 images in the original valid folder, so split from the training folder instead\n",
        "dataset_val = gen_train_val.flow_from_directory(\n",
        "    directory = paths[0], # using the larger train folder\n",
        "    target_size = IMG_SIZE,\n",
        "    color_mode = \"rgb\",\n",
        "    batch_size = BATCH_SIZE,\n",
        "    class_mode = \"categorical\",\n",
        "    shuffle = True,\n",
        "    subset = \"validation\", \n",
        "    seed = SEED )"
      ]
    },
    {
      "cell_type": "code",
      "execution_count": 14,
      "metadata": {
        "colab": {
          "base_uri": "https://localhost:8080/"
        },
        "id": "te72GFbno_Rd",
        "outputId": "d988d21f-556a-48fa-b9ae-18afb56ed585"
      },
      "outputs": [
        {
          "output_type": "stream",
          "name": "stdout",
          "text": [
            "Found 55 images belonging to 11 classes.\n"
          ]
        }
      ],
      "source": [
        "dataset_test = gen_test.flow_from_directory(\n",
        "    directory = paths[2],\n",
        "    target_size = IMG_SIZE,\n",
        "    color_mode = \"rgb\",\n",
        "    batch_size = BATCH_SIZE,\n",
        "    class_mode = \"categorical\",\n",
        "    shuffle = False,\n",
        "    seed = SEED )"
      ]
    },
    {
      "cell_type": "markdown",
      "metadata": {
        "id": "dCv9EI1vmjqP"
      },
      "source": [
        "**CNN Model**"
      ]
    },
    {
      "cell_type": "code",
      "execution_count": 15,
      "metadata": {
        "id": "JKH_m3EboQBp"
      },
      "outputs": [],
      "source": [
        "# Default params for create_cnn function\n",
        "NUM_CLASSES=dataset_train.num_classes\n",
        "INPUT_SHAPE = IMG_SIZE + (3,)"
      ]
    },
    {
      "cell_type": "markdown",
      "metadata": {
        "id": "nK_3Sv3IqWGo"
      },
      "source": [
        "General function to create a CNN multi-class classifier\n",
        "* Assumes more than 2 classes\n",
        "* Allows to adapt number of convolutional layers\n",
        "* Easy to experiment different architechtures rapidly and clearly\n"
      ]
    },
    {
      "cell_type": "code",
      "execution_count": 16,
      "metadata": {
        "id": "Fw9TnRmamlE7"
      },
      "outputs": [],
      "source": [
        "def create_cnn(conv_layers, dense_units, dropout=0, num_classes=NUM_CLASSES, input_shape=INPUT_SHAPE):\n",
        "  \"\"\"\n",
        "  Create CNN with general arch of:\n",
        "    A- Sequential Convolutional-ReLu-MaxPooling Layers >=1 of Doubling Num of Filters\n",
        "    B- Dense Layers at the end of the convolutional sequence\n",
        "    C- An Output Layer with Nodes = num_classes > 2\n",
        "  \"\"\"\n",
        "\n",
        "  classifier = Sequential()\n",
        "\n",
        "  # Initial Convolutional Block\n",
        "  classifier.add(Conv2D(\n",
        "    filters=32,\n",
        "    kernel_size=(3, 3),\n",
        "    padding=\"same\",\n",
        "    input_shape=input_shape,\n",
        "    activation=\"relu\")\n",
        "  )\n",
        "\n",
        "  classifier.add(MaxPooling2D(pool_size=(2, 2)))\n",
        "\n",
        "  #classifier.add(Dropout(rate=0.2))\n",
        "\n",
        "  # Additional Convolutional Block with twice the num of filters as previous block\n",
        "  for cl in range(conv_layers-1):\n",
        "    # when cl = 0, power = 6, so 2^6 = 64 (since initial layer has 32 filters)\n",
        "    power = 6 + cl\n",
        "\n",
        "    classifier.add(Conv2D(\n",
        "      filters=2 ** power,\n",
        "      kernel_size=(3, 3),\n",
        "      padding=\"same\",\n",
        "      activation=\"relu\")\n",
        "    )\n",
        "\n",
        "    classifier.add(MaxPooling2D(pool_size=(2, 2)))\n",
        "    \n",
        "    if dropout>0:\n",
        "      classifier.add(Dropout(rate=dropout))\n",
        "\n",
        "  classifier.add(Flatten())\n",
        "\n",
        "  # Dense Layers\n",
        "  classifier.add(Dense(units=dense_units, activation=\"relu\"))\n",
        "    \n",
        "  if dropout>0:\n",
        "    classifier.add(Dropout(rate=dropout))\n",
        "\n",
        "  # Output Layer\n",
        "  classifier.add(Dense(units=num_classes, activation=\"softmax\"))\n",
        "\n",
        "  return classifier"
      ]
    },
    {
      "cell_type": "code",
      "execution_count": 17,
      "metadata": {
        "colab": {
          "base_uri": "https://localhost:8080/"
        },
        "id": "Kdxlhxtcqx1m",
        "outputId": "1b57619c-c613-42d4-f843-91ebecb7affa"
      },
      "outputs": [
        {
          "output_type": "stream",
          "name": "stdout",
          "text": [
            "Model: \"sequential\"\n",
            "_________________________________________________________________\n",
            " Layer (type)                Output Shape              Param #   \n",
            "=================================================================\n",
            " conv2d (Conv2D)             (None, 256, 256, 32)      896       \n",
            "                                                                 \n",
            " max_pooling2d (MaxPooling2D  (None, 128, 128, 32)     0         \n",
            " )                                                               \n",
            "                                                                 \n",
            " conv2d_1 (Conv2D)           (None, 128, 128, 64)      18496     \n",
            "                                                                 \n",
            " max_pooling2d_1 (MaxPooling  (None, 64, 64, 64)       0         \n",
            " 2D)                                                             \n",
            "                                                                 \n",
            " dropout (Dropout)           (None, 64, 64, 64)        0         \n",
            "                                                                 \n",
            " conv2d_2 (Conv2D)           (None, 64, 64, 128)       73856     \n",
            "                                                                 \n",
            " max_pooling2d_2 (MaxPooling  (None, 32, 32, 128)      0         \n",
            " 2D)                                                             \n",
            "                                                                 \n",
            " dropout_1 (Dropout)         (None, 32, 32, 128)       0         \n",
            "                                                                 \n",
            " conv2d_3 (Conv2D)           (None, 32, 32, 256)       295168    \n",
            "                                                                 \n",
            " max_pooling2d_3 (MaxPooling  (None, 16, 16, 256)      0         \n",
            " 2D)                                                             \n",
            "                                                                 \n",
            " dropout_2 (Dropout)         (None, 16, 16, 256)       0         \n",
            "                                                                 \n",
            " flatten (Flatten)           (None, 65536)             0         \n",
            "                                                                 \n",
            " dense (Dense)               (None, 32)                2097184   \n",
            "                                                                 \n",
            " dropout_3 (Dropout)         (None, 32)                0         \n",
            "                                                                 \n",
            " dense_1 (Dense)             (None, 11)                363       \n",
            "                                                                 \n",
            "=================================================================\n",
            "Total params: 2,485,963\n",
            "Trainable params: 2,485,963\n",
            "Non-trainable params: 0\n",
            "_________________________________________________________________\n",
            "None\n"
          ]
        }
      ],
      "source": [
        "model_1 = create_cnn(conv_layers = 4, dense_units = 32, dropout = 0.25)\n",
        "print(model_1.summary())"
      ]
    },
    {
      "cell_type": "code",
      "execution_count": 18,
      "metadata": {
        "id": "dBmr42XssMR6"
      },
      "outputs": [],
      "source": [
        "EPOCHS = 25"
      ]
    },
    {
      "cell_type": "code",
      "execution_count": 19,
      "metadata": {
        "id": "HJeRdJkg781h"
      },
      "outputs": [],
      "source": [
        "!mkdir Checkpoints"
      ]
    },
    {
      "cell_type": "code",
      "execution_count": 20,
      "metadata": {
        "id": "txFiADgdGQN2"
      },
      "outputs": [],
      "source": [
        "cb_checkpoint = ModelCheckpoint(\"./Checkpoints/epoch_{epoch}.h5\")\n",
        "cb_earlystop = EarlyStopping(monitor='val_loss', \n",
        "                             patience=5, \n",
        "                             verbose=0, \n",
        "                             restore_best_weights=True,\n",
        "                             start_from_epoch=10)"
      ]
    },
    {
      "cell_type": "code",
      "execution_count": 21,
      "metadata": {
        "id": "bJwrwgbnrCzr"
      },
      "outputs": [],
      "source": [
        "callbacks = [cb_checkpoint, cb_earlystop]\n",
        "model_1.compile(optimizer=\"adam\", loss=\"categorical_crossentropy\", metrics=[\"accuracy\"])"
      ]
    },
    {
      "cell_type": "code",
      "source": [
        "model_1.load_weights(\"epoch_23.h5\")"
      ],
      "metadata": {
        "id": "DbPj3AZGbM7Z"
      },
      "execution_count": 22,
      "outputs": []
    },
    {
      "cell_type": "code",
      "execution_count": 23,
      "metadata": {
        "colab": {
          "base_uri": "https://localhost:8080/"
        },
        "id": "Iy87sxZ4sQK9",
        "outputId": "451df3b8-b189-4ac9-e846-0d09c177051e"
      },
      "outputs": [
        {
          "output_type": "stream",
          "name": "stdout",
          "text": [
            "Epoch 1/25\n",
            "55/55 [==============================] - 697s 12s/step - loss: 0.5761 - accuracy: 0.7909 - val_loss: 0.6312 - val_accuracy: 0.8009\n",
            "Epoch 2/25\n",
            "55/55 [==============================] - 633s 12s/step - loss: 0.5975 - accuracy: 0.7765 - val_loss: 0.9226 - val_accuracy: 0.6674\n",
            "Epoch 3/25\n",
            "55/55 [==============================] - 630s 11s/step - loss: 0.5847 - accuracy: 0.7909 - val_loss: 0.8739 - val_accuracy: 0.7775\n",
            "Epoch 4/25\n",
            "55/55 [==============================] - 656s 12s/step - loss: 0.5492 - accuracy: 0.8036 - val_loss: 0.6137 - val_accuracy: 0.8267\n",
            "Epoch 5/25\n",
            "55/55 [==============================] - 652s 12s/step - loss: 0.4949 - accuracy: 0.8059 - val_loss: 0.8073 - val_accuracy: 0.7260\n",
            "Epoch 6/25\n",
            "55/55 [==============================] - 630s 12s/step - loss: 0.5285 - accuracy: 0.8076 - val_loss: 1.1308 - val_accuracy: 0.7026\n",
            "Epoch 7/25\n",
            "55/55 [==============================] - 636s 12s/step - loss: 0.4916 - accuracy: 0.8283 - val_loss: 0.7267 - val_accuracy: 0.7892\n",
            "Epoch 8/25\n",
            "55/55 [==============================] - 629s 11s/step - loss: 0.4643 - accuracy: 0.8278 - val_loss: 0.6816 - val_accuracy: 0.7892\n",
            "Epoch 9/25\n",
            "55/55 [==============================] - 636s 12s/step - loss: 0.4763 - accuracy: 0.8295 - val_loss: 0.6997 - val_accuracy: 0.7845\n",
            "Epoch 10/25\n",
            "55/55 [==============================] - 630s 11s/step - loss: 0.4417 - accuracy: 0.8370 - val_loss: 0.7612 - val_accuracy: 0.7752\n",
            "Epoch 11/25\n",
            "55/55 [==============================] - 632s 12s/step - loss: 0.4499 - accuracy: 0.8358 - val_loss: 0.8415 - val_accuracy: 0.7564\n",
            "Epoch 12/25\n",
            "55/55 [==============================] - 627s 11s/step - loss: 0.4486 - accuracy: 0.8324 - val_loss: 0.7680 - val_accuracy: 0.7822\n",
            "Epoch 13/25\n",
            "55/55 [==============================] - 637s 12s/step - loss: 0.4574 - accuracy: 0.8347 - val_loss: 0.7026 - val_accuracy: 0.8103\n",
            "Epoch 14/25\n",
            "55/55 [==============================] - 649s 12s/step - loss: 0.4325 - accuracy: 0.8462 - val_loss: 0.8539 - val_accuracy: 0.7588\n",
            "Epoch 15/25\n",
            "55/55 [==============================] - 645s 12s/step - loss: 0.4180 - accuracy: 0.8502 - val_loss: 0.7290 - val_accuracy: 0.7916\n",
            "Epoch 16/25\n",
            "55/55 [==============================] - 636s 12s/step - loss: 0.3725 - accuracy: 0.8623 - val_loss: 1.4735 - val_accuracy: 0.6909\n",
            "Epoch 17/25\n",
            "55/55 [==============================] - 632s 12s/step - loss: 0.4406 - accuracy: 0.8410 - val_loss: 0.8753 - val_accuracy: 0.7471\n",
            "Epoch 18/25\n",
            "55/55 [==============================] - 632s 12s/step - loss: 0.4513 - accuracy: 0.8353 - val_loss: 0.9546 - val_accuracy: 0.7354\n"
          ]
        }
      ],
      "source": [
        "history = model_1.fit(dataset_train, epochs=EPOCHS, callbacks=callbacks, validation_data=dataset_val)"
      ]
    },
    {
      "cell_type": "code",
      "source": [
        "model_1.evaluate(dataset_val)"
      ],
      "metadata": {
        "id": "xoczaJugK5j5",
        "outputId": "6ef1819d-6959-4985-e491-1a9a4af97406",
        "colab": {
          "base_uri": "https://localhost:8080/"
        }
      },
      "execution_count": 24,
      "outputs": [
        {
          "output_type": "stream",
          "name": "stdout",
          "text": [
            "14/14 [==============================] - 124s 9s/step - loss: 0.7072 - accuracy: 0.8126\n"
          ]
        },
        {
          "output_type": "execute_result",
          "data": {
            "text/plain": [
              "[0.7072312235832214, 0.8126463890075684]"
            ]
          },
          "metadata": {},
          "execution_count": 24
        }
      ]
    },
    {
      "cell_type": "code",
      "source": [
        "model_1.save_weights(\"model_1_earlystop.h5\")"
      ],
      "metadata": {
        "id": "1iAAwdPxLjYq"
      },
      "execution_count": 25,
      "outputs": []
    },
    {
      "cell_type": "code",
      "execution_count": 27,
      "metadata": {
        "colab": {
          "base_uri": "https://localhost:8080/"
        },
        "id": "h3xw1BebbZGd",
        "outputId": "b0f27cc6-394f-4b92-c146-4ffd0f0224e6"
      },
      "outputs": [
        {
          "output_type": "stream",
          "name": "stdout",
          "text": [
            "2/2 [==============================] - 19s 7s/step - loss: 0.9723 - accuracy: 0.8000\n",
            "Loss: 0.9723005294799805 Accuracy: 0.800000011920929\n"
          ]
        }
      ],
      "source": [
        "results = model_1.evaluate(dataset_test)\n",
        "print(\"Loss: \"+str(results[0])+\" Accuracy: \" + str(results[1]))"
      ]
    },
    {
      "cell_type": "markdown",
      "source": [
        "Result after 41 epochs of training (23 + 18, early stopped) </br>\n",
        "Previous notebook's runtime was disconnected by Colab, but the model weights were saved as checkpoints at each stage and download, and so the current notebook starting with the previous epoch 23 weights."
      ],
      "metadata": {
        "id": "2Tz4oKWTMMWG"
      }
    },
    {
      "cell_type": "markdown",
      "metadata": {
        "id": "3KtRjDDPq1a2"
      },
      "source": [
        "**Save Model Weights & Training History**"
      ]
    },
    {
      "cell_type": "code",
      "execution_count": 26,
      "metadata": {
        "id": "GOqTsFwzh8bo"
      },
      "outputs": [],
      "source": [
        "import numpy as np\n",
        "np.save(\"trainingHist.npy\",history)"
      ]
    },
    {
      "cell_type": "markdown",
      "metadata": {
        "id": "c_KNWy8fqYmx"
      },
      "source": [
        "**Plot Training and Validation Results**"
      ]
    },
    {
      "cell_type": "code",
      "execution_count": 28,
      "metadata": {
        "colab": {
          "base_uri": "https://localhost:8080/",
          "height": 410
        },
        "id": "tFXu37Kkliob",
        "outputId": "2fff2db9-cbd7-4960-ad1e-efb53ead556c"
      },
      "outputs": [
        {
          "output_type": "display_data",
          "data": {
            "text/plain": [
              "<Figure size 1000x400 with 2 Axes>"
            ],
            "image/png": "[encoded data removed]"
          },
          "metadata": {}
        }
      ],
      "source": [
        "plt.figure(figsize=(10,4))\n",
        "\n",
        "plt.subplot(1,2,1)\n",
        "plt.ylim(0,1)\n",
        "plt.grid(True, \"both\", linestyle=\"--\")\n",
        "plt.plot(history.history['accuracy'])\n",
        "plt.plot(history.history['val_accuracy'])\n",
        "plt.title('Model Accuracy')\n",
        "plt.ylabel('Accuracy')\n",
        "plt.xlabel('Epoch')\n",
        "plt.legend(['Train', 'Validation'], loc='lower right')\n",
        "\n",
        "plt.subplot(1,2,2)\n",
        "plt.grid(True, \"both\", linestyle=\"--\")\n",
        "plt.plot(history.history['loss'])\n",
        "plt.plot(history.history['val_loss'])\n",
        "plt.title('Model Loss')\n",
        "plt.ylabel('Loss')\n",
        "plt.xlabel('Epoch')\n",
        "plt.legend(['Train', 'Validation'], loc='upper right')\n",
        "\n",
        "plt.show()"
      ]
    }
  ],
  "metadata": {
    "accelerator": "GPU",
    "colab": {
      "provenance": []
    },
    "gpuClass": "standard",
    "kernelspec": {
      "display_name": "Python 3",
      "name": "python3"
    },
    "language_info": {
      "name": "python"
    }
  },
  "nbformat": 4,
  "nbformat_minor": 0
}