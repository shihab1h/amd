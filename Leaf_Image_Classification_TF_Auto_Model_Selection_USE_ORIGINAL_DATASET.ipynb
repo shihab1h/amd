{
  "nbformat": 4,
  "nbformat_minor": 0,
  "metadata": {
    "colab": {
      "provenance": [],
      "gpuType": "T4",
      "authorship_tag": "ABX9TyPIN0KI2wUcx/nsDz17JpHs",
      "include_colab_link": true
    },
    "kernelspec": {
      "name": "python3",
      "display_name": "Python 3"
    },
    "language_info": {
      "name": "python"
    },
    "accelerator": "GPU"
  },
  "cells": [
    {
      "cell_type": "markdown",
      "metadata": {
        "id": "view-in-github",
        "colab_type": "text"
      },
      "source": [
        "<a href=\"https://colab.research.google.com/github/shihab1h/leaf_image_classification/blob/main/Leaf_Image_Classification_TF_Auto_Model_Selection_USE_ORIGINAL_DATASET.ipynb\" target=\"_parent\"><img src=\"https://colab.research.google.com/assets/colab-badge.svg\" alt=\"Open In Colab\"/></a>"
      ]
    },
    {
      "cell_type": "markdown",
      "source": [
        "## Libraries"
      ],
      "metadata": {
        "id": "UajZdi6rvupH"
      }
    },
    {
      "cell_type": "code",
      "execution_count": 1,
      "metadata": {
        "id": "8QgPyuzZS08X"
      },
      "outputs": [],
      "source": [
        "from google.colab import files, drive\n",
        "import os\n",
        "import shutil\n",
        "from PIL import Image\n",
        "import sys\n",
        "import glob\n",
        "from IPython.display import display, clear_output\n",
        "import matplotlib.pyplot as plt"
      ]
    },
    {
      "cell_type": "code",
      "source": [
        "import tensorflow as tf\n",
        "from tensorflow.keras.utils import image_dataset_from_directory\n",
        "from tensorflow.keras.models import Sequential\n",
        "from tensorflow.keras.layers import Input, RandomFlip, RandomRotation, RandomBrightness, Rescaling\n",
        "from tensorflow.keras.layers import Conv2D, MaxPooling2D, Dropout, Flatten, Dense, Softmax\n",
        "from tensorflow.keras.callbacks import ModelCheckpoint, EarlyStopping"
      ],
      "metadata": {
        "id": "SoZRCI0jwd2o"
      },
      "execution_count": 2,
      "outputs": []
    },
    {
      "cell_type": "code",
      "source": [
        "!pip install keras_tuner\n",
        "import keras_tuner as kt"
      ],
      "metadata": {
        "colab": {
          "base_uri": "https://localhost:8080/"
        },
        "id": "np5jVF6tAzmq",
        "outputId": "413beae8-1e93-4093-a7cf-4f910e0f3ec8"
      },
      "execution_count": 3,
      "outputs": [
        {
          "output_type": "stream",
          "name": "stdout",
          "text": [
            "Looking in indexes: https://pypi.org/simple, https://us-python.pkg.dev/colab-wheels/public/simple/\n",
            "Collecting keras_tuner\n",
            "  Downloading keras_tuner-1.3.5-py3-none-any.whl (176 kB)\n",
            "\u001b[2K     \u001b[90m━━━━━━━━━━━━━━━━━━━━━━━━━━━━━━━━━━━━━━━\u001b[0m \u001b[32m176.1/176.1 kB\u001b[0m \u001b[31m9.2 MB/s\u001b[0m eta \u001b[36m0:00:00\u001b[0m\n",
            "\u001b[?25hRequirement already satisfied: packaging in /usr/local/lib/python3.10/dist-packages (from keras_tuner) (23.1)\n",
            "Requirement already satisfied: requests in /usr/local/lib/python3.10/dist-packages (from keras_tuner) (2.27.1)\n",
            "Collecting kt-legacy (from keras_tuner)\n",
            "  Downloading kt_legacy-1.0.5-py3-none-any.whl (9.6 kB)\n",
            "Requirement already satisfied: urllib3<1.27,>=1.21.1 in /usr/local/lib/python3.10/dist-packages (from requests->keras_tuner) (1.26.15)\n",
            "Requirement already satisfied: certifi>=2017.4.17 in /usr/local/lib/python3.10/dist-packages (from requests->keras_tuner) (2022.12.7)\n",
            "Requirement already satisfied: charset-normalizer~=2.0.0 in /usr/local/lib/python3.10/dist-packages (from requests->keras_tuner) (2.0.12)\n",
            "Requirement already satisfied: idna<4,>=2.5 in /usr/local/lib/python3.10/dist-packages (from requests->keras_tuner) (3.4)\n",
            "Installing collected packages: kt-legacy, keras_tuner\n",
            "Successfully installed keras_tuner-1.3.5 kt-legacy-1.0.5\n"
          ]
        }
      ]
    },
    {
      "cell_type": "code",
      "source": [
        "import numpy as np\n",
        "from sklearn.metrics import classification_report, confusion_matrix\n",
        "import seaborn as sns"
      ],
      "metadata": {
        "id": "XGEdgCz3U_wn"
      },
      "execution_count": 4,
      "outputs": []
    },
    {
      "cell_type": "code",
      "source": [
        "# Delete Unzipped Unempty Directory containing Dataset\n",
        "# Uncommend Code in case of need (e.g., need intact unzipped dataset)\n",
        "# shutil.rmtree(\"./Plants_2\")"
      ],
      "metadata": {
        "id": "a26btQ8YvA-x"
      },
      "execution_count": 5,
      "outputs": []
    },
    {
      "cell_type": "markdown",
      "source": [
        "## Global Variables"
      ],
      "metadata": {
        "id": "2IQjoNduvzEr"
      }
    },
    {
      "cell_type": "code",
      "source": [
        "# Choose Source of Dataset\n",
        "DATASET_FROM_SCRATCH = True\n",
        "\n",
        "# IF True: download, unzip, resize dataset from scratch\n",
        "# Estimated time on free Colab instance is 20 mins\n",
        "\n",
        "# IF False: download a saved previously preprocess dataset"
      ],
      "metadata": {
        "id": "TBVLZA3Qw3U5"
      },
      "execution_count": 6,
      "outputs": []
    },
    {
      "cell_type": "code",
      "source": [
        "# Choose Wether to Save Model and/or Processed Dataset to Drive\n",
        "SAVE_TO_DRIVE = False \n",
        "\n",
        "# IF True:\n",
        "# Save processed dataset to drive in case of DATASET_FROM_SCRATCH == True\n",
        "# Save models in any case\n",
        "\n",
        "# If DATASET_FROM_SCRATCH == False, user still has to mount drive to load preprocessed dataset"
      ],
      "metadata": {
        "id": "FwDf64kN1TeH"
      },
      "execution_count": 7,
      "outputs": []
    },
    {
      "cell_type": "code",
      "source": [
        "# Paths as Folder Structure\n",
        "paths = [\"Plants_2/train\", \"Plants_2/valid\", \"Plants_2/test\"]\n",
        "paths = [os.path.join(os.getcwd(), path) for path in paths]"
      ],
      "metadata": {
        "id": "RreqaeCPvGGz"
      },
      "execution_count": 8,
      "outputs": []
    },
    {
      "cell_type": "code",
      "source": [
        "# Data Processing Parameters\n",
        "PATH_KEYWORD = 'diseased' # Used in del_subdirs()\n",
        "RESIZE_PIXELS = 512 # Used in resize_images()"
      ],
      "metadata": {
        "id": "LNjLijuXwNDS"
      },
      "execution_count": 9,
      "outputs": []
    },
    {
      "cell_type": "code",
      "source": [
        "IMG_SIZE = 256 # Assumed Square Image IMG_SIZE x IMG_SIZE\n",
        "SEED = 12345"
      ],
      "metadata": {
        "id": "QJsI31t5wKo9"
      },
      "execution_count": 10,
      "outputs": []
    },
    {
      "cell_type": "code",
      "source": [
        "MAX_TRIALS_TUNER = 10\n",
        "EPOCHS_TUNER = 10"
      ],
      "metadata": {
        "id": "XpFQSqy7GK-G"
      },
      "execution_count": 11,
      "outputs": []
    },
    {
      "cell_type": "code",
      "source": [
        "EPOCHS_FIT = 100"
      ],
      "metadata": {
        "id": "Z3Cz6rwshcG4"
      },
      "execution_count": 12,
      "outputs": []
    },
    {
      "cell_type": "markdown",
      "source": [
        "## Functions"
      ],
      "metadata": {
        "id": "F_UkHplQvhP4"
      }
    },
    {
      "cell_type": "code",
      "source": [
        "# Function to Delete Subdirectories Selectively\n",
        "def del_subdirs(path, keyword):\n",
        "  paths_to_delete = [sd for sd in os.listdir(path) if keyword in sd]\n",
        "  for p2d in paths_to_delete:\n",
        "    shutil.rmtree(os.path.join(path, p2d))\n",
        "  return"
      ],
      "metadata": {
        "id": "YEyyBQq7vXSF"
      },
      "execution_count": 13,
      "outputs": []
    },
    {
      "cell_type": "code",
      "source": [
        "# Function to Resize Images\n",
        "def resize_image(img_path):\n",
        "  img = Image.open(img_path)\n",
        "  img_resized = img.resize((IMG_SIZE, IMG_SIZE), Image.NEAREST)\n",
        "  img_path_resized = img_path[:-4] + \"_resized\" + img_path[-4:]\n",
        "  img_resized.save(img_path_resized, 'JPEG', quality=90)\n",
        "  os.remove(img_path)"
      ],
      "metadata": {
        "id": "zalNJqi2rY9v"
      },
      "execution_count": 14,
      "outputs": []
    },
    {
      "cell_type": "code",
      "source": [
        "# Function to Resize Images\n",
        "def resize_images(size_pixels):\n",
        "  i = 0\n",
        "  for path_subdir in paths:\n",
        "    for img_path in glob.iglob(path_subdir + '/*/*.JPG', recursive=True):\n",
        "        img = Image.open(img_path)\n",
        "        img_resized = img.resize((size_pixels, size_pixels), Image.NEAREST)\n",
        "        img_path_resized = img_path[:-4] + \"_resized\" + img_path[-4:]\n",
        "        img_resized.save(img_path_resized, 'JPEG', quality=90)\n",
        "        os.remove(img_path)\n",
        "        clear_output(wait=True)\n",
        "        i += 1\n",
        "        display('Images resized: ' + str(i))"
      ],
      "metadata": {
        "id": "pz2qSxONrDux"
      },
      "execution_count": 15,
      "outputs": []
    },
    {
      "cell_type": "code",
      "source": [
        "# Function to Resize Images\n",
        "def resize_images(size_pixels):\n",
        "  i = 0\n",
        "  for path_subdir in paths:\n",
        "    for img_path in glob.iglob(path_subdir + '/*/*.JPG', recursive=True):\n",
        "        img = Image.open(img_path)\n",
        "        img_resized = img.resize((size_pixels, size_pixels), Image.NEAREST)\n",
        "        img_path_resized = img_path[:-4] + \"_resized\" + img_path[-4:]\n",
        "        img_resized.save(img_path_resized, 'JPEG', quality=90)\n",
        "        os.remove(img_path)\n",
        "        clear_output(wait=True)\n",
        "        i += 1\n",
        "        display('Images resized: ' + str(i))"
      ],
      "metadata": {
        "id": "5M3Jkj5nvggW"
      },
      "execution_count": 16,
      "outputs": []
    },
    {
      "cell_type": "code",
      "source": [
        "# Function to Build Deep Learning Model\n",
        "def make_model(params):\n",
        "  # Hyperparameters Search Space\n",
        "  DROPOUT_CONV = params.Float(\"dropout_conv\", min_value = 0.1, max_value = 0.3, step = 0.1)\n",
        "  DROPOUT_DENSE = params.Float(\"dropout_dense\", min_value = 0.3, max_value = 0.5, step = 0.1)\n",
        "\n",
        "  FILTERS_1 = params.Int(\"CL1_filters\", min_value=16, max_value=32, step=8)\n",
        "  FILTERS_2 = params.Int(\"+CL2_addl_filters\", min_value=16, max_value=32, step=8)\n",
        "  FILTERS_3 = params.Int(\"+CL3_addl_filters\", min_value=16, max_value=32, step=8)\n",
        "\n",
        "  UNITS_DENSE = params.Int(\"units_dense\", min_value=8, max_value=32, step=8)\n",
        "  OPTIMIZER = params.Choice(\"optimizer\", values = [\"adam\", \"sgd\"])\n",
        "\n",
        "  # Build Model\n",
        "  model = Sequential(\n",
        "      [\n",
        "          Input(shape=(IMG_SIZE, IMG_SIZE, 3)),\n",
        "          RandomFlip(\"horizontal\"),\n",
        "          RandomFlip(\"vertical\"),\n",
        "          RandomRotation(0.2),\n",
        "          RandomBrightness(0.2),\n",
        "          Rescaling(scale=1/127.5, offset=-1),\n",
        "          Conv2D(filters=FILTERS_1, kernel_size=3, padding=\"same\", activation=\"relu\"),\n",
        "          MaxPooling2D(),\n",
        "          Dropout(DROPOUT_CONV),\n",
        "          Conv2D(filters=FILTERS_1+FILTERS_2, kernel_size=3, padding=\"same\", activation=\"relu\"),\n",
        "          MaxPooling2D(),\n",
        "          Dropout(DROPOUT_CONV),\n",
        "          Conv2D(filters=FILTERS_1+FILTERS_2+FILTERS_3, kernel_size=3, padding=\"same\", activation=\"relu\"),\n",
        "          MaxPooling2D(),\n",
        "          Dropout(DROPOUT_CONV),\n",
        "          Flatten(),\n",
        "          Dense(UNITS_DENSE),\n",
        "          Dropout(DROPOUT_DENSE),\n",
        "          Dense(NUM_CLASSES),\n",
        "          Softmax()\n",
        "      ]\n",
        "  )\n",
        "\n",
        "  # Compile Model\n",
        "  model.compile(optimizer=OPTIMIZER, loss=\"sparse_categorical_crossentropy\", metrics=[\"accuracy\"])\n",
        "\n",
        "  return model\n"
      ],
      "metadata": {
        "id": "aW-brsTi8Jod"
      },
      "execution_count": 17,
      "outputs": []
    },
    {
      "cell_type": "markdown",
      "source": [
        "## Dataset"
      ],
      "metadata": {
        "id": "bd96AR6KwoMX"
      }
    },
    {
      "cell_type": "code",
      "source": [
        "# Mount Google Drive\n",
        "# Required either way to save to OR read from the processed dataset\n",
        "# Requires user permission\n",
        "if SAVE_TO_DRIVE or not DATASET_FROM_SCRATCH:\n",
        "  drive.mount('/content/drive')\n",
        "# If using the preprocessed dataset, must mount Google Drive\n",
        "# If handling dataset from scratch and saving it and the models is desired"
      ],
      "metadata": {
        "id": "gildeUHw1JXV"
      },
      "execution_count": 18,
      "outputs": []
    },
    {
      "cell_type": "code",
      "source": [
        "# Prepare Dataset\n",
        "if DATASET_FROM_SCRATCH:\n",
        "  # Download Original Dataset and Perform All Preprocessing from Scratch\n",
        "  print(\"SELECTED OPTION: Use Original Dataset\")\n",
        "  print(\"The original dataset approx 8 GB will be downloaded and processed\")\n",
        "  print(\"This procedure could take about 20 mins on a free Colab instance.\")\n",
        "  print(\"-----------------------------------------------------------------\")\n",
        "\n",
        "  # Upload Kaggle Credentials JSON File\n",
        "  print(\"STEP 1: Upload Kaggle JSON Credintials\")\n",
        "  kaggle_token = files.upload()\n",
        "\n",
        "  # Set Kaggle Directory Variable to Locate Kaggle Credentials\n",
        "  os.environ['KAGGLE_CONFIG_DIR'] = os.getcwd()\n",
        "\n",
        "  # Download Kaggle Dataset\n",
        "  print(\"STEP 2: Download Dataset\")\n",
        "  !kaggle datasets download -d csafrit2/plant-leaves-for-image-classification\n",
        "\n",
        "  # Unzip Dataset\n",
        "  print(\"STEP 3: Unzip Dataset\")\n",
        "  !unzip -q /content/plant-leaves-for-image-classification.zip\n",
        "\n",
        "  # Delete Diseased Images\n",
        "  print(\"STEP 4: Delete Certain Subdirectories\")\n",
        "  for path in paths:\n",
        "    del_subdirs(path, PATH_KEYWORD)\n",
        "\n",
        "  # Resize Images\n",
        "  print(\"STEP 5: Resize Images\")\n",
        "  resize_images(RESIZE_PIXELS)\n",
        "\n",
        "  if SAVE_TO_DRIVE:\n",
        "    # ZIP Processed Dataset\n",
        "    print(\"STEP 6: Zip Processed Dataset\")\n",
        "    !zip -r -q /content/Plants_2.zip /content/Plants_2\n",
        "\n",
        "    # Save Processed Dataset to Google Drive\n",
        "    print(\"STEP 7: Save Processed Dataset to Drive\")\n",
        "    shutil.copy(\"/content/Plants_2.zip\",\"/content/drive/MyDrive/\")\n",
        "\n",
        "else:\n",
        "  # Use Previously Preprocessed Dataset, to save time\n",
        "  print(\"SELECTED OPTION: Use Previously Preprocessed Dataset\")\n",
        "  !unzip -q /content/drive/MyDrive/Plants_2.zip -d /"
      ],
      "metadata": {
        "colab": {
          "base_uri": "https://localhost:8080/",
          "height": 36
        },
        "id": "DMuUUGjsTJ43",
        "outputId": "8ca3dd03-5f64-4b5f-ac91-e97ff36b28ff"
      },
      "execution_count": 19,
      "outputs": [
        {
          "output_type": "display_data",
          "data": {
            "text/plain": [
              "'Images resized: 2273'"
            ],
            "application/vnd.google.colaboratory.intrinsic+json": {
              "type": "string"
            }
          },
          "metadata": {}
        }
      ]
    },
    {
      "cell_type": "markdown",
      "source": [
        "## Model"
      ],
      "metadata": {
        "id": "JGR1JFWT7Ogw"
      }
    },
    {
      "cell_type": "code",
      "source": [
        "train_ds = image_dataset_from_directory(paths[0], image_size=(IMG_SIZE, IMG_SIZE)) # Default Batch Size: 32\n",
        "val_ds = image_dataset_from_directory(paths[1], image_size=(IMG_SIZE, IMG_SIZE))\n",
        "test_ds = image_dataset_from_directory(paths[2], image_size=(IMG_SIZE, IMG_SIZE), shuffle = False)"
      ],
      "metadata": {
        "colab": {
          "base_uri": "https://localhost:8080/"
        },
        "id": "j4U7pZE44L6t",
        "outputId": "59a1f7b0-b03c-4b10-afc1-689921532c52"
      },
      "execution_count": 20,
      "outputs": [
        {
          "output_type": "stream",
          "name": "stdout",
          "text": [
            "Found 2163 files belonging to 11 classes.\n",
            "Found 55 files belonging to 11 classes.\n",
            "Found 55 files belonging to 11 classes.\n"
          ]
        }
      ]
    },
    {
      "cell_type": "code",
      "source": [
        "CLASS_NAMES = train_ds.class_names\n",
        "NUM_CLASSES = len(CLASS_NAMES)\n",
        "true_test_labels = np.concatenate([y for x, y in test_ds], axis=0)"
      ],
      "metadata": {
        "id": "8sEPD1fKEj7X"
      },
      "execution_count": 21,
      "outputs": []
    },
    {
      "cell_type": "code",
      "source": [
        "AUTOTUNE = tf.data.AUTOTUNE\n",
        "train_ds = train_ds.shuffle(512).cache().prefetch(buffer_size=AUTOTUNE)\n",
        "val_ds = val_ds.cache().prefetch(buffer_size=AUTOTUNE)\n",
        "test_ds = test_ds.cache().prefetch(buffer_size=AUTOTUNE)"
      ],
      "metadata": {
        "id": "tvoETGQzmqx1"
      },
      "execution_count": 22,
      "outputs": []
    },
    {
      "cell_type": "code",
      "source": [
        "tuner = kt.RandomSearch(make_model, objective = \"val_accuracy\", max_trials = MAX_TRIALS_TUNER, directory = \"grid_search\")\n",
        "tuner.search(train_ds, validation_data = val_ds, epochs = EPOCHS_TUNER)"
      ],
      "metadata": {
        "colab": {
          "base_uri": "https://localhost:8080/"
        },
        "id": "MzqhlKLGBCSa",
        "outputId": "02e68316-78ac-4fac-932d-9c7156c8fdab"
      },
      "execution_count": 23,
      "outputs": [
        {
          "output_type": "stream",
          "name": "stdout",
          "text": [
            "Trial 10 Complete [00h 00m 50s]\n",
            "val_accuracy: 0.4363636374473572\n",
            "\n",
            "Best val_accuracy So Far: 0.6545454263687134\n",
            "Total elapsed time: 00h 11m 50s\n"
          ]
        }
      ]
    },
    {
      "cell_type": "code",
      "source": [
        "tuner.results_summary()"
      ],
      "metadata": {
        "colab": {
          "base_uri": "https://localhost:8080/"
        },
        "id": "hDnX6_WoknZP",
        "outputId": "bd1fa5b9-ff51-4c1e-e0bb-42b38cd33426"
      },
      "execution_count": 24,
      "outputs": [
        {
          "output_type": "stream",
          "name": "stdout",
          "text": [
            "Results summary\n",
            "Results in grid_search/untitled_project\n",
            "Showing 10 best trials\n",
            "Objective(name=\"val_accuracy\", direction=\"max\")\n",
            "\n",
            "Trial 08 summary\n",
            "Hyperparameters:\n",
            "dropout_conv: 0.1\n",
            "dropout_dense: 0.4\n",
            "CL1_filters: 24\n",
            "+CL2_addl_filters: 24\n",
            "+CL3_addl_filters: 16\n",
            "units_dense: 32\n",
            "optimizer: adam\n",
            "Score: 0.6545454263687134\n",
            "\n",
            "Trial 01 summary\n",
            "Hyperparameters:\n",
            "dropout_conv: 0.2\n",
            "dropout_dense: 0.5\n",
            "CL1_filters: 32\n",
            "+CL2_addl_filters: 24\n",
            "+CL3_addl_filters: 24\n",
            "units_dense: 24\n",
            "optimizer: adam\n",
            "Score: 0.6000000238418579\n",
            "\n",
            "Trial 06 summary\n",
            "Hyperparameters:\n",
            "dropout_conv: 0.2\n",
            "dropout_dense: 0.3\n",
            "CL1_filters: 24\n",
            "+CL2_addl_filters: 32\n",
            "+CL3_addl_filters: 24\n",
            "units_dense: 16\n",
            "optimizer: sgd\n",
            "Score: 0.581818163394928\n",
            "\n",
            "Trial 00 summary\n",
            "Hyperparameters:\n",
            "dropout_conv: 0.2\n",
            "dropout_dense: 0.4\n",
            "CL1_filters: 24\n",
            "+CL2_addl_filters: 16\n",
            "+CL3_addl_filters: 16\n",
            "units_dense: 24\n",
            "optimizer: sgd\n",
            "Score: 0.5272727012634277\n",
            "\n",
            "Trial 02 summary\n",
            "Hyperparameters:\n",
            "dropout_conv: 0.2\n",
            "dropout_dense: 0.5\n",
            "CL1_filters: 24\n",
            "+CL2_addl_filters: 24\n",
            "+CL3_addl_filters: 24\n",
            "units_dense: 32\n",
            "optimizer: sgd\n",
            "Score: 0.5090909004211426\n",
            "\n",
            "Trial 04 summary\n",
            "Hyperparameters:\n",
            "dropout_conv: 0.2\n",
            "dropout_dense: 0.5\n",
            "CL1_filters: 24\n",
            "+CL2_addl_filters: 16\n",
            "+CL3_addl_filters: 16\n",
            "units_dense: 8\n",
            "optimizer: adam\n",
            "Score: 0.5090909004211426\n",
            "\n",
            "Trial 05 summary\n",
            "Hyperparameters:\n",
            "dropout_conv: 0.2\n",
            "dropout_dense: 0.5\n",
            "CL1_filters: 24\n",
            "+CL2_addl_filters: 24\n",
            "+CL3_addl_filters: 32\n",
            "units_dense: 32\n",
            "optimizer: sgd\n",
            "Score: 0.4909090995788574\n",
            "\n",
            "Trial 07 summary\n",
            "Hyperparameters:\n",
            "dropout_conv: 0.2\n",
            "dropout_dense: 0.5\n",
            "CL1_filters: 24\n",
            "+CL2_addl_filters: 16\n",
            "+CL3_addl_filters: 24\n",
            "units_dense: 24\n",
            "optimizer: sgd\n",
            "Score: 0.4909090995788574\n",
            "\n",
            "Trial 09 summary\n",
            "Hyperparameters:\n",
            "dropout_conv: 0.1\n",
            "dropout_dense: 0.4\n",
            "CL1_filters: 16\n",
            "+CL2_addl_filters: 24\n",
            "+CL3_addl_filters: 16\n",
            "units_dense: 24\n",
            "optimizer: sgd\n",
            "Score: 0.4363636374473572\n",
            "\n",
            "Trial 03 summary\n",
            "Hyperparameters:\n",
            "dropout_conv: 0.2\n",
            "dropout_dense: 0.4\n",
            "CL1_filters: 16\n",
            "+CL2_addl_filters: 16\n",
            "+CL3_addl_filters: 24\n",
            "units_dense: 8\n",
            "optimizer: sgd\n",
            "Score: 0.4000000059604645\n"
          ]
        }
      ]
    },
    {
      "cell_type": "code",
      "source": [
        "best_params = tuner.get_best_hyperparameters()[0]\n",
        "best_params.get_config()[\"values\"]"
      ],
      "metadata": {
        "colab": {
          "base_uri": "https://localhost:8080/"
        },
        "id": "byqyqDCnFNio",
        "outputId": "ffc5bba7-39ad-4eed-d885-714030dd24b5"
      },
      "execution_count": 25,
      "outputs": [
        {
          "output_type": "execute_result",
          "data": {
            "text/plain": [
              "{'dropout_conv': 0.1,\n",
              " 'dropout_dense': 0.4,\n",
              " 'CL1_filters': 24,\n",
              " '+CL2_addl_filters': 24,\n",
              " '+CL3_addl_filters': 16,\n",
              " 'units_dense': 32,\n",
              " 'optimizer': 'adam'}"
            ]
          },
          "metadata": {},
          "execution_count": 25
        }
      ]
    },
    {
      "cell_type": "code",
      "source": [
        "model = tuner.hypermodel.build(best_params)"
      ],
      "metadata": {
        "id": "YaoLVsDmFdtW"
      },
      "execution_count": 26,
      "outputs": []
    },
    {
      "cell_type": "code",
      "source": [
        "model.summary()"
      ],
      "metadata": {
        "colab": {
          "base_uri": "https://localhost:8080/"
        },
        "id": "r4hM-YzDFwG6",
        "outputId": "046cac73-7f0e-4dce-94a4-9451cf2de1f5"
      },
      "execution_count": 27,
      "outputs": [
        {
          "output_type": "stream",
          "name": "stdout",
          "text": [
            "Model: \"sequential_1\"\n",
            "_________________________________________________________________\n",
            " Layer (type)                Output Shape              Param #   \n",
            "=================================================================\n",
            " random_flip_2 (RandomFlip)  (None, 256, 256, 3)       0         \n",
            "                                                                 \n",
            " random_flip_3 (RandomFlip)  (None, 256, 256, 3)       0         \n",
            "                                                                 \n",
            " random_rotation_1 (RandomRo  (None, 256, 256, 3)      0         \n",
            " tation)                                                         \n",
            "                                                                 \n",
            " random_brightness_1 (Random  (None, 256, 256, 3)      0         \n",
            " Brightness)                                                     \n",
            "                                                                 \n",
            " rescaling_1 (Rescaling)     (None, 256, 256, 3)       0         \n",
            "                                                                 \n",
            " conv2d_3 (Conv2D)           (None, 256, 256, 24)      672       \n",
            "                                                                 \n",
            " max_pooling2d_3 (MaxPooling  (None, 128, 128, 24)     0         \n",
            " 2D)                                                             \n",
            "                                                                 \n",
            " dropout_4 (Dropout)         (None, 128, 128, 24)      0         \n",
            "                                                                 \n",
            " conv2d_4 (Conv2D)           (None, 128, 128, 48)      10416     \n",
            "                                                                 \n",
            " max_pooling2d_4 (MaxPooling  (None, 64, 64, 48)       0         \n",
            " 2D)                                                             \n",
            "                                                                 \n",
            " dropout_5 (Dropout)         (None, 64, 64, 48)        0         \n",
            "                                                                 \n",
            " conv2d_5 (Conv2D)           (None, 64, 64, 64)        27712     \n",
            "                                                                 \n",
            " max_pooling2d_5 (MaxPooling  (None, 32, 32, 64)       0         \n",
            " 2D)                                                             \n",
            "                                                                 \n",
            " dropout_6 (Dropout)         (None, 32, 32, 64)        0         \n",
            "                                                                 \n",
            " flatten_1 (Flatten)         (None, 65536)             0         \n",
            "                                                                 \n",
            " dense_2 (Dense)             (None, 32)                2097184   \n",
            "                                                                 \n",
            " dropout_7 (Dropout)         (None, 32)                0         \n",
            "                                                                 \n",
            " dense_3 (Dense)             (None, 11)                363       \n",
            "                                                                 \n",
            " softmax_1 (Softmax)         (None, 11)                0         \n",
            "                                                                 \n",
            "=================================================================\n",
            "Total params: 2,136,347\n",
            "Trainable params: 2,136,347\n",
            "Non-trainable params: 0\n",
            "_________________________________________________________________\n"
          ]
        }
      ]
    },
    {
      "cell_type": "code",
      "source": [
        "earlystop = EarlyStopping(monitor='val_loss', patience=5, restore_best_weights=True, start_from_epoch=50)"
      ],
      "metadata": {
        "id": "JR_7Rq_3GB_x"
      },
      "execution_count": 28,
      "outputs": []
    },
    {
      "cell_type": "code",
      "source": [
        "history = model.fit(train_ds, validation_data=val_ds, epochs=EPOCHS_FIT, callbacks=[earlystop])\n"
      ],
      "metadata": {
        "colab": {
          "base_uri": "https://localhost:8080/"
        },
        "id": "p5Zq9VpwFxvC",
        "outputId": "8272d25a-c777-4326-c39c-1a32865debbf"
      },
      "execution_count": 29,
      "outputs": [
        {
          "output_type": "stream",
          "name": "stdout",
          "text": [
            "Epoch 1/100\n",
            "68/68 [==============================] - 9s 88ms/step - loss: 2.3324 - accuracy: 0.2450 - val_loss: 1.8700 - val_accuracy: 0.3273\n",
            "Epoch 2/100\n",
            "68/68 [==============================] - 6s 86ms/step - loss: 1.8243 - accuracy: 0.3749 - val_loss: 1.5518 - val_accuracy: 0.5273\n",
            "Epoch 3/100\n",
            "68/68 [==============================] - 6s 84ms/step - loss: 1.7029 - accuracy: 0.4350 - val_loss: 1.5209 - val_accuracy: 0.5273\n",
            "Epoch 4/100\n",
            "68/68 [==============================] - 6s 84ms/step - loss: 1.5995 - accuracy: 0.4656 - val_loss: 1.3862 - val_accuracy: 0.5636\n",
            "Epoch 5/100\n",
            "68/68 [==============================] - 6s 85ms/step - loss: 1.4928 - accuracy: 0.4956 - val_loss: 1.2844 - val_accuracy: 0.6364\n",
            "Epoch 6/100\n",
            "68/68 [==============================] - 6s 84ms/step - loss: 1.4052 - accuracy: 0.5220 - val_loss: 1.2274 - val_accuracy: 0.5091\n",
            "Epoch 7/100\n",
            "68/68 [==============================] - 6s 83ms/step - loss: 1.3302 - accuracy: 0.5469 - val_loss: 1.1581 - val_accuracy: 0.5636\n",
            "Epoch 8/100\n",
            "68/68 [==============================] - 6s 82ms/step - loss: 1.1966 - accuracy: 0.6056 - val_loss: 1.2328 - val_accuracy: 0.4909\n",
            "Epoch 9/100\n",
            "68/68 [==============================] - 6s 83ms/step - loss: 1.1529 - accuracy: 0.6158 - val_loss: 1.1339 - val_accuracy: 0.5273\n",
            "Epoch 10/100\n",
            "68/68 [==============================] - 6s 81ms/step - loss: 1.0668 - accuracy: 0.6357 - val_loss: 0.9820 - val_accuracy: 0.6364\n",
            "Epoch 11/100\n",
            "68/68 [==============================] - 6s 82ms/step - loss: 0.9888 - accuracy: 0.6741 - val_loss: 0.8773 - val_accuracy: 0.6364\n",
            "Epoch 12/100\n",
            "68/68 [==============================] - 6s 81ms/step - loss: 0.9343 - accuracy: 0.7013 - val_loss: 1.5434 - val_accuracy: 0.5091\n",
            "Epoch 13/100\n",
            "68/68 [==============================] - 6s 82ms/step - loss: 1.1207 - accuracy: 0.6186 - val_loss: 0.9184 - val_accuracy: 0.6000\n",
            "Epoch 14/100\n",
            "68/68 [==============================] - 5s 80ms/step - loss: 0.9994 - accuracy: 0.6713 - val_loss: 1.0962 - val_accuracy: 0.6364\n",
            "Epoch 15/100\n",
            "68/68 [==============================] - 6s 82ms/step - loss: 0.8813 - accuracy: 0.6990 - val_loss: 1.1307 - val_accuracy: 0.5273\n",
            "Epoch 16/100\n",
            "68/68 [==============================] - 5s 80ms/step - loss: 0.8416 - accuracy: 0.7263 - val_loss: 0.9790 - val_accuracy: 0.5636\n",
            "Epoch 17/100\n",
            "68/68 [==============================] - 6s 81ms/step - loss: 0.7967 - accuracy: 0.7272 - val_loss: 0.8306 - val_accuracy: 0.7091\n",
            "Epoch 18/100\n",
            "68/68 [==============================] - 6s 82ms/step - loss: 0.7615 - accuracy: 0.7531 - val_loss: 0.7549 - val_accuracy: 0.6545\n",
            "Epoch 19/100\n",
            "68/68 [==============================] - 6s 81ms/step - loss: 0.7279 - accuracy: 0.7587 - val_loss: 0.7724 - val_accuracy: 0.7455\n",
            "Epoch 20/100\n",
            "68/68 [==============================] - 6s 82ms/step - loss: 0.7193 - accuracy: 0.7638 - val_loss: 0.6723 - val_accuracy: 0.7273\n",
            "Epoch 21/100\n",
            "68/68 [==============================] - 6s 81ms/step - loss: 0.7149 - accuracy: 0.7568 - val_loss: 0.9941 - val_accuracy: 0.6909\n",
            "Epoch 22/100\n",
            "68/68 [==============================] - 6s 81ms/step - loss: 0.7242 - accuracy: 0.7573 - val_loss: 0.9875 - val_accuracy: 0.6364\n",
            "Epoch 23/100\n",
            "68/68 [==============================] - 6s 81ms/step - loss: 0.7491 - accuracy: 0.7573 - val_loss: 0.7489 - val_accuracy: 0.6909\n",
            "Epoch 24/100\n",
            "68/68 [==============================] - 5s 80ms/step - loss: 0.7173 - accuracy: 0.7698 - val_loss: 0.7207 - val_accuracy: 0.7818\n",
            "Epoch 25/100\n",
            "68/68 [==============================] - 6s 81ms/step - loss: 0.7002 - accuracy: 0.7642 - val_loss: 0.5547 - val_accuracy: 0.7818\n",
            "Epoch 26/100\n",
            "68/68 [==============================] - 5s 80ms/step - loss: 0.6110 - accuracy: 0.7966 - val_loss: 0.5759 - val_accuracy: 0.7818\n",
            "Epoch 27/100\n",
            "68/68 [==============================] - 6s 81ms/step - loss: 0.5995 - accuracy: 0.7975 - val_loss: 0.5895 - val_accuracy: 0.7636\n",
            "Epoch 28/100\n",
            "68/68 [==============================] - 5s 80ms/step - loss: 0.5727 - accuracy: 0.8026 - val_loss: 0.8182 - val_accuracy: 0.7455\n",
            "Epoch 29/100\n",
            "68/68 [==============================] - 5s 81ms/step - loss: 0.6931 - accuracy: 0.7735 - val_loss: 0.5089 - val_accuracy: 0.8000\n",
            "Epoch 30/100\n",
            "68/68 [==============================] - 5s 79ms/step - loss: 0.6157 - accuracy: 0.8026 - val_loss: 0.5458 - val_accuracy: 0.8000\n",
            "Epoch 31/100\n",
            "68/68 [==============================] - 6s 83ms/step - loss: 0.5804 - accuracy: 0.8137 - val_loss: 0.5469 - val_accuracy: 0.8182\n",
            "Epoch 32/100\n",
            "68/68 [==============================] - 5s 80ms/step - loss: 0.5791 - accuracy: 0.7998 - val_loss: 0.6427 - val_accuracy: 0.7636\n",
            "Epoch 33/100\n",
            "68/68 [==============================] - 6s 81ms/step - loss: 0.5354 - accuracy: 0.8192 - val_loss: 0.3667 - val_accuracy: 0.8909\n",
            "Epoch 34/100\n",
            "68/68 [==============================] - 5s 81ms/step - loss: 0.5161 - accuracy: 0.8155 - val_loss: 0.4856 - val_accuracy: 0.8545\n",
            "Epoch 35/100\n",
            "68/68 [==============================] - 6s 81ms/step - loss: 0.5384 - accuracy: 0.8215 - val_loss: 0.3802 - val_accuracy: 0.8727\n",
            "Epoch 36/100\n",
            "68/68 [==============================] - 5s 80ms/step - loss: 0.5018 - accuracy: 0.8331 - val_loss: 0.4039 - val_accuracy: 0.8364\n",
            "Epoch 37/100\n",
            "68/68 [==============================] - 6s 82ms/step - loss: 0.4723 - accuracy: 0.8433 - val_loss: 0.5308 - val_accuracy: 0.7455\n",
            "Epoch 38/100\n",
            "68/68 [==============================] - 5s 80ms/step - loss: 0.5047 - accuracy: 0.8303 - val_loss: 0.3236 - val_accuracy: 0.8727\n",
            "Epoch 39/100\n",
            "68/68 [==============================] - 6s 82ms/step - loss: 0.4734 - accuracy: 0.8400 - val_loss: 0.3994 - val_accuracy: 0.8364\n",
            "Epoch 40/100\n",
            "68/68 [==============================] - 5s 80ms/step - loss: 0.4764 - accuracy: 0.8400 - val_loss: 0.4105 - val_accuracy: 0.8182\n",
            "Epoch 41/100\n",
            "68/68 [==============================] - 5s 80ms/step - loss: 0.4755 - accuracy: 0.8308 - val_loss: 0.3381 - val_accuracy: 0.8545\n",
            "Epoch 42/100\n",
            "68/68 [==============================] - 5s 80ms/step - loss: 0.5228 - accuracy: 0.8289 - val_loss: 0.3371 - val_accuracy: 0.8727\n",
            "Epoch 43/100\n",
            "68/68 [==============================] - 6s 81ms/step - loss: 0.4450 - accuracy: 0.8576 - val_loss: 0.3803 - val_accuracy: 0.8545\n",
            "Epoch 44/100\n",
            "68/68 [==============================] - 5s 80ms/step - loss: 0.4770 - accuracy: 0.8382 - val_loss: 0.7784 - val_accuracy: 0.7636\n",
            "Epoch 45/100\n",
            "68/68 [==============================] - 6s 81ms/step - loss: 0.6209 - accuracy: 0.7998 - val_loss: 0.5512 - val_accuracy: 0.8000\n",
            "Epoch 46/100\n",
            "68/68 [==============================] - 5s 80ms/step - loss: 0.5371 - accuracy: 0.8262 - val_loss: 0.6463 - val_accuracy: 0.8364\n",
            "Epoch 47/100\n",
            "68/68 [==============================] - 5s 80ms/step - loss: 0.4921 - accuracy: 0.8345 - val_loss: 0.2669 - val_accuracy: 0.8909\n",
            "Epoch 48/100\n",
            "68/68 [==============================] - 5s 80ms/step - loss: 0.4121 - accuracy: 0.8669 - val_loss: 0.3481 - val_accuracy: 0.8727\n",
            "Epoch 49/100\n",
            "68/68 [==============================] - 5s 79ms/step - loss: 0.4396 - accuracy: 0.8539 - val_loss: 0.3546 - val_accuracy: 0.8545\n",
            "Epoch 50/100\n",
            "68/68 [==============================] - 5s 80ms/step - loss: 0.3695 - accuracy: 0.8849 - val_loss: 0.3895 - val_accuracy: 0.8727\n",
            "Epoch 51/100\n",
            "68/68 [==============================] - 5s 79ms/step - loss: 0.3979 - accuracy: 0.8645 - val_loss: 0.4822 - val_accuracy: 0.8364\n",
            "Epoch 52/100\n",
            "68/68 [==============================] - 5s 80ms/step - loss: 0.4130 - accuracy: 0.8562 - val_loss: 0.3846 - val_accuracy: 0.8545\n",
            "Epoch 53/100\n",
            "68/68 [==============================] - 5s 79ms/step - loss: 0.3974 - accuracy: 0.8729 - val_loss: 0.2136 - val_accuracy: 0.8727\n",
            "Epoch 54/100\n",
            "68/68 [==============================] - 5s 81ms/step - loss: 0.3753 - accuracy: 0.8803 - val_loss: 0.3929 - val_accuracy: 0.8364\n",
            "Epoch 55/100\n",
            "68/68 [==============================] - 5s 79ms/step - loss: 0.4274 - accuracy: 0.8576 - val_loss: 0.4465 - val_accuracy: 0.8545\n",
            "Epoch 56/100\n",
            "68/68 [==============================] - 5s 79ms/step - loss: 0.4678 - accuracy: 0.8387 - val_loss: 0.3154 - val_accuracy: 0.9091\n",
            "Epoch 57/100\n",
            "68/68 [==============================] - 5s 79ms/step - loss: 0.3827 - accuracy: 0.8701 - val_loss: 0.3456 - val_accuracy: 0.8909\n",
            "Epoch 58/100\n",
            "68/68 [==============================] - 6s 81ms/step - loss: 0.3727 - accuracy: 0.8821 - val_loss: 0.2154 - val_accuracy: 0.9091\n"
          ]
        }
      ]
    },
    {
      "cell_type": "code",
      "source": [
        "plt.figure(figsize=(10,4))\n",
        "\n",
        "plt.subplot(1,2,1)\n",
        "plt.ylim(0,1)\n",
        "plt.grid(True, \"both\", linestyle=\"--\")\n",
        "plt.plot(history.history['accuracy'])\n",
        "plt.plot(history.history['val_accuracy'])\n",
        "plt.title('Model Accuracy')\n",
        "plt.ylabel('Accuracy')\n",
        "plt.xlabel('Epoch')\n",
        "plt.legend(['Train', 'Validation'], loc='lower right')\n",
        "\n",
        "plt.subplot(1,2,2)\n",
        "plt.grid(True, \"both\", linestyle=\"--\")\n",
        "plt.plot(history.history['loss'])\n",
        "plt.plot(history.history['val_loss'])\n",
        "plt.title('Model Loss')\n",
        "plt.ylabel('Loss')\n",
        "plt.xlabel('Epoch')\n",
        "plt.legend(['Train', 'Validation'], loc='upper right')\n",
        "\n",
        "plt.show()"
      ],
      "metadata": {
        "colab": {
          "base_uri": "https://localhost:8080/",
          "height": 410
        },
        "id": "B2if_KsmGh_D",
        "outputId": "fb47fa28-b035-430a-e01e-985e8704dde6"
      },
      "execution_count": 30,
      "outputs": [
        {
          "output_type": "display_data",
          "data": {
            "text/plain": [
              "<Figure size 1000x400 with 2 Axes>"
            ],
            "image/png": "[encoded data removed]"
          },
          "metadata": {}
        }
      ]
    },
    {
      "cell_type": "code",
      "source": [
        "# Save Model to Google Drive\n",
        "if SAVE_TO_DRIVE:\n",
        "  model.save(\"amd_cnn_model\")\n",
        "  !zip -r -q /content/amd_cnn_model.zip /content/amd_cnn_model\n",
        "  shutil.copy(\"/content/amd_cnn_model.zip\",\"/content/drive/MyDrive/\")\n"
      ],
      "metadata": {
        "id": "yDACops83YHK"
      },
      "execution_count": 31,
      "outputs": []
    },
    {
      "cell_type": "code",
      "source": [
        "# Load Model from Google Drive\n",
        "# !unzip -q /content/drive/MyDrive/amd_cnn_model.zip -d /\n",
        "# model = tf.keras.models.load_model('./amd_cnn_model')"
      ],
      "metadata": {
        "id": "fGJoGI5_M24r"
      },
      "execution_count": 32,
      "outputs": []
    },
    {
      "cell_type": "code",
      "source": [
        "# Evaluate Performance on Test Dataset\n",
        "results = model.evaluate(test_ds)\n",
        "print(\"Loss: \"+str(results[0])+\" Accuracy: \" + str(results[1]))"
      ],
      "metadata": {
        "colab": {
          "base_uri": "https://localhost:8080/"
        },
        "id": "BNGhI4uHGfCk",
        "outputId": "7946bb9a-88ef-4e9c-8e2e-9a32f433717d"
      },
      "execution_count": 33,
      "outputs": [
        {
          "output_type": "stream",
          "name": "stdout",
          "text": [
            "2/2 [==============================] - 0s 45ms/step - loss: 0.1079 - accuracy: 0.9818\n",
            "Loss: 0.107878677546978 Accuracy: 0.9818181991577148\n"
          ]
        }
      ]
    },
    {
      "cell_type": "code",
      "source": [
        "pred_test_labels = np.argmax(model.predict(test_ds), axis = 1)"
      ],
      "metadata": {
        "colab": {
          "base_uri": "https://localhost:8080/"
        },
        "id": "oZaB5T8oboQP",
        "outputId": "7412da05-0895-4795-a6c2-e59f22a54698"
      },
      "execution_count": 34,
      "outputs": [
        {
          "output_type": "stream",
          "name": "stdout",
          "text": [
            "2/2 [==============================] - 0s 19ms/step\n"
          ]
        }
      ]
    },
    {
      "cell_type": "code",
      "source": [
        "true_test_labels = [CLASS_NAMES[label_int] for label_int in true_test_labels]\n",
        "pred_test_labels = [CLASS_NAMES[label_int] for label_int in pred_test_labels]"
      ],
      "metadata": {
        "id": "V_h1hi-xX1Yg"
      },
      "execution_count": 35,
      "outputs": []
    },
    {
      "cell_type": "code",
      "source": [
        "report = classification_report(true_test_labels, pred_test_labels)\n",
        "print(report)"
      ],
      "metadata": {
        "colab": {
          "base_uri": "https://localhost:8080/"
        },
        "id": "r3W6281PcMPD",
        "outputId": "7b21185a-33ef-48c6-becb-c5cd1ba40c44"
      },
      "execution_count": 36,
      "outputs": [
        {
          "output_type": "stream",
          "name": "stdout",
          "text": [
            "                                  precision    recall  f1-score   support\n",
            "\n",
            "Alstonia Scholaris healthy (P2b)       1.00      0.80      0.89         5\n",
            "             Arjun healthy (P1b)       1.00      1.00      1.00         5\n",
            "              Basil healthy (P8)       1.00      1.00      1.00         5\n",
            "           Chinar healthy (P11a)       1.00      1.00      1.00         5\n",
            "             Gauva healthy (P3a)       1.00      1.00      1.00         5\n",
            "             Jamun healthy (P5a)       1.00      1.00      1.00         5\n",
            "          Jatropha healthy (P6a)       1.00      1.00      1.00         5\n",
            "            Lemon healthy (P10a)       1.00      1.00      1.00         5\n",
            "             Mango healthy (P0a)       1.00      1.00      1.00         5\n",
            "       Pomegranate healthy (P9a)       1.00      1.00      1.00         5\n",
            "  Pongamia Pinnata healthy (P7a)       0.83      1.00      0.91         5\n",
            "\n",
            "                        accuracy                           0.98        55\n",
            "                       macro avg       0.98      0.98      0.98        55\n",
            "                    weighted avg       0.98      0.98      0.98        55\n",
            "\n"
          ]
        }
      ]
    },
    {
      "cell_type": "code",
      "source": [
        "import pandas as pd"
      ],
      "metadata": {
        "id": "w3vFnus2oDUz"
      },
      "execution_count": 37,
      "outputs": []
    },
    {
      "cell_type": "code",
      "source": [
        "# Confusion Matrix\n",
        "simple_class_names = [plant.split()[0] for plant in CLASS_NAMES]\n",
        "heatmap = sns.heatmap(confusion_matrix(true_test_labels, pred_test_labels), \n",
        "                      xticklabels = simple_class_names, yticklabels = simple_class_names, \n",
        "                      annot = True, cmap='RdYlGn')\n",
        "heatmap.set_ylabel(\"True Labels\")\n",
        "heatmap.set_xlabel(\"Predicted Labels\")\n",
        "heatmap.set_title(\"Healthy Leaves Classification Confusion Matrix\")"
      ],
      "metadata": {
        "colab": {
          "base_uri": "https://localhost:8080/",
          "height": 569
        },
        "id": "_NL0s4iUMv25",
        "outputId": "79765015-266f-45da-ca3c-28c746c69484"
      },
      "execution_count": 38,
      "outputs": [
        {
          "output_type": "execute_result",
          "data": {
            "text/plain": [
              "Text(0.5, 1.0, 'Healthy Leaves Classification Confusion Matrix')"
            ]
          },
          "metadata": {},
          "execution_count": 38
        },
        {
          "output_type": "display_data",
          "data": {
            "text/plain": [
              "<Figure size 640x480 with 2 Axes>"
            ],
            "image/png": "[encoded data removed]"
          },
          "metadata": {}
        }
      ]
    }
  ]
}