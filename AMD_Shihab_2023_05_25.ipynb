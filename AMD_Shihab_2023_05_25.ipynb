{
  "cells": [
    {
      "cell_type": "markdown",
      "metadata": {
        "id": "RvK82VEVkc6Y"
      },
      "source": [
        "**Project for Algorithms for Massive Data (Prof. Malchiodi)**\n",
        "</br>**Studnet: Shihab Hamati**\n",
        "</br>**May 2023**"
      ]
    },
    {
      "cell_type": "markdown",
      "metadata": {
        "id": "Vb-eUuE5kUsb"
      },
      "source": [
        "**Convolutional Neural Network to classify healthy plant leaves**"
      ]
    },
    {
      "cell_type": "code",
      "execution_count": 1,
      "metadata": {
        "id": "a7HQEsNxkakn"
      },
      "outputs": [],
      "source": [
        "from google.colab import files\n",
        "import os\n",
        "import shutil\n",
        "import matplotlib.pyplot as plt\n",
        "\n",
        "from tensorflow.keras.preprocessing.image import ImageDataGenerator\n",
        "from tensorflow.keras.models import Sequential\n",
        "from tensorflow.keras.layers import Conv2D, MaxPooling2D, Dropout, Flatten, Dense\n",
        "from tensorflow.keras.callbacks import ModelCheckpoint, EarlyStopping"
      ]
    },
    {
      "cell_type": "code",
      "execution_count": 2,
      "metadata": {
        "colab": {
          "base_uri": "https://localhost:8080/",
          "height": 71
        },
        "id": "KjDnyPg4kWqc",
        "outputId": "addcfb6c-6cb4-462a-ce2d-2f6c11b61d10"
      },
      "outputs": [
        {
          "output_type": "display_data",
          "data": {
            "text/plain": [
              "<IPython.core.display.HTML object>"
            ],
            "text/html": [
              "\n",
              "     <input type=\"file\" id=\"files-a0928740-acc9-4d3a-92b3-5e35448c74d5\" name=\"files[]\" multiple disabled\n",
              "        style=\"border:none\" />\n",
              "     <output id=\"result-a0928740-acc9-4d3a-92b3-5e35448c74d5\">\n",
              "      Upload widget is only available when the cell has been executed in the\n",
              "      current browser session. Please rerun this cell to enable.\n",
              "      </output>\n",
              "      <script>// Copyright 2017 Google LLC\n",
              "//\n",
              "// Licensed under the Apache License, Version 2.0 (the \"License\");\n",
              "// you may not use this file except in compliance with the License.\n",
              "// You may obtain a copy of the License at\n",
              "//\n",
              "//      http://www.apache.org/licenses/LICENSE-2.0\n",
              "//\n",
              "// Unless required by applicable law or agreed to in writing, software\n",
              "// distributed under the License is distributed on an \"AS IS\" BASIS,\n",
              "// WITHOUT WARRANTIES OR CONDITIONS OF ANY KIND, either express or implied.\n",
              "// See the License for the specific language governing permissions and\n",
              "// limitations under the License.\n",
              "\n",
              "/**\n",
              " * @fileoverview Helpers for google.colab Python module.\n",
              " */\n",
              "(function(scope) {\n",
              "function span(text, styleAttributes = {}) {\n",
              "  const element = document.createElement('span');\n",
              "  element.textContent = text;\n",
              "  for (const key of Object.keys(styleAttributes)) {\n",
              "    element.style[key] = styleAttributes[key];\n",
              "  }\n",
              "  return element;\n",
              "}\n",
              "\n",
              "// Max number of bytes which will be uploaded at a time.\n",
              "const MAX_PAYLOAD_SIZE = 100 * 1024;\n",
              "\n",
              "function _uploadFiles(inputId, outputId) {\n",
              "  const steps = uploadFilesStep(inputId, outputId);\n",
              "  const outputElement = document.getElementById(outputId);\n",
              "  // Cache steps on the outputElement to make it available for the next call\n",
              "  // to uploadFilesContinue from Python.\n",
              "  outputElement.steps = steps;\n",
              "\n",
              "  return _uploadFilesContinue(outputId);\n",
              "}\n",
              "\n",
              "// This is roughly an async generator (not supported in the browser yet),\n",
              "// where there are multiple asynchronous steps and the Python side is going\n",
              "// to poll for completion of each step.\n",
              "// This uses a Promise to block the python side on completion of each step,\n",
              "// then passes the result of the previous step as the input to the next step.\n",
              "function _uploadFilesContinue(outputId) {\n",
              "  const outputElement = document.getElementById(outputId);\n",
              "  const steps = outputElement.steps;\n",
              "\n",
              "  const next = steps.next(outputElement.lastPromiseValue);\n",
              "  return Promise.resolve(next.value.promise).then((value) => {\n",
              "    // Cache the last promise value to make it available to the next\n",
              "    // step of the generator.\n",
              "    outputElement.lastPromiseValue = value;\n",
              "    return next.value.response;\n",
              "  });\n",
              "}\n",
              "\n",
              "/**\n",
              " * Generator function which is called between each async step of the upload\n",
              " * process.\n",
              " * @param {string} inputId Element ID of the input file picker element.\n",
              " * @param {string} outputId Element ID of the output display.\n",
              " * @return {!Iterable<!Object>} Iterable of next steps.\n",
              " */\n",
              "function* uploadFilesStep(inputId, outputId) {\n",
              "  const inputElement = document.getElementById(inputId);\n",
              "  inputElement.disabled = false;\n",
              "\n",
              "  const outputElement = document.getElementById(outputId);\n",
              "  outputElement.innerHTML = '';\n",
              "\n",
              "  const pickedPromise = new Promise((resolve) => {\n",
              "    inputElement.addEventListener('change', (e) => {\n",
              "      resolve(e.target.files);\n",
              "    });\n",
              "  });\n",
              "\n",
              "  const cancel = document.createElement('button');\n",
              "  inputElement.parentElement.appendChild(cancel);\n",
              "  cancel.textContent = 'Cancel upload';\n",
              "  const cancelPromise = new Promise((resolve) => {\n",
              "    cancel.onclick = () => {\n",
              "      resolve(null);\n",
              "    };\n",
              "  });\n",
              "\n",
              "  // Wait for the user to pick the files.\n",
              "  const files = yield {\n",
              "    promise: Promise.race([pickedPromise, cancelPromise]),\n",
              "    response: {\n",
              "      action: 'starting',\n",
              "    }\n",
              "  };\n",
              "\n",
              "  cancel.remove();\n",
              "\n",
              "  // Disable the input element since further picks are not allowed.\n",
              "  inputElement.disabled = true;\n",
              "\n",
              "  if (!files) {\n",
              "    return {\n",
              "      response: {\n",
              "        action: 'complete',\n",
              "      }\n",
              "    };\n",
              "  }\n",
              "\n",
              "  for (const file of files) {\n",
              "    const li = document.createElement('li');\n",
              "    li.append(span(file.name, {fontWeight: 'bold'}));\n",
              "    li.append(span(\n",
              "        `(${file.type || 'n/a'}) - ${file.size} bytes, ` +\n",
              "        `last modified: ${\n",
              "            file.lastModifiedDate ? file.lastModifiedDate.toLocaleDateString() :\n",
              "                                    'n/a'} - `));\n",
              "    const percent = span('0% done');\n",
              "    li.appendChild(percent);\n",
              "\n",
              "    outputElement.appendChild(li);\n",
              "\n",
              "    const fileDataPromise = new Promise((resolve) => {\n",
              "      const reader = new FileReader();\n",
              "      reader.onload = (e) => {\n",
              "        resolve(e.target.result);\n",
              "      };\n",
              "      reader.readAsArrayBuffer(file);\n",
              "    });\n",
              "    // Wait for the data to be ready.\n",
              "    let fileData = yield {\n",
              "      promise: fileDataPromise,\n",
              "      response: {\n",
              "        action: 'continue',\n",
              "      }\n",
              "    };\n",
              "\n",
              "    // Use a chunked sending to avoid message size limits. See b/62115660.\n",
              "    let position = 0;\n",
              "    do {\n",
              "      const length = Math.min(fileData.byteLength - position, MAX_PAYLOAD_SIZE);\n",
              "      const chunk = new Uint8Array(fileData, position, length);\n",
              "      position += length;\n",
              "\n",
              "      const base64 = btoa(String.fromCharCode.apply(null, chunk));\n",
              "      yield {\n",
              "        response: {\n",
              "          action: 'append',\n",
              "          file: file.name,\n",
              "          data: base64,\n",
              "        },\n",
              "      };\n",
              "\n",
              "      let percentDone = fileData.byteLength === 0 ?\n",
              "          100 :\n",
              "          Math.round((position / fileData.byteLength) * 100);\n",
              "      percent.textContent = `${percentDone}% done`;\n",
              "\n",
              "    } while (position < fileData.byteLength);\n",
              "  }\n",
              "\n",
              "  // All done.\n",
              "  yield {\n",
              "    response: {\n",
              "      action: 'complete',\n",
              "    }\n",
              "  };\n",
              "}\n",
              "\n",
              "scope.google = scope.google || {};\n",
              "scope.google.colab = scope.google.colab || {};\n",
              "scope.google.colab._files = {\n",
              "  _uploadFiles,\n",
              "  _uploadFilesContinue,\n",
              "};\n",
              "})(self);\n",
              "</script> "
            ]
          },
          "metadata": {}
        },
        {
          "output_type": "stream",
          "name": "stdout",
          "text": [
            "Saving kaggle.json to kaggle.json\n"
          ]
        }
      ],
      "source": [
        "# Upload Kaggle Credentials JSON File\n",
        "kaggle_token = files.upload()"
      ]
    },
    {
      "cell_type": "code",
      "execution_count": 3,
      "metadata": {
        "id": "nqyS4JLNlZWN"
      },
      "outputs": [],
      "source": [
        "os.environ['KAGGLE_CONFIG_DIR'] = os.getcwd()"
      ]
    },
    {
      "cell_type": "markdown",
      "metadata": {
        "id": "JUHH-LmpkSoh"
      },
      "source": [
        "Download dataset and unzip"
      ]
    },
    {
      "cell_type": "code",
      "execution_count": 4,
      "metadata": {
        "colab": {
          "base_uri": "https://localhost:8080/"
        },
        "id": "kQL726Eo4LVb",
        "outputId": "76a54c8e-ae2d-48dc-b918-1c026e5a45e6"
      },
      "outputs": [
        {
          "output_type": "stream",
          "name": "stdout",
          "text": [
            "Warning: Your Kaggle API key is readable by other users on this system! To fix this, you can run 'chmod 600 /content/kaggle.json'\n",
            "Downloading plant-leaves-for-image-classification.zip to /content\n",
            "100% 6.56G/6.56G [05:54<00:00, 18.6MB/s]\n",
            "100% 6.56G/6.56G [05:54<00:00, 19.9MB/s]\n"
          ]
        }
      ],
      "source": [
        "!kaggle datasets download -d csafrit2/plant-leaves-for-image-classification"
      ]
    },
    {
      "cell_type": "code",
      "execution_count": 5,
      "metadata": {
        "id": "V_8-CxI1-D04"
      },
      "outputs": [],
      "source": [
        "!unzip -q /content/plant-leaves-for-image-classification.zip"
      ]
    },
    {
      "cell_type": "markdown",
      "metadata": {
        "id": "EDvRnFV9kLSW"
      },
      "source": [
        "Generate list of subdirectories of diseased leaves"
      ]
    },
    {
      "cell_type": "code",
      "execution_count": 6,
      "metadata": {
        "id": "hsoqNoLIjK1N"
      },
      "outputs": [],
      "source": [
        "paths = [\"/content/Plants_2/train\", \"/content/Plants_2/valid\", \"/content/Plants_2/test\"]"
      ]
    },
    {
      "cell_type": "markdown",
      "metadata": {
        "id": "TYjqlq9ZkEEK"
      },
      "source": [
        "Delete diseased folders, keep only health folders"
      ]
    },
    {
      "cell_type": "code",
      "execution_count": 7,
      "metadata": {
        "id": "Cqr12_dchalS"
      },
      "outputs": [],
      "source": [
        "def del_subdirs(path, keyword):\n",
        "  paths_to_delete = [sd for sd in os.listdir(path) if keyword in sd]\n",
        "  for p2d in paths_to_delete:\n",
        "    shutil.rmtree(os.path.join(path, p2d))\n",
        "  return"
      ]
    },
    {
      "cell_type": "code",
      "execution_count": 8,
      "metadata": {
        "id": "mPVUQ7g9ke1I"
      },
      "outputs": [],
      "source": [
        "for p in paths:\n",
        "  del_subdirs(p, 'diseased')"
      ]
    },
    {
      "cell_type": "code",
      "execution_count": 9,
      "metadata": {
        "id": "ziRUufxdzG1L"
      },
      "outputs": [],
      "source": [
        "IMG_SIZE = (256,256)\n",
        "RESCALE_FACTOR = 1.0/255\n",
        "BATCH_SIZE = 32\n",
        "SEED = 123"
      ]
    },
    {
      "cell_type": "code",
      "execution_count": 10,
      "metadata": {
        "id": "ccOjNu9N-emS"
      },
      "outputs": [],
      "source": [
        "# Image Data Generator for training & validation datasets\n",
        "# Applying data augmentation\n",
        "gen_train_val = ImageDataGenerator(\n",
        "    validation_split = 0.2,\n",
        "    rescale = RESCALE_FACTOR,\n",
        "    #width_shift_range = 0.1,\n",
        "    #height_shift_range = 0.1,\n",
        "    #shear_range = 0.1,\n",
        "    #zoom_range = 0.1,\n",
        "    horizontal_flip = True,\n",
        "    #vertical_flip = True\n",
        "    )     "
      ]
    },
    {
      "cell_type": "code",
      "execution_count": 11,
      "metadata": {
        "id": "NEgXfUAdneXF"
      },
      "outputs": [],
      "source": [
        "# Image Data Generator for testing dataset\n",
        "gen_test = ImageDataGenerator(rescale = RESCALE_FACTOR)"
      ]
    },
    {
      "cell_type": "code",
      "execution_count": 12,
      "metadata": {
        "colab": {
          "base_uri": "https://localhost:8080/"
        },
        "id": "TMj9kv8GzNYY",
        "outputId": "c8a3ff16-f6f2-4180-a6cd-06fd5df2b020"
      },
      "outputs": [
        {
          "output_type": "stream",
          "name": "stdout",
          "text": [
            "Found 1736 images belonging to 11 classes.\n"
          ]
        }
      ],
      "source": [
        "dataset_train = gen_train_val.flow_from_directory(\n",
        "    directory=paths[0],\n",
        "    target_size=IMG_SIZE,\n",
        "    color_mode=\"rgb\",\n",
        "    batch_size=BATCH_SIZE,\n",
        "    class_mode=\"categorical\",\n",
        "    shuffle=True,\n",
        "    subset = \"training\",\n",
        "    seed = SEED )"
      ]
    },
    {
      "cell_type": "code",
      "execution_count": 13,
      "metadata": {
        "colab": {
          "base_uri": "https://localhost:8080/"
        },
        "id": "dRrInxxB0T7s",
        "outputId": "11e6bc50-65af-41c8-e1ee-f69d23c722bd"
      },
      "outputs": [
        {
          "output_type": "stream",
          "name": "stdout",
          "text": [
            "Found 427 images belonging to 11 classes.\n"
          ]
        }
      ],
      "source": [
        "# only 55 images in the original valid folder, so split from the training folder instead\n",
        "dataset_val = gen_train_val.flow_from_directory(\n",
        "    directory = paths[0], # using the larger train folder\n",
        "    target_size = IMG_SIZE,\n",
        "    color_mode = \"rgb\",\n",
        "    batch_size = BATCH_SIZE,\n",
        "    class_mode = \"categorical\",\n",
        "    shuffle = True,\n",
        "    subset = \"validation\", \n",
        "    seed = SEED )"
      ]
    },
    {
      "cell_type": "code",
      "execution_count": 14,
      "metadata": {
        "colab": {
          "base_uri": "https://localhost:8080/"
        },
        "id": "te72GFbno_Rd",
        "outputId": "54ccdb79-d9df-4d61-ebd8-6e05979546ea"
      },
      "outputs": [
        {
          "output_type": "stream",
          "name": "stdout",
          "text": [
            "Found 55 images belonging to 11 classes.\n"
          ]
        }
      ],
      "source": [
        "dataset_test = gen_test.flow_from_directory(\n",
        "    directory = paths[2],\n",
        "    target_size = IMG_SIZE,\n",
        "    color_mode = \"rgb\",\n",
        "    batch_size = BATCH_SIZE,\n",
        "    class_mode = \"categorical\",\n",
        "    shuffle = False,\n",
        "    seed = SEED )"
      ]
    },
    {
      "cell_type": "markdown",
      "metadata": {
        "id": "dCv9EI1vmjqP"
      },
      "source": [
        "**CNN Model**"
      ]
    },
    {
      "cell_type": "code",
      "execution_count": 15,
      "metadata": {
        "id": "JKH_m3EboQBp"
      },
      "outputs": [],
      "source": [
        "# Default params for create_cnn function\n",
        "NUM_CLASSES=dataset_train.num_classes\n",
        "INPUT_SHAPE = IMG_SIZE + (3,)"
      ]
    },
    {
      "cell_type": "markdown",
      "metadata": {
        "id": "nK_3Sv3IqWGo"
      },
      "source": [
        "General function to create a CNN multi-class classifier\n",
        "* Assumes more than 2 classes\n",
        "* Allows to adapt number of convolutional layers\n",
        "* Easy to experiment different architechtures rapidly and clearly\n"
      ]
    },
    {
      "cell_type": "code",
      "execution_count": 16,
      "metadata": {
        "id": "Fw9TnRmamlE7"
      },
      "outputs": [],
      "source": [
        "def create_cnn(conv_layers, dense_units, dropout=0, num_classes=NUM_CLASSES, input_shape=INPUT_SHAPE):\n",
        "  \"\"\"\n",
        "  Create CNN with general arch of:\n",
        "    A- Sequential Convolutional-ReLu-MaxPooling Layers >=1 of Doubling Num of Filters\n",
        "    B- Dense Layers at the end of the convolutional sequence\n",
        "    C- An Output Layer with Nodes = num_classes > 2\n",
        "  \"\"\"\n",
        "\n",
        "  classifier = Sequential()\n",
        "\n",
        "  # Initial Convolutional Block\n",
        "  classifier.add(Conv2D(\n",
        "    filters=32,\n",
        "    kernel_size=(3, 3),\n",
        "    padding=\"same\",\n",
        "    input_shape=input_shape,\n",
        "    activation=\"relu\")\n",
        "  )\n",
        "\n",
        "  classifier.add(MaxPooling2D(pool_size=(2, 2)))\n",
        "\n",
        "  #classifier.add(Dropout(rate=0.2))\n",
        "\n",
        "  # Additional Convolutional Block with twice the num of filters as previous block\n",
        "  for cl in range(conv_layers-1):\n",
        "    # when cl = 0, power = 6, so 2^6 = 64 (since initial layer has 32 filters)\n",
        "    power = 6 + cl\n",
        "\n",
        "    classifier.add(Conv2D(\n",
        "      filters=2 ** power,\n",
        "      kernel_size=(3, 3),\n",
        "      padding=\"same\",\n",
        "      activation=\"relu\")\n",
        "    )\n",
        "\n",
        "    classifier.add(MaxPooling2D(pool_size=(2, 2)))\n",
        "    \n",
        "    if dropout>0:\n",
        "      classifier.add(Dropout(rate=dropout))\n",
        "\n",
        "  classifier.add(Flatten())\n",
        "\n",
        "  # Dense Layers\n",
        "  classifier.add(Dense(units=dense_units, activation=\"relu\"))\n",
        "    \n",
        "  if dropout>0:\n",
        "    classifier.add(Dropout(rate=dropout))\n",
        "\n",
        "  # Output Layer\n",
        "  classifier.add(Dense(units=num_classes, activation=\"softmax\"))\n",
        "\n",
        "  return classifier"
      ]
    },
    {
      "cell_type": "code",
      "execution_count": 17,
      "metadata": {
        "colab": {
          "base_uri": "https://localhost:8080/"
        },
        "id": "Kdxlhxtcqx1m",
        "outputId": "70a26203-7a7e-40fb-ae5d-d06c0e60de38"
      },
      "outputs": [
        {
          "output_type": "stream",
          "name": "stdout",
          "text": [
            "Model: \"sequential\"\n",
            "_________________________________________________________________\n",
            " Layer (type)                Output Shape              Param #   \n",
            "=================================================================\n",
            " conv2d (Conv2D)             (None, 256, 256, 32)      896       \n",
            "                                                                 \n",
            " max_pooling2d (MaxPooling2D  (None, 128, 128, 32)     0         \n",
            " )                                                               \n",
            "                                                                 \n",
            " conv2d_1 (Conv2D)           (None, 128, 128, 64)      18496     \n",
            "                                                                 \n",
            " max_pooling2d_1 (MaxPooling  (None, 64, 64, 64)       0         \n",
            " 2D)                                                             \n",
            "                                                                 \n",
            " dropout (Dropout)           (None, 64, 64, 64)        0         \n",
            "                                                                 \n",
            " conv2d_2 (Conv2D)           (None, 64, 64, 128)       73856     \n",
            "                                                                 \n",
            " max_pooling2d_2 (MaxPooling  (None, 32, 32, 128)      0         \n",
            " 2D)                                                             \n",
            "                                                                 \n",
            " dropout_1 (Dropout)         (None, 32, 32, 128)       0         \n",
            "                                                                 \n",
            " conv2d_3 (Conv2D)           (None, 32, 32, 256)       295168    \n",
            "                                                                 \n",
            " max_pooling2d_3 (MaxPooling  (None, 16, 16, 256)      0         \n",
            " 2D)                                                             \n",
            "                                                                 \n",
            " dropout_2 (Dropout)         (None, 16, 16, 256)       0         \n",
            "                                                                 \n",
            " flatten (Flatten)           (None, 65536)             0         \n",
            "                                                                 \n",
            " dense (Dense)               (None, 32)                2097184   \n",
            "                                                                 \n",
            " dropout_3 (Dropout)         (None, 32)                0         \n",
            "                                                                 \n",
            " dense_1 (Dense)             (None, 11)                363       \n",
            "                                                                 \n",
            "=================================================================\n",
            "Total params: 2,485,963\n",
            "Trainable params: 2,485,963\n",
            "Non-trainable params: 0\n",
            "_________________________________________________________________\n",
            "None\n"
          ]
        }
      ],
      "source": [
        "model_1 = create_cnn(conv_layers = 4, dense_units = 32, dropout = 0.25)\n",
        "print(model_1.summary())"
      ]
    },
    {
      "cell_type": "code",
      "execution_count": 18,
      "metadata": {
        "id": "dBmr42XssMR6"
      },
      "outputs": [],
      "source": [
        "EPOCHS = 25"
      ]
    },
    {
      "cell_type": "code",
      "execution_count": 19,
      "metadata": {
        "id": "HJeRdJkg781h"
      },
      "outputs": [],
      "source": [
        "!mkdir Checkpoints"
      ]
    },
    {
      "cell_type": "code",
      "execution_count": 20,
      "metadata": {
        "id": "txFiADgdGQN2"
      },
      "outputs": [],
      "source": [
        "cb_checkpoint = ModelCheckpoint(\"./Checkpoints/epoch_{epoch}.h5\")\n",
        "cb_earlystop = EarlyStopping(monitor='val_loss', \n",
        "                             patience=5, \n",
        "                             verbose=0, \n",
        "                             restore_best_weights=True,\n",
        "                             start_from_epoch=10)"
      ]
    },
    {
      "cell_type": "code",
      "execution_count": 21,
      "metadata": {
        "id": "bJwrwgbnrCzr"
      },
      "outputs": [],
      "source": [
        "callbacks = [cb_checkpoint, cb_earlystop]\n",
        "model_1.compile(optimizer=\"adam\", loss=\"categorical_crossentropy\", metrics=[\"accuracy\"])"
      ]
    },
    {
      "cell_type": "code",
      "execution_count": 22,
      "metadata": {
        "colab": {
          "base_uri": "https://localhost:8080/"
        },
        "id": "Iy87sxZ4sQK9",
        "outputId": "bd33080a-c6a9-4952-ef47-3ba30222c196"
      },
      "outputs": [
        {
          "output_type": "stream",
          "name": "stdout",
          "text": [
            "Epoch 1/25\n",
            "55/55 [==============================] - 680s 12s/step - loss: 2.3561 - accuracy: 0.1141 - val_loss: 2.1877 - val_accuracy: 0.2506\n",
            "Epoch 2/25\n",
            "55/55 [==============================] - 634s 12s/step - loss: 1.9933 - accuracy: 0.2817 - val_loss: 1.7346 - val_accuracy: 0.4778\n",
            "Epoch 3/25\n",
            "55/55 [==============================] - 654s 12s/step - loss: 1.6018 - accuracy: 0.4505 - val_loss: 1.4021 - val_accuracy: 0.5059\n",
            "Epoch 4/25\n",
            "55/55 [==============================] - 660s 12s/step - loss: 1.4069 - accuracy: 0.5058 - val_loss: 1.1910 - val_accuracy: 0.5878\n",
            "Epoch 5/25\n",
            "55/55 [==============================] - 636s 12s/step - loss: 1.2195 - accuracy: 0.5565 - val_loss: 1.3253 - val_accuracy: 0.5199\n",
            "Epoch 6/25\n",
            "55/55 [==============================] - 636s 12s/step - loss: 1.2209 - accuracy: 0.5806 - val_loss: 1.2221 - val_accuracy: 0.6370\n",
            "Epoch 7/25\n",
            "55/55 [==============================] - 653s 12s/step - loss: 1.1725 - accuracy: 0.5795 - val_loss: 1.0173 - val_accuracy: 0.6136\n",
            "Epoch 8/25\n",
            "55/55 [==============================] - 633s 12s/step - loss: 1.0544 - accuracy: 0.6210 - val_loss: 1.1639 - val_accuracy: 0.6019\n",
            "Epoch 9/25\n",
            "55/55 [==============================] - 626s 11s/step - loss: 1.0017 - accuracy: 0.6446 - val_loss: 0.9927 - val_accuracy: 0.7002\n",
            "Epoch 10/25\n",
            "55/55 [==============================] - 625s 11s/step - loss: 0.9233 - accuracy: 0.6763 - val_loss: 0.9480 - val_accuracy: 0.6698\n",
            "Epoch 11/25\n",
            "55/55 [==============================] - 632s 12s/step - loss: 0.8877 - accuracy: 0.6780 - val_loss: 0.7778 - val_accuracy: 0.7494\n",
            "Epoch 12/25\n",
            "55/55 [==============================] - 663s 12s/step - loss: 0.8024 - accuracy: 0.7022 - val_loss: 0.8725 - val_accuracy: 0.7049\n",
            "Epoch 13/25\n",
            "55/55 [==============================] - 632s 12s/step - loss: 0.7773 - accuracy: 0.7206 - val_loss: 0.8867 - val_accuracy: 0.7002\n",
            "Epoch 14/25\n",
            "55/55 [==============================] - 628s 11s/step - loss: 0.7415 - accuracy: 0.7264 - val_loss: 0.9701 - val_accuracy: 0.6815\n",
            "Epoch 15/25\n",
            "55/55 [==============================] - 633s 12s/step - loss: 0.7060 - accuracy: 0.7483 - val_loss: 0.7615 - val_accuracy: 0.7518\n",
            "Epoch 16/25\n",
            "55/55 [==============================] - 629s 11s/step - loss: 0.7272 - accuracy: 0.7419 - val_loss: 1.1312 - val_accuracy: 0.6136\n",
            "Epoch 17/25\n",
            "55/55 [==============================] - 627s 11s/step - loss: 0.7289 - accuracy: 0.7408 - val_loss: 1.3007 - val_accuracy: 0.6206\n",
            "Epoch 18/25\n",
            "55/55 [==============================] - 625s 11s/step - loss: 0.6660 - accuracy: 0.7586 - val_loss: 0.8092 - val_accuracy: 0.7635\n",
            "Epoch 19/25\n",
            "55/55 [==============================] - 629s 11s/step - loss: 0.6165 - accuracy: 0.7719 - val_loss: 0.7150 - val_accuracy: 0.7799\n",
            "Epoch 20/25\n",
            "55/55 [==============================] - 640s 12s/step - loss: 0.6542 - accuracy: 0.7598 - val_loss: 0.8771 - val_accuracy: 0.7166\n",
            "Epoch 21/25\n",
            "55/55 [==============================] - 625s 11s/step - loss: 0.5671 - accuracy: 0.7915 - val_loss: 0.7278 - val_accuracy: 0.7283\n",
            "Epoch 22/25\n",
            "55/55 [==============================] - 615s 11s/step - loss: 0.5728 - accuracy: 0.7857 - val_loss: 0.8106 - val_accuracy: 0.7447\n",
            "Epoch 23/25\n",
            "55/55 [==============================] - 635s 12s/step - loss: 0.5810 - accuracy: 0.7886 - val_loss: 0.7394 - val_accuracy: 0.7564\n",
            "Epoch 24/25\n",
            "55/55 [==============================] - 639s 12s/step - loss: 0.5523 - accuracy: 0.7984 - val_loss: 1.0099 - val_accuracy: 0.7190\n"
          ]
        }
      ],
      "source": [
        "history = model_1.fit(dataset_train, epochs=EPOCHS, callbacks=callbacks, validation_data=dataset_val)"
      ]
    },
    {
      "cell_type": "code",
      "execution_count": null,
      "metadata": {
        "colab": {
          "base_uri": "https://localhost:8080/"
        },
        "id": "h3xw1BebbZGd",
        "outputId": "89e81091-708d-473e-9269-54230cb71468"
      },
      "outputs": [
        {
          "name": "stdout",
          "output_type": "stream",
          "text": [
            "1/1 [==============================] - 17s 17s/step - loss: 1.9885 - accuracy: 0.3636\n",
            "Loss: 1.988470435142517 Accuracy: 0.3636363744735718\n"
          ]
        }
      ],
      "source": [
        "results = model_1.evaluate(dataset_test)\n",
        "print(\"Loss: \"+str(results[0])+\" Accuracy: \" + str(results[1]))"
      ]
    },
    {
      "cell_type": "markdown",
      "metadata": {
        "id": "3KtRjDDPq1a2"
      },
      "source": [
        "**Save Model Weights & Training History**"
      ]
    },
    {
      "cell_type": "code",
      "execution_count": null,
      "metadata": {
        "id": "GOqTsFwzh8bo"
      },
      "outputs": [],
      "source": [
        "import numpy as np\n",
        "np.save(\"trainingHist.npy\",history)"
      ]
    },
    {
      "cell_type": "markdown",
      "metadata": {
        "id": "c_KNWy8fqYmx"
      },
      "source": [
        "**Plot Training and Validation Results**"
      ]
    },
    {
      "cell_type": "code",
      "execution_count": null,
      "metadata": {
        "colab": {
          "base_uri": "https://localhost:8080/",
          "height": 357
        },
        "id": "tFXu37Kkliob",
        "outputId": "d4bc8c0e-aead-482c-fe01-9a6accd4c449"
      },
      "outputs": [
        {
          "data": {
            "image/png": "[encoded data removed]",
            "text/plain": [
              "<Figure size 1000x400 with 2 Axes>"
            ]
          },
          "metadata": {},
          "output_type": "display_data"
        }
      ],
      "source": [
        "plt.figure(figsize=(10,4))\n",
        "\n",
        "plt.subplot(1,2,1)\n",
        "plt.ylim(0,1)\n",
        "plt.grid(True, \"both\", linestyle=\"--\")\n",
        "plt.plot(history.history['accuracy'])\n",
        "plt.plot(history.history['val_accuracy'])\n",
        "plt.title('Model Accuracy')\n",
        "plt.ylabel('Accuracy')\n",
        "plt.xlabel('Epoch')\n",
        "plt.legend(['Train', 'Validation'], loc='lower right')\n",
        "\n",
        "plt.subplot(1,2,2)\n",
        "plt.grid(True, \"both\", linestyle=\"--\")\n",
        "plt.plot(history.history['loss'])\n",
        "plt.plot(history.history['val_loss'])\n",
        "plt.title('Model Loss')\n",
        "plt.ylabel('Loss')\n",
        "plt.xlabel('Epoch')\n",
        "plt.legend(['Train', 'Validation'], loc='upper right')\n",
        "\n",
        "plt.show()"
      ]
    }
  ],
  "metadata": {
    "accelerator": "GPU",
    "colab": {
      "provenance": []
    },
    "gpuClass": "standard",
    "kernelspec": {
      "display_name": "Python 3",
      "name": "python3"
    },
    "language_info": {
      "name": "python"
    }
  },
  "nbformat": 4,
  "nbformat_minor": 0
}