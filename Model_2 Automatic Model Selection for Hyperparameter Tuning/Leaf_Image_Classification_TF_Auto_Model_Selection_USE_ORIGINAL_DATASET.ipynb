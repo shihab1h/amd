{
  "nbformat": 4,
  "nbformat_minor": 0,
  "metadata": {
    "colab": {
      "provenance": [],
      "gpuType": "T4",
      "authorship_tag": "ABX9TyP4recExVg7ZCKv1VMWOd56",
      "include_colab_link": true
    },
    "kernelspec": {
      "name": "python3",
      "display_name": "Python 3"
    },
    "language_info": {
      "name": "python"
    },
    "accelerator": "GPU"
  },
  "cells": [
    {
      "cell_type": "markdown",
      "metadata": {
        "id": "view-in-github",
        "colab_type": "text"
      },
      "source": [
        "<a href=\"https://colab.research.google.com/github/shihab1h/leaf_image_classification/blob/main/Leaf_Image_Classification_TF_Auto_Model_Selection_USE_ORIGINAL_DATASET.ipynb\" target=\"_parent\"><img src=\"https://colab.research.google.com/assets/colab-badge.svg\" alt=\"Open In Colab\"/></a>"
      ]
    },
    {
      "cell_type": "markdown",
      "source": [
        "## Libraries"
      ],
      "metadata": {
        "id": "UajZdi6rvupH"
      }
    },
    {
      "cell_type": "code",
      "execution_count": 1,
      "metadata": {
        "id": "8QgPyuzZS08X"
      },
      "outputs": [],
      "source": [
        "from google.colab import files, drive\n",
        "import os\n",
        "import shutil\n",
        "from PIL import Image\n",
        "import sys\n",
        "import glob\n",
        "from IPython.display import display, clear_output\n",
        "import matplotlib.pyplot as plt"
      ]
    },
    {
      "cell_type": "code",
      "source": [
        "import tensorflow as tf\n",
        "from tensorflow.keras.utils import image_dataset_from_directory\n",
        "from tensorflow.keras.models import Sequential\n",
        "from tensorflow.keras.layers import Input, RandomFlip, RandomRotation, RandomBrightness, Rescaling\n",
        "from tensorflow.keras.layers import Conv2D, MaxPooling2D, Dropout, Flatten, Dense, Softmax\n",
        "from tensorflow.keras.callbacks import ModelCheckpoint, EarlyStopping"
      ],
      "metadata": {
        "id": "SoZRCI0jwd2o"
      },
      "execution_count": 2,
      "outputs": []
    },
    {
      "cell_type": "code",
      "source": [
        "!pip install keras_tuner\n",
        "import keras_tuner as kt"
      ],
      "metadata": {
        "colab": {
          "base_uri": "https://localhost:8080/"
        },
        "id": "np5jVF6tAzmq",
        "outputId": "7b9bb761-74b2-4f4b-80b2-0310b934bea3"
      },
      "execution_count": 3,
      "outputs": [
        {
          "output_type": "stream",
          "name": "stdout",
          "text": [
            "Looking in indexes: https://pypi.org/simple, https://us-python.pkg.dev/colab-wheels/public/simple/\n",
            "Collecting keras_tuner\n",
            "  Downloading keras_tuner-1.3.5-py3-none-any.whl (176 kB)\n",
            "\u001b[2K     \u001b[90m━━━━━━━━━━━━━━━━━━━━━━━━━━━━━━━━━━━━━━━\u001b[0m \u001b[32m176.1/176.1 kB\u001b[0m \u001b[31m8.7 MB/s\u001b[0m eta \u001b[36m0:00:00\u001b[0m\n",
            "\u001b[?25hRequirement already satisfied: packaging in /usr/local/lib/python3.10/dist-packages (from keras_tuner) (23.1)\n",
            "Requirement already satisfied: requests in /usr/local/lib/python3.10/dist-packages (from keras_tuner) (2.27.1)\n",
            "Collecting kt-legacy (from keras_tuner)\n",
            "  Downloading kt_legacy-1.0.5-py3-none-any.whl (9.6 kB)\n",
            "Requirement already satisfied: urllib3<1.27,>=1.21.1 in /usr/local/lib/python3.10/dist-packages (from requests->keras_tuner) (1.26.15)\n",
            "Requirement already satisfied: certifi>=2017.4.17 in /usr/local/lib/python3.10/dist-packages (from requests->keras_tuner) (2022.12.7)\n",
            "Requirement already satisfied: charset-normalizer~=2.0.0 in /usr/local/lib/python3.10/dist-packages (from requests->keras_tuner) (2.0.12)\n",
            "Requirement already satisfied: idna<4,>=2.5 in /usr/local/lib/python3.10/dist-packages (from requests->keras_tuner) (3.4)\n",
            "Installing collected packages: kt-legacy, keras_tuner\n",
            "Successfully installed keras_tuner-1.3.5 kt-legacy-1.0.5\n"
          ]
        }
      ]
    },
    {
      "cell_type": "code",
      "source": [
        "import numpy as np\n",
        "from sklearn.metrics import classification_report, confusion_matrix\n",
        "import seaborn as sns"
      ],
      "metadata": {
        "id": "XGEdgCz3U_wn"
      },
      "execution_count": 4,
      "outputs": []
    },
    {
      "cell_type": "code",
      "source": [
        "# Delete Unzipped Unempty Directory containing Dataset\n",
        "# Uncommend Code in case of need (e.g., need intact unzipped dataset)\n",
        "# shutil.rmtree(\"./Plants_2\")"
      ],
      "metadata": {
        "id": "a26btQ8YvA-x"
      },
      "execution_count": 5,
      "outputs": []
    },
    {
      "cell_type": "markdown",
      "source": [
        "## Global Variables"
      ],
      "metadata": {
        "id": "2IQjoNduvzEr"
      }
    },
    {
      "cell_type": "code",
      "source": [
        "# Choose Source of Dataset\n",
        "DATASET_FROM_SCRATCH = True\n",
        "\n",
        "# IF True: download, unzip, resize dataset from scratch\n",
        "# Estimated time on free Colab instance is 20 mins\n",
        "\n",
        "# IF False: download a saved previously preprocess dataset"
      ],
      "metadata": {
        "id": "TBVLZA3Qw3U5"
      },
      "execution_count": 6,
      "outputs": []
    },
    {
      "cell_type": "code",
      "source": [
        "# Choose Wether to Save Model and/or Processed Dataset to Drive\n",
        "SAVE_TO_DRIVE = True \n",
        "\n",
        "# IF True:\n",
        "# Save processed dataset to drive in case of DATASET_FROM_SCRATCH == True\n",
        "# Save models in any case\n",
        "\n",
        "# If DATASET_FROM_SCRATCH == False, user still has to mount drive to load preprocessed dataset"
      ],
      "metadata": {
        "id": "FwDf64kN1TeH"
      },
      "execution_count": 7,
      "outputs": []
    },
    {
      "cell_type": "code",
      "source": [
        "# Paths as Folder Structure\n",
        "paths = [\"Plants_2/train\", \"Plants_2/valid\", \"Plants_2/test\"]\n",
        "paths = [os.path.join(os.getcwd(), path) for path in paths]"
      ],
      "metadata": {
        "id": "RreqaeCPvGGz"
      },
      "execution_count": 8,
      "outputs": []
    },
    {
      "cell_type": "code",
      "source": [
        "# Data Processing Parameters\n",
        "PATH_KEYWORD = 'diseased' # Used in del_subdirs()\n",
        "RESIZE_PIXELS = 512 # Used in resize_images()"
      ],
      "metadata": {
        "id": "LNjLijuXwNDS"
      },
      "execution_count": 9,
      "outputs": []
    },
    {
      "cell_type": "code",
      "source": [
        "IMG_SIZE = 256 # Assumed Square Image IMG_SIZE x IMG_SIZE\n",
        "SEED = 101"
      ],
      "metadata": {
        "id": "QJsI31t5wKo9"
      },
      "execution_count": 10,
      "outputs": []
    },
    {
      "cell_type": "code",
      "source": [
        "MAX_TRIALS_TUNER = 10\n",
        "EPOCHS_TUNER = 10"
      ],
      "metadata": {
        "id": "XpFQSqy7GK-G"
      },
      "execution_count": 11,
      "outputs": []
    },
    {
      "cell_type": "code",
      "source": [
        "EPOCHS_FIT = 100"
      ],
      "metadata": {
        "id": "Z3Cz6rwshcG4"
      },
      "execution_count": 12,
      "outputs": []
    },
    {
      "cell_type": "markdown",
      "source": [
        "## Functions"
      ],
      "metadata": {
        "id": "F_UkHplQvhP4"
      }
    },
    {
      "cell_type": "code",
      "source": [
        "# Function to Delete Subdirectories Selectively\n",
        "def del_subdirs(path, keyword):\n",
        "  paths_to_delete = [sd for sd in os.listdir(path) if keyword in sd]\n",
        "  for p2d in paths_to_delete:\n",
        "    shutil.rmtree(os.path.join(path, p2d))\n",
        "  return"
      ],
      "metadata": {
        "id": "YEyyBQq7vXSF"
      },
      "execution_count": 13,
      "outputs": []
    },
    {
      "cell_type": "code",
      "source": [
        "# Function to Resize Images\n",
        "def resize_images(size_pixels):\n",
        "  i = 0\n",
        "  for path_subdir in paths:\n",
        "    for img_path in glob.iglob(path_subdir + '/*/*.JPG', recursive=True):\n",
        "        img = Image.open(img_path)\n",
        "        img_resized = img.resize((size_pixels, size_pixels), Image.NEAREST)\n",
        "        img_path_resized = img_path[:-4] + \" _resized\" + img_path[-4:]\n",
        "        img_resized.save(img_path_resized, 'JPEG', quality=90)\n",
        "        os.remove(img_path)\n",
        "        clear_output(wait=True)\n",
        "        i += 1\n",
        "        display('Images resized: ' + str(i))"
      ],
      "metadata": {
        "id": "5M3Jkj5nvggW"
      },
      "execution_count": 14,
      "outputs": []
    },
    {
      "cell_type": "code",
      "source": [
        "# Function to Build Deep Learning Model\n",
        "def make_model(params):\n",
        "  # Hyperparameters Search Space\n",
        "  DROPOUT_CONV = params.Float(\"dropout_conv\", min_value = 0.1, max_value = 0.3, step = 0.05)\n",
        "  DROPOUT_DENSE = params.Float(\"dropout_dense\", min_value = 0.1, max_value = 0.5, step = 0.1)\n",
        "\n",
        "  FILTERS_1 = params.Choice(\"filters_1\", values = [16, 32, 48])\n",
        "  FILTERS_2 = params.Choice(\"filters_2\", values = [32, 48, 64])\n",
        "  FILTERS_3 = params.Choice(\"filters_3\", values = [48, 64, 96])\n",
        "\n",
        "  UNITS_DENSE = params.Choice(\"units_dense\", values = [16, 32, 48, 64])\n",
        "  OPTIMIZER = params.Choice(\"optimizer\", values = [\"adam\", \"sgd\"])\n",
        "\n",
        "  # Build Model\n",
        "  model = Sequential(\n",
        "      [\n",
        "          Input(shape=(IMG_SIZE, IMG_SIZE, 3)),\n",
        "          RandomFlip(\"horizontal\"),\n",
        "          RandomRotation(0.2),\n",
        "          RandomBrightness(0.2),\n",
        "          Rescaling(scale=1/127.5, offset=-1),\n",
        "          Conv2D(filters=FILTERS_1, kernel_size=3, padding=\"same\", activation=\"relu\"),\n",
        "          MaxPooling2D(),\n",
        "          Dropout(DROPOUT_CONV),\n",
        "          Conv2D(filters=FILTERS_2, kernel_size=3, padding=\"same\", activation=\"relu\"),\n",
        "          MaxPooling2D(),\n",
        "          Dropout(DROPOUT_CONV),\n",
        "          Conv2D(filters=FILTERS_3, kernel_size=3, padding=\"same\", activation=\"relu\"),\n",
        "          MaxPooling2D(),\n",
        "          Dropout(DROPOUT_CONV),\n",
        "          Flatten(),\n",
        "          Dense(UNITS_DENSE),\n",
        "          Dropout(DROPOUT_DENSE),\n",
        "          Dense(NUM_CLASSES),\n",
        "          Softmax()\n",
        "      ]\n",
        "  )\n",
        "\n",
        "  # Compile Model\n",
        "  model.compile(optimizer=OPTIMIZER, loss=\"sparse_categorical_crossentropy\", metrics=[\"accuracy\"])\n",
        "\n",
        "  return model\n"
      ],
      "metadata": {
        "id": "aW-brsTi8Jod"
      },
      "execution_count": 15,
      "outputs": []
    },
    {
      "cell_type": "markdown",
      "source": [
        "## Dataset"
      ],
      "metadata": {
        "id": "bd96AR6KwoMX"
      }
    },
    {
      "cell_type": "code",
      "source": [
        "# Mount Google Drive\n",
        "# Required either way to save to OR read from the processed dataset\n",
        "# Requires user permission\n",
        "if SAVE_TO_DRIVE or not DATASET_FROM_SCRATCH:\n",
        "  drive.mount('/content/drive')\n",
        "# If using the preprocessed dataset, must mount Google Drive\n",
        "# If handling dataset from scratch and saving it and the models is desired"
      ],
      "metadata": {
        "colab": {
          "base_uri": "https://localhost:8080/"
        },
        "id": "gildeUHw1JXV",
        "outputId": "86c1965f-8dfa-41cd-8fdc-e49d5a72a9ca"
      },
      "execution_count": 16,
      "outputs": [
        {
          "output_type": "stream",
          "name": "stdout",
          "text": [
            "Mounted at /content/drive\n"
          ]
        }
      ]
    },
    {
      "cell_type": "code",
      "source": [
        "# Prepare Dataset\n",
        "if DATASET_FROM_SCRATCH:\n",
        "  # Download Original Dataset and Perform All Preprocessing from Scratch\n",
        "  print(\"SELECTED OPTION: Use Original Dataset\")\n",
        "  print(\"The original dataset approx 8 GB will be downloaded and processed\")\n",
        "  print(\"This procedure could take about 20 mins on a free Colab instance.\")\n",
        "  print(\"-----------------------------------------------------------------\")\n",
        "\n",
        "  # Upload Kaggle Credentials JSON File\n",
        "  print(\"STEP 1: Upload Kaggle JSON Credintials\")\n",
        "  kaggle_token = files.upload()\n",
        "\n",
        "  # Set Kaggle Directory Variable to Locate Kaggle Credentials\n",
        "  os.environ['KAGGLE_CONFIG_DIR'] = os.getcwd()\n",
        "\n",
        "  # Download Kaggle Dataset\n",
        "  print(\"STEP 2: Download Dataset\")\n",
        "  !kaggle datasets download -d csafrit2/plant-leaves-for-image-classification\n",
        "\n",
        "  # Unzip Dataset\n",
        "  print(\"STEP 3: Unzip Dataset\")\n",
        "  !unzip -q /content/plant-leaves-for-image-classification.zip\n",
        "\n",
        "  # Delete Diseased Images\n",
        "  print(\"STEP 4: Delete Certain Subdirectories\")\n",
        "  for path in paths:\n",
        "    del_subdirs(path, PATH_KEYWORD)\n",
        "\n",
        "  # Resize Images\n",
        "  print(\"STEP 5: Resize Images\")\n",
        "  resize_images(RESIZE_PIXELS)\n",
        "\n",
        "  if SAVE_TO_DRIVE:\n",
        "    # ZIP Processed Dataset\n",
        "    print(\"STEP 6: Zip Processed Dataset\")\n",
        "    !zip -r -q /content/Plants_2.zip /content/Plants_2\n",
        "\n",
        "    # Save Processed Dataset to Google Drive\n",
        "    print(\"STEP 7: Save Processed Dataset to Drive\")\n",
        "    shutil.copy(\"/content/Plants_2.zip\",\"/content/drive/MyDrive/\")\n",
        "\n",
        "else:\n",
        "  # Use Previously Preprocessed Dataset, to save time\n",
        "  print(\"SELECTED OPTION: Use Previously Preprocessed Dataset\")\n",
        "  !unzip -q /content/drive/MyDrive/Plants_2.zip -d /"
      ],
      "metadata": {
        "colab": {
          "base_uri": "https://localhost:8080/",
          "height": 70
        },
        "id": "DMuUUGjsTJ43",
        "outputId": "f9bbb352-396f-49c1-f10f-7dd816feefde"
      },
      "execution_count": 17,
      "outputs": [
        {
          "output_type": "display_data",
          "data": {
            "text/plain": [
              "'Images resized: 2273'"
            ],
            "application/vnd.google.colaboratory.intrinsic+json": {
              "type": "string"
            }
          },
          "metadata": {}
        },
        {
          "output_type": "stream",
          "name": "stdout",
          "text": [
            "STEP 6: Zip Processed Dataset\n",
            "STEP 7: Save Processed Dataset to Drive\n"
          ]
        }
      ]
    },
    {
      "cell_type": "markdown",
      "source": [
        "## Model"
      ],
      "metadata": {
        "id": "JGR1JFWT7Ogw"
      }
    },
    {
      "cell_type": "code",
      "source": [
        "train_ds = image_dataset_from_directory(paths[0], image_size=(IMG_SIZE, IMG_SIZE)) # Default Batch Size: 32\n",
        "val_ds = image_dataset_from_directory(paths[1], image_size=(IMG_SIZE, IMG_SIZE))\n",
        "test_ds = image_dataset_from_directory(paths[2], image_size=(IMG_SIZE, IMG_SIZE), shuffle = False)"
      ],
      "metadata": {
        "colab": {
          "base_uri": "https://localhost:8080/"
        },
        "id": "j4U7pZE44L6t",
        "outputId": "cc509b2d-7182-4117-adc4-3f28c20d7529"
      },
      "execution_count": 18,
      "outputs": [
        {
          "output_type": "stream",
          "name": "stdout",
          "text": [
            "Found 2163 files belonging to 11 classes.\n",
            "Found 55 files belonging to 11 classes.\n",
            "Found 55 files belonging to 11 classes.\n"
          ]
        }
      ]
    },
    {
      "cell_type": "code",
      "source": [
        "CLASS_NAMES = train_ds.class_names\n",
        "NUM_CLASSES = len(CLASS_NAMES)\n",
        "true_test_labels = np.concatenate([y for x, y in test_ds], axis=0)"
      ],
      "metadata": {
        "id": "8sEPD1fKEj7X"
      },
      "execution_count": 19,
      "outputs": []
    },
    {
      "cell_type": "code",
      "source": [
        "AUTOTUNE = tf.data.AUTOTUNE\n",
        "train_ds = train_ds.shuffle(512).cache().prefetch(buffer_size=AUTOTUNE)\n",
        "val_ds = val_ds.cache().prefetch(buffer_size=AUTOTUNE)\n",
        "test_ds = test_ds.cache().prefetch(buffer_size=AUTOTUNE)"
      ],
      "metadata": {
        "id": "tvoETGQzmqx1"
      },
      "execution_count": 20,
      "outputs": []
    },
    {
      "cell_type": "code",
      "source": [
        "tuner = kt.RandomSearch(make_model, objective = \"val_accuracy\", max_trials = MAX_TRIALS_TUNER, directory = \"grid_search\")\n",
        "tuner.search(train_ds, validation_data = val_ds, epochs = EPOCHS_TUNER)"
      ],
      "metadata": {
        "colab": {
          "base_uri": "https://localhost:8080/"
        },
        "id": "MzqhlKLGBCSa",
        "outputId": "c5f13d3b-8282-4725-ebd9-2b7d6c9866a2"
      },
      "execution_count": 21,
      "outputs": [
        {
          "output_type": "stream",
          "name": "stdout",
          "text": [
            "Trial 10 Complete [00h 01m 35s]\n",
            "val_accuracy: 0.4727272689342499\n",
            "\n",
            "Best val_accuracy So Far: 0.800000011920929\n",
            "Total elapsed time: 00h 14m 24s\n"
          ]
        }
      ]
    },
    {
      "cell_type": "code",
      "source": [
        "tuner.results_summary()"
      ],
      "metadata": {
        "colab": {
          "base_uri": "https://localhost:8080/"
        },
        "id": "hDnX6_WoknZP",
        "outputId": "7bf1519e-d84e-4594-d665-229ac66b7b5a"
      },
      "execution_count": 22,
      "outputs": [
        {
          "output_type": "stream",
          "name": "stdout",
          "text": [
            "Results summary\n",
            "Results in grid_search/untitled_project\n",
            "Showing 10 best trials\n",
            "Objective(name=\"val_accuracy\", direction=\"max\")\n",
            "\n",
            "Trial 01 summary\n",
            "Hyperparameters:\n",
            "dropout_conv: 0.25\n",
            "dropout_dense: 0.30000000000000004\n",
            "filters_1: 48\n",
            "filters_2: 32\n",
            "filters_3: 48\n",
            "units_dense: 32\n",
            "optimizer: adam\n",
            "Score: 0.800000011920929\n",
            "\n",
            "Trial 06 summary\n",
            "Hyperparameters:\n",
            "dropout_conv: 0.15000000000000002\n",
            "dropout_dense: 0.2\n",
            "filters_1: 48\n",
            "filters_2: 32\n",
            "filters_3: 96\n",
            "units_dense: 48\n",
            "optimizer: adam\n",
            "Score: 0.7818182110786438\n",
            "\n",
            "Trial 05 summary\n",
            "Hyperparameters:\n",
            "dropout_conv: 0.1\n",
            "dropout_dense: 0.30000000000000004\n",
            "filters_1: 16\n",
            "filters_2: 32\n",
            "filters_3: 48\n",
            "units_dense: 48\n",
            "optimizer: adam\n",
            "Score: 0.7636363506317139\n",
            "\n",
            "Trial 04 summary\n",
            "Hyperparameters:\n",
            "dropout_conv: 0.15000000000000002\n",
            "dropout_dense: 0.4\n",
            "filters_1: 16\n",
            "filters_2: 64\n",
            "filters_3: 48\n",
            "units_dense: 48\n",
            "optimizer: adam\n",
            "Score: 0.6545454263687134\n",
            "\n",
            "Trial 02 summary\n",
            "Hyperparameters:\n",
            "dropout_conv: 0.1\n",
            "dropout_dense: 0.30000000000000004\n",
            "filters_1: 48\n",
            "filters_2: 48\n",
            "filters_3: 96\n",
            "units_dense: 48\n",
            "optimizer: sgd\n",
            "Score: 0.581818163394928\n",
            "\n",
            "Trial 00 summary\n",
            "Hyperparameters:\n",
            "dropout_conv: 0.1\n",
            "dropout_dense: 0.2\n",
            "filters_1: 32\n",
            "filters_2: 48\n",
            "filters_3: 96\n",
            "units_dense: 32\n",
            "optimizer: sgd\n",
            "Score: 0.5636363625526428\n",
            "\n",
            "Trial 07 summary\n",
            "Hyperparameters:\n",
            "dropout_conv: 0.15000000000000002\n",
            "dropout_dense: 0.2\n",
            "filters_1: 48\n",
            "filters_2: 64\n",
            "filters_3: 48\n",
            "units_dense: 48\n",
            "optimizer: sgd\n",
            "Score: 0.5636363625526428\n",
            "\n",
            "Trial 03 summary\n",
            "Hyperparameters:\n",
            "dropout_conv: 0.15000000000000002\n",
            "dropout_dense: 0.4\n",
            "filters_1: 16\n",
            "filters_2: 64\n",
            "filters_3: 64\n",
            "units_dense: 64\n",
            "optimizer: sgd\n",
            "Score: 0.4909090995788574\n",
            "\n",
            "Trial 08 summary\n",
            "Hyperparameters:\n",
            "dropout_conv: 0.25\n",
            "dropout_dense: 0.4\n",
            "filters_1: 32\n",
            "filters_2: 32\n",
            "filters_3: 64\n",
            "units_dense: 32\n",
            "optimizer: sgd\n",
            "Score: 0.4909090995788574\n",
            "\n",
            "Trial 09 summary\n",
            "Hyperparameters:\n",
            "dropout_conv: 0.2\n",
            "dropout_dense: 0.30000000000000004\n",
            "filters_1: 48\n",
            "filters_2: 32\n",
            "filters_3: 48\n",
            "units_dense: 64\n",
            "optimizer: sgd\n",
            "Score: 0.4727272689342499\n"
          ]
        }
      ]
    },
    {
      "cell_type": "code",
      "source": [
        "best_params = tuner.get_best_hyperparameters()[0]\n",
        "best_params.get_config()[\"values\"]"
      ],
      "metadata": {
        "colab": {
          "base_uri": "https://localhost:8080/"
        },
        "id": "byqyqDCnFNio",
        "outputId": "3fdf5b28-0f12-4932-a717-1c28dc6f87a1"
      },
      "execution_count": 23,
      "outputs": [
        {
          "output_type": "execute_result",
          "data": {
            "text/plain": [
              "{'dropout_conv': 0.25,\n",
              " 'dropout_dense': 0.30000000000000004,\n",
              " 'filters_1': 48,\n",
              " 'filters_2': 32,\n",
              " 'filters_3': 48,\n",
              " 'units_dense': 32,\n",
              " 'optimizer': 'adam'}"
            ]
          },
          "metadata": {},
          "execution_count": 23
        }
      ]
    },
    {
      "cell_type": "code",
      "source": [
        "model = tuner.hypermodel.build(best_params)"
      ],
      "metadata": {
        "id": "YaoLVsDmFdtW"
      },
      "execution_count": 24,
      "outputs": []
    },
    {
      "cell_type": "code",
      "source": [
        "model.summary()"
      ],
      "metadata": {
        "colab": {
          "base_uri": "https://localhost:8080/"
        },
        "id": "r4hM-YzDFwG6",
        "outputId": "3703a90e-6a33-4823-a66b-83235960b320"
      },
      "execution_count": 25,
      "outputs": [
        {
          "output_type": "stream",
          "name": "stdout",
          "text": [
            "Model: \"sequential_1\"\n",
            "_________________________________________________________________\n",
            " Layer (type)                Output Shape              Param #   \n",
            "=================================================================\n",
            " random_flip_1 (RandomFlip)  (None, 256, 256, 3)       0         \n",
            "                                                                 \n",
            " random_rotation_1 (RandomRo  (None, 256, 256, 3)      0         \n",
            " tation)                                                         \n",
            "                                                                 \n",
            " random_brightness_1 (Random  (None, 256, 256, 3)      0         \n",
            " Brightness)                                                     \n",
            "                                                                 \n",
            " rescaling_1 (Rescaling)     (None, 256, 256, 3)       0         \n",
            "                                                                 \n",
            " conv2d_3 (Conv2D)           (None, 256, 256, 48)      1344      \n",
            "                                                                 \n",
            " max_pooling2d_3 (MaxPooling  (None, 128, 128, 48)     0         \n",
            " 2D)                                                             \n",
            "                                                                 \n",
            " dropout_4 (Dropout)         (None, 128, 128, 48)      0         \n",
            "                                                                 \n",
            " conv2d_4 (Conv2D)           (None, 128, 128, 32)      13856     \n",
            "                                                                 \n",
            " max_pooling2d_4 (MaxPooling  (None, 64, 64, 32)       0         \n",
            " 2D)                                                             \n",
            "                                                                 \n",
            " dropout_5 (Dropout)         (None, 64, 64, 32)        0         \n",
            "                                                                 \n",
            " conv2d_5 (Conv2D)           (None, 64, 64, 48)        13872     \n",
            "                                                                 \n",
            " max_pooling2d_5 (MaxPooling  (None, 32, 32, 48)       0         \n",
            " 2D)                                                             \n",
            "                                                                 \n",
            " dropout_6 (Dropout)         (None, 32, 32, 48)        0         \n",
            "                                                                 \n",
            " flatten_1 (Flatten)         (None, 49152)             0         \n",
            "                                                                 \n",
            " dense_2 (Dense)             (None, 32)                1572896   \n",
            "                                                                 \n",
            " dropout_7 (Dropout)         (None, 32)                0         \n",
            "                                                                 \n",
            " dense_3 (Dense)             (None, 11)                363       \n",
            "                                                                 \n",
            " softmax_1 (Softmax)         (None, 11)                0         \n",
            "                                                                 \n",
            "=================================================================\n",
            "Total params: 1,602,331\n",
            "Trainable params: 1,602,331\n",
            "Non-trainable params: 0\n",
            "_________________________________________________________________\n"
          ]
        }
      ]
    },
    {
      "cell_type": "code",
      "source": [
        "earlystop = EarlyStopping(monitor='val_loss', patience=5, restore_best_weights=True, start_from_epoch=50)"
      ],
      "metadata": {
        "id": "JR_7Rq_3GB_x"
      },
      "execution_count": 26,
      "outputs": []
    },
    {
      "cell_type": "code",
      "source": [
        "history = model.fit(train_ds, validation_data=val_ds, epochs=EPOCHS_FIT, callbacks=[earlystop])\n"
      ],
      "metadata": {
        "colab": {
          "base_uri": "https://localhost:8080/"
        },
        "id": "p5Zq9VpwFxvC",
        "outputId": "7898a037-ad6d-4eab-aad6-14e8091247c4"
      },
      "execution_count": 27,
      "outputs": [
        {
          "output_type": "stream",
          "name": "stdout",
          "text": [
            "Epoch 1/100\n",
            "68/68 [==============================] - 11s 127ms/step - loss: 2.8828 - accuracy: 0.1928 - val_loss: 2.1384 - val_accuracy: 0.2000\n",
            "Epoch 2/100\n",
            "68/68 [==============================] - 9s 126ms/step - loss: 2.0076 - accuracy: 0.2922 - val_loss: 1.9582 - val_accuracy: 0.3091\n",
            "Epoch 3/100\n",
            "68/68 [==============================] - 8s 125ms/step - loss: 1.8353 - accuracy: 0.3569 - val_loss: 1.7750 - val_accuracy: 0.3273\n",
            "Epoch 4/100\n",
            "68/68 [==============================] - 8s 124ms/step - loss: 1.6643 - accuracy: 0.4142 - val_loss: 1.4851 - val_accuracy: 0.4545\n",
            "Epoch 5/100\n",
            "68/68 [==============================] - 8s 123ms/step - loss: 1.5931 - accuracy: 0.4485 - val_loss: 1.5721 - val_accuracy: 0.4727\n",
            "Epoch 6/100\n",
            "68/68 [==============================] - 8s 124ms/step - loss: 1.5532 - accuracy: 0.4568 - val_loss: 1.4466 - val_accuracy: 0.5636\n",
            "Epoch 7/100\n",
            "68/68 [==============================] - 8s 123ms/step - loss: 1.4869 - accuracy: 0.4993 - val_loss: 1.3917 - val_accuracy: 0.6000\n",
            "Epoch 8/100\n",
            "68/68 [==============================] - 8s 123ms/step - loss: 1.3778 - accuracy: 0.5210 - val_loss: 1.2318 - val_accuracy: 0.4909\n",
            "Epoch 9/100\n",
            "68/68 [==============================] - 8s 123ms/step - loss: 1.3108 - accuracy: 0.5534 - val_loss: 1.0396 - val_accuracy: 0.6909\n",
            "Epoch 10/100\n",
            "68/68 [==============================] - 8s 122ms/step - loss: 1.1410 - accuracy: 0.6093 - val_loss: 1.0157 - val_accuracy: 0.6545\n",
            "Epoch 11/100\n",
            "68/68 [==============================] - 8s 123ms/step - loss: 1.0655 - accuracy: 0.6352 - val_loss: 0.8616 - val_accuracy: 0.7818\n",
            "Epoch 12/100\n",
            "68/68 [==============================] - 8s 122ms/step - loss: 1.0002 - accuracy: 0.6681 - val_loss: 0.7731 - val_accuracy: 0.7818\n",
            "Epoch 13/100\n",
            "68/68 [==============================] - 8s 122ms/step - loss: 0.9115 - accuracy: 0.6912 - val_loss: 0.8840 - val_accuracy: 0.7273\n",
            "Epoch 14/100\n",
            "68/68 [==============================] - 8s 122ms/step - loss: 0.9495 - accuracy: 0.6801 - val_loss: 0.7691 - val_accuracy: 0.6909\n",
            "Epoch 15/100\n",
            "68/68 [==============================] - 8s 122ms/step - loss: 0.9199 - accuracy: 0.6916 - val_loss: 0.6667 - val_accuracy: 0.7818\n",
            "Epoch 16/100\n",
            "68/68 [==============================] - 8s 121ms/step - loss: 0.8255 - accuracy: 0.7272 - val_loss: 0.5892 - val_accuracy: 0.8364\n",
            "Epoch 17/100\n",
            "68/68 [==============================] - 8s 121ms/step - loss: 0.8125 - accuracy: 0.7295 - val_loss: 0.6997 - val_accuracy: 0.8000\n",
            "Epoch 18/100\n",
            "68/68 [==============================] - 8s 122ms/step - loss: 0.7318 - accuracy: 0.7573 - val_loss: 0.6294 - val_accuracy: 0.7636\n",
            "Epoch 19/100\n",
            "68/68 [==============================] - 8s 120ms/step - loss: 0.6893 - accuracy: 0.7744 - val_loss: 0.5945 - val_accuracy: 0.7636\n",
            "Epoch 20/100\n",
            "68/68 [==============================] - 8s 121ms/step - loss: 0.7082 - accuracy: 0.7748 - val_loss: 0.4285 - val_accuracy: 0.8000\n",
            "Epoch 21/100\n",
            "68/68 [==============================] - 8s 120ms/step - loss: 0.6891 - accuracy: 0.7730 - val_loss: 0.4953 - val_accuracy: 0.8182\n",
            "Epoch 22/100\n",
            "68/68 [==============================] - 8s 121ms/step - loss: 0.6711 - accuracy: 0.7790 - val_loss: 0.4267 - val_accuracy: 0.8545\n",
            "Epoch 23/100\n",
            "68/68 [==============================] - 8s 122ms/step - loss: 0.6182 - accuracy: 0.7994 - val_loss: 0.4612 - val_accuracy: 0.8000\n",
            "Epoch 24/100\n",
            "68/68 [==============================] - 8s 121ms/step - loss: 0.6456 - accuracy: 0.7896 - val_loss: 0.4757 - val_accuracy: 0.8364\n",
            "Epoch 25/100\n",
            "68/68 [==============================] - 8s 120ms/step - loss: 0.5812 - accuracy: 0.8137 - val_loss: 0.5198 - val_accuracy: 0.8000\n",
            "Epoch 26/100\n",
            "68/68 [==============================] - 8s 121ms/step - loss: 0.5885 - accuracy: 0.8035 - val_loss: 0.4279 - val_accuracy: 0.8182\n",
            "Epoch 27/100\n",
            "68/68 [==============================] - 8s 120ms/step - loss: 0.5705 - accuracy: 0.8146 - val_loss: 0.4865 - val_accuracy: 0.7636\n",
            "Epoch 28/100\n",
            "68/68 [==============================] - 8s 119ms/step - loss: 0.5273 - accuracy: 0.8257 - val_loss: 0.5733 - val_accuracy: 0.7818\n",
            "Epoch 29/100\n",
            "68/68 [==============================] - 8s 121ms/step - loss: 0.5234 - accuracy: 0.8225 - val_loss: 0.3843 - val_accuracy: 0.8364\n",
            "Epoch 30/100\n",
            "68/68 [==============================] - 8s 120ms/step - loss: 0.5539 - accuracy: 0.8266 - val_loss: 0.4106 - val_accuracy: 0.8545\n",
            "Epoch 31/100\n",
            "68/68 [==============================] - 8s 120ms/step - loss: 0.5377 - accuracy: 0.8197 - val_loss: 0.3357 - val_accuracy: 0.8727\n",
            "Epoch 32/100\n",
            "68/68 [==============================] - 8s 121ms/step - loss: 0.4823 - accuracy: 0.8451 - val_loss: 0.2745 - val_accuracy: 0.8727\n",
            "Epoch 33/100\n",
            "68/68 [==============================] - 8s 120ms/step - loss: 0.5287 - accuracy: 0.8322 - val_loss: 0.3132 - val_accuracy: 0.9455\n",
            "Epoch 34/100\n",
            "68/68 [==============================] - 8s 120ms/step - loss: 0.5073 - accuracy: 0.8377 - val_loss: 0.2942 - val_accuracy: 0.9091\n",
            "Epoch 35/100\n",
            "68/68 [==============================] - 8s 121ms/step - loss: 0.4307 - accuracy: 0.8567 - val_loss: 0.3867 - val_accuracy: 0.8727\n",
            "Epoch 36/100\n",
            "68/68 [==============================] - 8s 122ms/step - loss: 0.4548 - accuracy: 0.8567 - val_loss: 0.3221 - val_accuracy: 0.8909\n",
            "Epoch 37/100\n",
            "68/68 [==============================] - 8s 120ms/step - loss: 0.4814 - accuracy: 0.8377 - val_loss: 0.2918 - val_accuracy: 0.8909\n",
            "Epoch 38/100\n",
            "68/68 [==============================] - 8s 121ms/step - loss: 0.4788 - accuracy: 0.8433 - val_loss: 0.3786 - val_accuracy: 0.8909\n",
            "Epoch 39/100\n",
            "68/68 [==============================] - 8s 120ms/step - loss: 0.4178 - accuracy: 0.8664 - val_loss: 0.3689 - val_accuracy: 0.8909\n",
            "Epoch 40/100\n",
            "68/68 [==============================] - 8s 119ms/step - loss: 0.4477 - accuracy: 0.8493 - val_loss: 0.2407 - val_accuracy: 0.9091\n",
            "Epoch 41/100\n",
            "68/68 [==============================] - 8s 120ms/step - loss: 0.4007 - accuracy: 0.8664 - val_loss: 0.2940 - val_accuracy: 0.9091\n",
            "Epoch 42/100\n",
            "68/68 [==============================] - 8s 120ms/step - loss: 0.3970 - accuracy: 0.8659 - val_loss: 0.2494 - val_accuracy: 0.8909\n",
            "Epoch 43/100\n",
            "68/68 [==============================] - 8s 120ms/step - loss: 0.4305 - accuracy: 0.8571 - val_loss: 0.1834 - val_accuracy: 0.9273\n",
            "Epoch 44/100\n",
            "68/68 [==============================] - 8s 119ms/step - loss: 0.4228 - accuracy: 0.8530 - val_loss: 0.2282 - val_accuracy: 0.9455\n",
            "Epoch 45/100\n",
            "68/68 [==============================] - 8s 120ms/step - loss: 0.3657 - accuracy: 0.8738 - val_loss: 0.3663 - val_accuracy: 0.8545\n",
            "Epoch 46/100\n",
            "68/68 [==============================] - 8s 120ms/step - loss: 0.3731 - accuracy: 0.8742 - val_loss: 0.2362 - val_accuracy: 0.9091\n",
            "Epoch 47/100\n",
            "68/68 [==============================] - 8s 120ms/step - loss: 0.3836 - accuracy: 0.8766 - val_loss: 0.4474 - val_accuracy: 0.9091\n",
            "Epoch 48/100\n",
            "68/68 [==============================] - 8s 120ms/step - loss: 0.3629 - accuracy: 0.8821 - val_loss: 0.4015 - val_accuracy: 0.8909\n",
            "Epoch 49/100\n",
            "68/68 [==============================] - 8s 120ms/step - loss: 0.3725 - accuracy: 0.8742 - val_loss: 0.1728 - val_accuracy: 0.9455\n",
            "Epoch 50/100\n",
            "68/68 [==============================] - 8s 119ms/step - loss: 0.3349 - accuracy: 0.8918 - val_loss: 0.3506 - val_accuracy: 0.8545\n",
            "Epoch 51/100\n",
            "68/68 [==============================] - 8s 121ms/step - loss: 0.3573 - accuracy: 0.8803 - val_loss: 0.2427 - val_accuracy: 0.9273\n",
            "Epoch 52/100\n",
            "68/68 [==============================] - 8s 120ms/step - loss: 0.3171 - accuracy: 0.8946 - val_loss: 0.2875 - val_accuracy: 0.8909\n",
            "Epoch 53/100\n",
            "68/68 [==============================] - 8s 119ms/step - loss: 0.3686 - accuracy: 0.8816 - val_loss: 0.2446 - val_accuracy: 0.9273\n",
            "Epoch 54/100\n",
            "68/68 [==============================] - 8s 120ms/step - loss: 0.3487 - accuracy: 0.8821 - val_loss: 0.2538 - val_accuracy: 0.9091\n",
            "Epoch 55/100\n",
            "68/68 [==============================] - 8s 119ms/step - loss: 0.3369 - accuracy: 0.8844 - val_loss: 0.4070 - val_accuracy: 0.8727\n",
            "Epoch 56/100\n",
            "68/68 [==============================] - 8s 119ms/step - loss: 0.3002 - accuracy: 0.9029 - val_loss: 0.3605 - val_accuracy: 0.8909\n"
          ]
        }
      ]
    },
    {
      "cell_type": "code",
      "source": [
        "plt.figure(figsize=(10,4))\n",
        "\n",
        "plt.subplot(1,2,1)\n",
        "plt.ylim(0,1)\n",
        "plt.grid(True, \"both\", linestyle=\"--\")\n",
        "plt.plot(history.history['accuracy'])\n",
        "plt.plot(history.history['val_accuracy'])\n",
        "plt.title('Model Accuracy')\n",
        "plt.ylabel('Accuracy')\n",
        "plt.xlabel('Epoch')\n",
        "plt.legend(['Train', 'Validation'], loc='lower right')\n",
        "\n",
        "plt.subplot(1,2,2)\n",
        "plt.grid(True, \"both\", linestyle=\"--\")\n",
        "plt.plot(history.history['loss'])\n",
        "plt.plot(history.history['val_loss'])\n",
        "plt.title('Model Loss')\n",
        "plt.ylabel('Loss')\n",
        "plt.xlabel('Epoch')\n",
        "plt.legend(['Train', 'Validation'], loc='upper right')\n",
        "\n",
        "plt.show()"
      ],
      "metadata": {
        "colab": {
          "base_uri": "https://localhost:8080/",
          "height": 410
        },
        "id": "B2if_KsmGh_D",
        "outputId": "4b5c11c9-d5d5-438e-ec5d-1065b2b15432"
      },
      "execution_count": 28,
      "outputs": [
        {
          "output_type": "display_data",
          "data": {
            "text/plain": [
              "<Figure size 1000x400 with 2 Axes>"
            ],
            "image/png": "[encoded data removed]"
          },
          "metadata": {}
        }
      ]
    },
    {
      "cell_type": "code",
      "source": [
        "# Save Model to Google Drive\n",
        "if SAVE_TO_DRIVE:\n",
        "  model.save(\"amd_cnn_model\")\n",
        "  !zip -r -q /content/amd_cnn_model.zip /content/amd_cnn_model\n",
        "  shutil.copy(\"/content/amd_cnn_model.zip\",\"/content/drive/MyDrive/\")\n"
      ],
      "metadata": {
        "id": "yDACops83YHK",
        "colab": {
          "base_uri": "https://localhost:8080/"
        },
        "outputId": "210df9b4-af9b-4ebf-8b1b-6cc531c563ac"
      },
      "execution_count": 29,
      "outputs": [
        {
          "output_type": "stream",
          "name": "stderr",
          "text": [
            "WARNING:absl:Found untraced functions such as _jit_compiled_convolution_op, _jit_compiled_convolution_op, _jit_compiled_convolution_op while saving (showing 3 of 3). These functions will not be directly callable after loading.\n"
          ]
        }
      ]
    },
    {
      "cell_type": "code",
      "source": [
        "# Load Model from Google Drive\n",
        "# !unzip -q /content/drive/MyDrive/amd_cnn_model.zip -d /\n",
        "# model = tf.keras.models.load_model('./amd_cnn_model')"
      ],
      "metadata": {
        "id": "fGJoGI5_M24r"
      },
      "execution_count": 30,
      "outputs": []
    },
    {
      "cell_type": "code",
      "source": [
        "# Evaluate Performance on Test Dataset\n",
        "results = model.evaluate(test_ds)\n",
        "print(\"Loss: \"+str(results[0])+\" Accuracy: \" + str(results[1]))"
      ],
      "metadata": {
        "colab": {
          "base_uri": "https://localhost:8080/"
        },
        "id": "BNGhI4uHGfCk",
        "outputId": "87ef311e-6cd8-43ca-e4ed-10fab9f1a6da"
      },
      "execution_count": 31,
      "outputs": [
        {
          "output_type": "stream",
          "name": "stdout",
          "text": [
            "2/2 [==============================] - 0s 39ms/step - loss: 0.0907 - accuracy: 0.9636\n",
            "Loss: 0.09072434157133102 Accuracy: 0.9636363387107849\n"
          ]
        }
      ]
    },
    {
      "cell_type": "code",
      "source": [
        "pred_test_labels = np.argmax(model.predict(test_ds), axis = 1)"
      ],
      "metadata": {
        "colab": {
          "base_uri": "https://localhost:8080/"
        },
        "id": "oZaB5T8oboQP",
        "outputId": "75977165-438c-44d5-b567-88065e99a696"
      },
      "execution_count": 32,
      "outputs": [
        {
          "output_type": "stream",
          "name": "stdout",
          "text": [
            "2/2 [==============================] - 0s 21ms/step\n"
          ]
        }
      ]
    },
    {
      "cell_type": "code",
      "source": [
        "true_test_labels = [CLASS_NAMES[label_int] for label_int in true_test_labels]\n",
        "pred_test_labels = [CLASS_NAMES[label_int] for label_int in pred_test_labels]"
      ],
      "metadata": {
        "id": "V_h1hi-xX1Yg"
      },
      "execution_count": 33,
      "outputs": []
    },
    {
      "cell_type": "code",
      "source": [
        "report = classification_report(true_test_labels, pred_test_labels)\n",
        "print(report)"
      ],
      "metadata": {
        "colab": {
          "base_uri": "https://localhost:8080/"
        },
        "id": "r3W6281PcMPD",
        "outputId": "938a0bb0-2546-4456-a460-82f4bb82c4de"
      },
      "execution_count": 34,
      "outputs": [
        {
          "output_type": "stream",
          "name": "stdout",
          "text": [
            "                                  precision    recall  f1-score   support\n",
            "\n",
            "Alstonia Scholaris healthy (P2b)       1.00      0.80      0.89         5\n",
            "             Arjun healthy (P1b)       0.83      1.00      0.91         5\n",
            "              Basil healthy (P8)       1.00      1.00      1.00         5\n",
            "           Chinar healthy (P11a)       1.00      1.00      1.00         5\n",
            "             Gauva healthy (P3a)       1.00      1.00      1.00         5\n",
            "             Jamun healthy (P5a)       1.00      1.00      1.00         5\n",
            "          Jatropha healthy (P6a)       0.83      1.00      0.91         5\n",
            "            Lemon healthy (P10a)       1.00      0.80      0.89         5\n",
            "             Mango healthy (P0a)       1.00      1.00      1.00         5\n",
            "       Pomegranate healthy (P9a)       1.00      1.00      1.00         5\n",
            "  Pongamia Pinnata healthy (P7a)       1.00      1.00      1.00         5\n",
            "\n",
            "                        accuracy                           0.96        55\n",
            "                       macro avg       0.97      0.96      0.96        55\n",
            "                    weighted avg       0.97      0.96      0.96        55\n",
            "\n"
          ]
        }
      ]
    },
    {
      "cell_type": "code",
      "source": [
        "import pandas as pd"
      ],
      "metadata": {
        "id": "w3vFnus2oDUz"
      },
      "execution_count": 35,
      "outputs": []
    },
    {
      "cell_type": "code",
      "source": [
        "# Confusion Matrix\n",
        "simple_class_names = [plant.split()[0] for plant in CLASS_NAMES]\n",
        "heatmap = sns.heatmap(confusion_matrix(true_test_labels, pred_test_labels), \n",
        "                      xticklabels = simple_class_names, yticklabels = simple_class_names, \n",
        "                      annot = True, cmap='RdYlGn')\n",
        "heatmap.set_ylabel(\"True Labels\")\n",
        "heatmap.set_xlabel(\"Predicted Labels\")\n",
        "heatmap.set_title(\"Healthy Leaves Classification Confusion Matrix\")"
      ],
      "metadata": {
        "colab": {
          "base_uri": "https://localhost:8080/",
          "height": 568
        },
        "id": "_NL0s4iUMv25",
        "outputId": "2c9dd2b6-73a6-4827-a505-3053f6168b6b"
      },
      "execution_count": 36,
      "outputs": [
        {
          "output_type": "execute_result",
          "data": {
            "text/plain": [
              "Text(0.5, 1.0, 'Healthy Leaves Classification Confusion Matrix')"
            ]
          },
          "metadata": {},
          "execution_count": 36
        },
        {
          "output_type": "display_data",
          "data": {
            "text/plain": [
              "<Figure size 640x480 with 2 Axes>"
            ],
            "image/png": "[encoded data removed]"
          },
          "metadata": {}
        }
      ]
    }
  ]
}