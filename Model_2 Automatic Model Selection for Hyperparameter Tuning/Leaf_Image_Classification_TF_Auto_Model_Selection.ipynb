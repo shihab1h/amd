{
  "nbformat": 4,
  "nbformat_minor": 0,
  "metadata": {
    "colab": {
      "provenance": [],
      "gpuType": "T4"
    },
    "kernelspec": {
      "name": "python3",
      "display_name": "Python 3"
    },
    "language_info": {
      "name": "python"
    }
  },
  "cells": [
    {
      "cell_type": "markdown",
      "source": [
        "## Libraries"
      ],
      "metadata": {
        "id": "UajZdi6rvupH"
      }
    },
    {
      "cell_type": "code",
      "execution_count": null,
      "metadata": {
        "id": "8QgPyuzZS08X"
      },
      "outputs": [],
      "source": [
        "from google.colab import files, drive\n",
        "import os\n",
        "import shutil\n",
        "from PIL import Image\n",
        "import sys\n",
        "import glob\n",
        "from IPython.display import display, clear_output\n",
        "import matplotlib.pyplot as plt"
      ]
    },
    {
      "cell_type": "code",
      "source": [
        "import tensorflow as tf\n",
        "from tensorflow.keras.utils import image_dataset_from_directory\n",
        "from tensorflow.keras.models import Sequential\n",
        "from tensorflow.keras.layers import Input, RandomFlip, RandomRotation, RandomBrightness, Rescaling\n",
        "from tensorflow.keras.layers import Conv2D, MaxPooling2D, Dropout, Flatten, Dense, Softmax\n",
        "from tensorflow.keras.callbacks import ModelCheckpoint, EarlyStopping"
      ],
      "metadata": {
        "id": "SoZRCI0jwd2o"
      },
      "execution_count": null,
      "outputs": []
    },
    {
      "cell_type": "code",
      "source": [
        "!pip install keras_tuner\n",
        "import keras_tuner as kt"
      ],
      "metadata": {
        "colab": {
          "base_uri": "https://localhost:8080/"
        },
        "id": "np5jVF6tAzmq",
        "outputId": "aa7bc6f8-248b-4dfc-9802-60ff1742ba77"
      },
      "execution_count": null,
      "outputs": [
        {
          "output_type": "stream",
          "name": "stdout",
          "text": [
            "Looking in indexes: https://pypi.org/simple, https://us-python.pkg.dev/colab-wheels/public/simple/\n",
            "Collecting keras_tuner\n",
            "  Downloading keras_tuner-1.3.5-py3-none-any.whl (176 kB)\n",
            "\u001b[2K     \u001b[90m━━━━━━━━━━━━━━━━━━━━━━━━━━━━━━━━━━━━━━━\u001b[0m \u001b[32m176.1/176.1 kB\u001b[0m \u001b[31m5.5 MB/s\u001b[0m eta \u001b[36m0:00:00\u001b[0m\n",
            "\u001b[?25hRequirement already satisfied: packaging in /usr/local/lib/python3.10/dist-packages (from keras_tuner) (23.1)\n",
            "Requirement already satisfied: requests in /usr/local/lib/python3.10/dist-packages (from keras_tuner) (2.27.1)\n",
            "Collecting kt-legacy (from keras_tuner)\n",
            "  Downloading kt_legacy-1.0.5-py3-none-any.whl (9.6 kB)\n",
            "Requirement already satisfied: urllib3<1.27,>=1.21.1 in /usr/local/lib/python3.10/dist-packages (from requests->keras_tuner) (1.26.15)\n",
            "Requirement already satisfied: certifi>=2017.4.17 in /usr/local/lib/python3.10/dist-packages (from requests->keras_tuner) (2022.12.7)\n",
            "Requirement already satisfied: charset-normalizer~=2.0.0 in /usr/local/lib/python3.10/dist-packages (from requests->keras_tuner) (2.0.12)\n",
            "Requirement already satisfied: idna<4,>=2.5 in /usr/local/lib/python3.10/dist-packages (from requests->keras_tuner) (3.4)\n",
            "Installing collected packages: kt-legacy, keras_tuner\n",
            "Successfully installed keras_tuner-1.3.5 kt-legacy-1.0.5\n"
          ]
        }
      ]
    },
    {
      "cell_type": "code",
      "source": [
        "# Delete Unzipped Unempty Directory containing Dataset\n",
        "# Uncommend Code in case of need (e.g., need intact unzipped dataset)\n",
        "# shutil.rmtree(\"./Plants_2\")"
      ],
      "metadata": {
        "id": "a26btQ8YvA-x"
      },
      "execution_count": null,
      "outputs": []
    },
    {
      "cell_type": "markdown",
      "source": [
        "## Global Variables"
      ],
      "metadata": {
        "id": "2IQjoNduvzEr"
      }
    },
    {
      "cell_type": "code",
      "source": [
        "# Choose Source of Dataset\n",
        "DATASET_FROM_SCRATCH = False\n",
        "\n",
        "# IF True: download, unzip, resize dataset from scratch\n",
        "# Estimated time on free Colab instance is 20 mins\n",
        "\n",
        "# IF False: download a saved previously preprocess dataset"
      ],
      "metadata": {
        "id": "TBVLZA3Qw3U5"
      },
      "execution_count": null,
      "outputs": []
    },
    {
      "cell_type": "code",
      "source": [
        "# Paths as Folder Structure\n",
        "paths = [\"Plants_2/train\", \"Plants_2/valid\", \"Plants_2/test\"]\n",
        "paths = [os.path.join(os.getcwd(), path) for path in paths]"
      ],
      "metadata": {
        "id": "RreqaeCPvGGz"
      },
      "execution_count": null,
      "outputs": []
    },
    {
      "cell_type": "code",
      "source": [
        "PATH_KEYWORD = 'diseased'\n",
        "RESIZE_PIXELS = 512"
      ],
      "metadata": {
        "id": "LNjLijuXwNDS"
      },
      "execution_count": null,
      "outputs": []
    },
    {
      "cell_type": "code",
      "source": [
        "IMG_SIZE = 128 # Assumed Square Image IMG_SIZE x IMG_SIZE\n",
        "SEED = 101"
      ],
      "metadata": {
        "id": "QJsI31t5wKo9"
      },
      "execution_count": null,
      "outputs": []
    },
    {
      "cell_type": "code",
      "source": [
        "EPOCHS = 50"
      ],
      "metadata": {
        "id": "XpFQSqy7GK-G"
      },
      "execution_count": null,
      "outputs": []
    },
    {
      "cell_type": "markdown",
      "source": [
        "## Functions"
      ],
      "metadata": {
        "id": "F_UkHplQvhP4"
      }
    },
    {
      "cell_type": "code",
      "source": [
        "# Function to Delete Subdirectories Selectively\n",
        "def del_subdirs(path, keyword):\n",
        "  paths_to_delete = [sd for sd in os.listdir(path) if keyword in sd]\n",
        "  for p2d in paths_to_delete:\n",
        "    shutil.rmtree(os.path.join(path, p2d))\n",
        "  return"
      ],
      "metadata": {
        "id": "YEyyBQq7vXSF"
      },
      "execution_count": null,
      "outputs": []
    },
    {
      "cell_type": "code",
      "source": [
        "# Function to Resize Images\n",
        "def resize_images(size_pixels):\n",
        "  i = 0\n",
        "  for path_subdir in paths:\n",
        "    for img_path in glob.iglob(path_subdir + '/*/*.JPG', recursive=True):\n",
        "        img = Image.open(img_path)\n",
        "        img_resized = img.resize((size_pixels, size_pixels), Image.NEAREST)\n",
        "        img_path_resized = img_path[:-4] + \" _resized\" + img_path[-4:]\n",
        "        img_resized.save(img_path_resized, 'JPEG', quality=90)\n",
        "        os.remove(img_path)\n",
        "        clear_output(wait=True)\n",
        "        i += 1\n",
        "        display('Images resized: ' + str(i))"
      ],
      "metadata": {
        "id": "5M3Jkj5nvggW"
      },
      "execution_count": null,
      "outputs": []
    },
    {
      "cell_type": "code",
      "source": [
        "# Function to Build Deep Learning Model\n",
        "def make_model(params):\n",
        "  dropout_hp = params.Float(\"dropout\", min_value=0.0, max_value=0.2, step=0.1)\n",
        "  filters_hp = params.Choice(\"filters\", values=[16, 32, 64])\n",
        "  units_hp = params.Choice(\"units\", values=[16, 32])\n",
        "  model = Sequential(\n",
        "      [\n",
        "          Input(shape=(IMG_SIZE, IMG_SIZE, 3)),\n",
        "          RandomFlip(\"horizontal\"),\n",
        "          RandomRotation(0.2),\n",
        "          RandomBrightness(0.2),\n",
        "          Rescaling(scale=1/127.5, offset=-1),\n",
        "          Conv2D(filters=filters_hp, kernel_size=3, padding=\"same\", activation=\"relu\"),\n",
        "          MaxPooling2D(),\n",
        "          Dropout(dropout_hp),\n",
        "          Conv2D(filters=2*filters_hp, kernel_size=3, padding=\"same\", activation=\"relu\"),\n",
        "          MaxPooling2D(),\n",
        "          Dropout(dropout_hp),\n",
        "          Conv2D(filters=4*filters_hp, kernel_size=3, padding=\"same\", activation=\"relu\"),\n",
        "          MaxPooling2D(),\n",
        "          Dropout(dropout_hp),\n",
        "          Flatten(),\n",
        "          Dense(units_hp),\n",
        "          Dropout(2*dropout_hp),\n",
        "          Dense(NUM_CLASSES),\n",
        "          Softmax()\n",
        "      ]\n",
        "  )\n",
        "  model.compile(optimizer=\"adam\", loss=\"sparse_categorical_crossentropy\", metrics=[\"accuracy\"])\n",
        "  return model\n"
      ],
      "metadata": {
        "id": "aW-brsTi8Jod"
      },
      "execution_count": null,
      "outputs": []
    },
    {
      "cell_type": "markdown",
      "source": [
        "## Dataset"
      ],
      "metadata": {
        "id": "bd96AR6KwoMX"
      }
    },
    {
      "cell_type": "code",
      "source": [
        "# Mount Google Drive\n",
        "# Required either way to save to OR read from the processed dataset\n",
        "# Requires user permission\n",
        "drive.mount('/content/drive')"
      ],
      "metadata": {
        "colab": {
          "base_uri": "https://localhost:8080/"
        },
        "id": "gildeUHw1JXV",
        "outputId": "4b0f65ce-2c95-4744-8e42-fe9bb509be22"
      },
      "execution_count": null,
      "outputs": [
        {
          "output_type": "stream",
          "name": "stdout",
          "text": [
            "Mounted at /content/drive\n"
          ]
        }
      ]
    },
    {
      "cell_type": "code",
      "source": [
        "# Prepare Dataset\n",
        "if DATASET_FROM_SCRATCH:\n",
        "  # Download Original Dataset and Perform All Preprocessing from Scratch\n",
        "  print(\"SELECTED OPTION: Use Original Dataset\")\n",
        "  print(\"The original dataset approx 8 GB will be downloaded and processed\")\n",
        "  print(\"This procedure could take about 20 mins on a free Colab instance.\")\n",
        "  print(\"-----------------------------------------------------------------\")\n",
        "\n",
        "  # Upload Kaggle Credentials JSON File\n",
        "  print(\"STEP 1: Upload Kaggle JSON Credintials\")\n",
        "  kaggle_token = files.upload()\n",
        "\n",
        "  # Set Kaggle Directory Variable to Locate Kaggle Credentials\n",
        "  os.environ['KAGGLE_CONFIG_DIR'] = os.getcwd()\n",
        "\n",
        "  # Download Kaggle Dataset\n",
        "  print(\"STEP 2: Download Dataset\")\n",
        "  !kaggle datasets download -d csafrit2/plant-leaves-for-image-classification\n",
        "\n",
        "  # Unzip Dataset\n",
        "  print(\"STEP 3: Unzip Dataset\")\n",
        "  !unzip -q /content/plant-leaves-for-image-classification.zip\n",
        "\n",
        "  # Delete Diseased Images\n",
        "  print(\"STEP 4: Delete Certain Subdirectories\")\n",
        "  for path in paths:\n",
        "    del_subdirs(path, PATH_KEYWORD)\n",
        "\n",
        "  # Resize Images\n",
        "  print(\"STEP 5: Resize Images\")\n",
        "  resize_images(RESIZE_PIXELS)\n",
        "\n",
        "  # ZIP Processed Dataset\n",
        "  print(\"STEP 6: Zip Processed Dataset\")\n",
        "  !zip -r -q /content/Plants_2.zip /content/Plants_2\n",
        "\n",
        "  print(\"STEP 7: Save Processed Dataset to Drive\")\n",
        "  shutil.copy(\"/content/Plants_2.zip\",\"/content/drive/MyDrive/\")\n",
        "\n",
        "else:\n",
        "  # Use Previously Preprocessed Dataset, to save time\n",
        "  print(\"SELECTED OPTION: Use Previously Preprocessed Dataset\")\n",
        "  !unzip -q /content/drive/MyDrive/Plants_2.zip -d /"
      ],
      "metadata": {
        "colab": {
          "base_uri": "https://localhost:8080/"
        },
        "id": "DMuUUGjsTJ43",
        "outputId": "f91d0b5c-6d56-4b7a-f5f3-bc426ed2d208"
      },
      "execution_count": null,
      "outputs": [
        {
          "output_type": "stream",
          "name": "stdout",
          "text": [
            "SELECTED OPTION: Use Previously Preprocessed Dataset\n"
          ]
        }
      ]
    },
    {
      "cell_type": "markdown",
      "source": [
        "## Model"
      ],
      "metadata": {
        "id": "JGR1JFWT7Ogw"
      }
    },
    {
      "cell_type": "code",
      "source": [
        "train_ds = image_dataset_from_directory(paths[0], image_size=(IMG_SIZE, IMG_SIZE)) # Default Batch Size: 32\n",
        "val_ds = image_dataset_from_directory(paths[1], image_size=(IMG_SIZE, IMG_SIZE))\n",
        "test_ds = image_dataset_from_directory(paths[2], image_size=(IMG_SIZE, IMG_SIZE))"
      ],
      "metadata": {
        "colab": {
          "base_uri": "https://localhost:8080/"
        },
        "id": "j4U7pZE44L6t",
        "outputId": "7ccf075a-8f68-4a42-beea-d06aad3a7add"
      },
      "execution_count": null,
      "outputs": [
        {
          "output_type": "stream",
          "name": "stdout",
          "text": [
            "Found 2163 files belonging to 11 classes.\n",
            "Found 55 files belonging to 11 classes.\n",
            "Found 55 files belonging to 11 classes.\n"
          ]
        }
      ]
    },
    {
      "cell_type": "code",
      "source": [
        "NUM_CLASSES = len(train_ds.class_names)"
      ],
      "metadata": {
        "id": "8sEPD1fKEj7X"
      },
      "execution_count": null,
      "outputs": []
    },
    {
      "cell_type": "code",
      "source": [
        "AUTOTUNE = tf.data.AUTOTUNE\n",
        "train_ds = train_ds.shuffle(512).cache().prefetch(buffer_size=AUTOTUNE)\n",
        "val_ds = val_ds.cache().prefetch(buffer_size=AUTOTUNE)\n",
        "test_ds = test_ds.cache().prefetch(buffer_size=AUTOTUNE)"
      ],
      "metadata": {
        "id": "tvoETGQzmqx1"
      },
      "execution_count": null,
      "outputs": []
    },
    {
      "cell_type": "code",
      "source": [
        "tuner = kt.RandomSearch(make_model, objective=\"val_accuracy\", max_trials=5, directory=\"grid_search\")\n",
        "tuner.search(train_ds, validation_data = val_ds, epochs = 10)"
      ],
      "metadata": {
        "colab": {
          "base_uri": "https://localhost:8080/"
        },
        "id": "MzqhlKLGBCSa",
        "outputId": "fac55d6e-3bf7-416b-8ae5-028ec27e197d"
      },
      "execution_count": null,
      "outputs": [
        {
          "output_type": "stream",
          "name": "stdout",
          "text": [
            "Trial 5 Complete [00h 00m 25s]\n",
            "val_accuracy: 0.7454545497894287\n",
            "\n",
            "Best val_accuracy So Far: 0.7818182110786438\n",
            "Total elapsed time: 00h 02m 34s\n"
          ]
        }
      ]
    },
    {
      "cell_type": "code",
      "source": [
        "best_params = tuner.get_best_hyperparameters()[0]\n",
        "best_params.get_config()"
      ],
      "metadata": {
        "colab": {
          "base_uri": "https://localhost:8080/"
        },
        "id": "byqyqDCnFNio",
        "outputId": "1cee7c14-573f-4b9f-c6ab-a25d36c34415"
      },
      "execution_count": null,
      "outputs": [
        {
          "output_type": "execute_result",
          "data": {
            "text/plain": [
              "{'space': [{'class_name': 'Float',\n",
              "   'config': {'name': 'dropout',\n",
              "    'default': 0.0,\n",
              "    'conditions': [],\n",
              "    'min_value': 0.0,\n",
              "    'max_value': 0.2,\n",
              "    'step': 0.1,\n",
              "    'sampling': 'linear'}},\n",
              "  {'class_name': 'Choice',\n",
              "   'config': {'name': 'filters',\n",
              "    'default': 16,\n",
              "    'conditions': [],\n",
              "    'values': [16, 32, 64],\n",
              "    'ordered': True}},\n",
              "  {'class_name': 'Choice',\n",
              "   'config': {'name': 'units',\n",
              "    'default': 16,\n",
              "    'conditions': [],\n",
              "    'values': [16, 32],\n",
              "    'ordered': True}}],\n",
              " 'values': {'dropout': 0.1, 'filters': 64, 'units': 32}}"
            ]
          },
          "metadata": {},
          "execution_count": 25
        }
      ]
    },
    {
      "cell_type": "code",
      "source": [
        "model = tuner.hypermodel.build(best_params)"
      ],
      "metadata": {
        "id": "YaoLVsDmFdtW"
      },
      "execution_count": null,
      "outputs": []
    },
    {
      "cell_type": "code",
      "source": [
        "model.summary()"
      ],
      "metadata": {
        "colab": {
          "base_uri": "https://localhost:8080/"
        },
        "id": "r4hM-YzDFwG6",
        "outputId": "fc0a76fb-90d8-4e02-991d-0ca06fb694eb"
      },
      "execution_count": null,
      "outputs": [
        {
          "output_type": "stream",
          "name": "stdout",
          "text": [
            "Model: \"sequential_1\"\n",
            "_________________________________________________________________\n",
            " Layer (type)                Output Shape              Param #   \n",
            "=================================================================\n",
            " random_flip_1 (RandomFlip)  (None, 128, 128, 3)       0         \n",
            "                                                                 \n",
            " random_rotation_1 (RandomRo  (None, 128, 128, 3)      0         \n",
            " tation)                                                         \n",
            "                                                                 \n",
            " random_brightness_1 (Random  (None, 128, 128, 3)      0         \n",
            " Brightness)                                                     \n",
            "                                                                 \n",
            " rescaling_1 (Rescaling)     (None, 128, 128, 3)       0         \n",
            "                                                                 \n",
            " conv2d_3 (Conv2D)           (None, 128, 128, 64)      1792      \n",
            "                                                                 \n",
            " max_pooling2d_3 (MaxPooling  (None, 64, 64, 64)       0         \n",
            " 2D)                                                             \n",
            "                                                                 \n",
            " dropout_4 (Dropout)         (None, 64, 64, 64)        0         \n",
            "                                                                 \n",
            " conv2d_4 (Conv2D)           (None, 64, 64, 128)       73856     \n",
            "                                                                 \n",
            " max_pooling2d_4 (MaxPooling  (None, 32, 32, 128)      0         \n",
            " 2D)                                                             \n",
            "                                                                 \n",
            " dropout_5 (Dropout)         (None, 32, 32, 128)       0         \n",
            "                                                                 \n",
            " conv2d_5 (Conv2D)           (None, 32, 32, 256)       295168    \n",
            "                                                                 \n",
            " max_pooling2d_5 (MaxPooling  (None, 16, 16, 256)      0         \n",
            " 2D)                                                             \n",
            "                                                                 \n",
            " dropout_6 (Dropout)         (None, 16, 16, 256)       0         \n",
            "                                                                 \n",
            " flatten_1 (Flatten)         (None, 65536)             0         \n",
            "                                                                 \n",
            " dense_2 (Dense)             (None, 32)                2097184   \n",
            "                                                                 \n",
            " dropout_7 (Dropout)         (None, 32)                0         \n",
            "                                                                 \n",
            " dense_3 (Dense)             (None, 11)                363       \n",
            "                                                                 \n",
            " softmax_1 (Softmax)         (None, 11)                0         \n",
            "                                                                 \n",
            "=================================================================\n",
            "Total params: 2,468,363\n",
            "Trainable params: 2,468,363\n",
            "Non-trainable params: 0\n",
            "_________________________________________________________________\n"
          ]
        }
      ]
    },
    {
      "cell_type": "code",
      "source": [
        "earlystop = EarlyStopping(monitor='val_loss', patience=5, restore_best_weights=True, start_from_epoch=10)"
      ],
      "metadata": {
        "id": "JR_7Rq_3GB_x"
      },
      "execution_count": null,
      "outputs": []
    },
    {
      "cell_type": "code",
      "source": [
        "history = model.fit(train_ds, validation_data=val_ds, epochs=EPOCHS, callbacks=[earlystop])\n"
      ],
      "metadata": {
        "colab": {
          "base_uri": "https://localhost:8080/"
        },
        "id": "p5Zq9VpwFxvC",
        "outputId": "93a586b0-c6bb-4de0-af19-661a7fd0cf08"
      },
      "execution_count": null,
      "outputs": [
        {
          "output_type": "stream",
          "name": "stdout",
          "text": [
            "Epoch 1/50\n",
            "68/68 [==============================] - 6s 56ms/step - loss: 2.3115 - accuracy: 0.2483 - val_loss: 1.8471 - val_accuracy: 0.3455\n",
            "Epoch 2/50\n",
            "68/68 [==============================] - 3s 47ms/step - loss: 1.7207 - accuracy: 0.4087 - val_loss: 1.5692 - val_accuracy: 0.4000\n",
            "Epoch 3/50\n",
            "68/68 [==============================] - 3s 47ms/step - loss: 1.5585 - accuracy: 0.4545 - val_loss: 1.4920 - val_accuracy: 0.4727\n",
            "Epoch 4/50\n",
            "68/68 [==============================] - 3s 46ms/step - loss: 1.4710 - accuracy: 0.4864 - val_loss: 1.3233 - val_accuracy: 0.5273\n",
            "Epoch 5/50\n",
            "68/68 [==============================] - 3s 48ms/step - loss: 1.3409 - accuracy: 0.5488 - val_loss: 1.5058 - val_accuracy: 0.5091\n",
            "Epoch 6/50\n",
            "68/68 [==============================] - 3s 49ms/step - loss: 1.1767 - accuracy: 0.6172 - val_loss: 1.1312 - val_accuracy: 0.6545\n",
            "Epoch 7/50\n",
            "68/68 [==============================] - 3s 46ms/step - loss: 1.0803 - accuracy: 0.6389 - val_loss: 1.0376 - val_accuracy: 0.6364\n",
            "Epoch 8/50\n",
            "68/68 [==============================] - 3s 46ms/step - loss: 1.0117 - accuracy: 0.6602 - val_loss: 1.1211 - val_accuracy: 0.6000\n",
            "Epoch 9/50\n",
            "68/68 [==============================] - 3s 49ms/step - loss: 0.8366 - accuracy: 0.7194 - val_loss: 1.6521 - val_accuracy: 0.5818\n",
            "Epoch 10/50\n",
            "68/68 [==============================] - 3s 46ms/step - loss: 0.8224 - accuracy: 0.7295 - val_loss: 1.0677 - val_accuracy: 0.6182\n",
            "Epoch 11/50\n",
            "68/68 [==============================] - 3s 47ms/step - loss: 0.7987 - accuracy: 0.7212 - val_loss: 1.2941 - val_accuracy: 0.5636\n",
            "Epoch 12/50\n",
            "68/68 [==============================] - 3s 47ms/step - loss: 0.6996 - accuracy: 0.7785 - val_loss: 0.8866 - val_accuracy: 0.6545\n",
            "Epoch 13/50\n",
            "68/68 [==============================] - 3s 48ms/step - loss: 0.7083 - accuracy: 0.7564 - val_loss: 1.1315 - val_accuracy: 0.6909\n",
            "Epoch 14/50\n",
            "68/68 [==============================] - 3s 46ms/step - loss: 0.6283 - accuracy: 0.7924 - val_loss: 1.3553 - val_accuracy: 0.6545\n",
            "Epoch 15/50\n",
            "68/68 [==============================] - 3s 48ms/step - loss: 0.6105 - accuracy: 0.7998 - val_loss: 0.9674 - val_accuracy: 0.6909\n",
            "Epoch 16/50\n",
            "68/68 [==============================] - 4s 52ms/step - loss: 0.5485 - accuracy: 0.8252 - val_loss: 0.8780 - val_accuracy: 0.7091\n",
            "Epoch 17/50\n",
            "68/68 [==============================] - 4s 54ms/step - loss: 0.5376 - accuracy: 0.8146 - val_loss: 0.9912 - val_accuracy: 0.7273\n",
            "Epoch 18/50\n",
            "68/68 [==============================] - 3s 47ms/step - loss: 0.5776 - accuracy: 0.8031 - val_loss: 0.6562 - val_accuracy: 0.8000\n",
            "Epoch 19/50\n",
            "68/68 [==============================] - 3s 46ms/step - loss: 0.5457 - accuracy: 0.8151 - val_loss: 0.8181 - val_accuracy: 0.7091\n",
            "Epoch 20/50\n",
            "68/68 [==============================] - 3s 48ms/step - loss: 0.5524 - accuracy: 0.8007 - val_loss: 0.7080 - val_accuracy: 0.7818\n",
            "Epoch 21/50\n",
            "68/68 [==============================] - 3s 47ms/step - loss: 0.4790 - accuracy: 0.8354 - val_loss: 0.6983 - val_accuracy: 0.8182\n",
            "Epoch 22/50\n",
            "68/68 [==============================] - 3s 48ms/step - loss: 0.5276 - accuracy: 0.8206 - val_loss: 0.8375 - val_accuracy: 0.7636\n",
            "Epoch 23/50\n",
            "68/68 [==============================] - 3s 47ms/step - loss: 0.4434 - accuracy: 0.8410 - val_loss: 1.1772 - val_accuracy: 0.7273\n"
          ]
        }
      ]
    },
    {
      "cell_type": "code",
      "source": [
        "results = model.evaluate(test_ds)\n",
        "print(\"Loss: \"+str(results[0])+\" Accuracy: \" + str(results[1]))"
      ],
      "metadata": {
        "colab": {
          "base_uri": "https://localhost:8080/"
        },
        "id": "BNGhI4uHGfCk",
        "outputId": "c75f261f-c369-4875-8f76-0240ef2d3ae3"
      },
      "execution_count": null,
      "outputs": [
        {
          "output_type": "stream",
          "name": "stdout",
          "text": [
            "2/2 [==============================] - 0s 18ms/step - loss: 0.2839 - accuracy: 0.9636\n",
            "Loss: 0.28389567136764526 Accuracy: 0.9636363387107849\n"
          ]
        }
      ]
    },
    {
      "cell_type": "code",
      "source": [
        "plt.figure(figsize=(10,4))\n",
        "\n",
        "plt.subplot(1,2,1)\n",
        "plt.ylim(0,1)\n",
        "plt.grid(True, \"both\", linestyle=\"--\")\n",
        "plt.plot(history.history['accuracy'])\n",
        "plt.plot(history.history['val_accuracy'])\n",
        "plt.title('Model Accuracy')\n",
        "plt.ylabel('Accuracy')\n",
        "plt.xlabel('Epoch')\n",
        "plt.legend(['Train', 'Validation'], loc='lower right')\n",
        "\n",
        "plt.subplot(1,2,2)\n",
        "plt.grid(True, \"both\", linestyle=\"--\")\n",
        "plt.plot(history.history['loss'])\n",
        "plt.plot(history.history['val_loss'])\n",
        "plt.title('Model Loss')\n",
        "plt.ylabel('Loss')\n",
        "plt.xlabel('Epoch')\n",
        "plt.legend(['Train', 'Validation'], loc='upper right')\n",
        "\n",
        "plt.show()"
      ],
      "metadata": {
        "colab": {
          "base_uri": "https://localhost:8080/",
          "height": 410
        },
        "id": "B2if_KsmGh_D",
        "outputId": "b185cd95-1333-4275-f2da-77f0f6caac72"
      },
      "execution_count": null,
      "outputs": [
        {
          "output_type": "display_data",
          "data": {
            "text/plain": [
              "<Figure size 1000x400 with 2 Axes>"
            ],
            "image/png": "[encoded data removed]"
          },
          "metadata": {}
        }
      ]
    },
    {
      "cell_type": "code",
      "source": [
        "model.save(\"amd_cnn_model\")"
      ],
      "metadata": {
        "colab": {
          "base_uri": "https://localhost:8080/"
        },
        "id": "5hw3poklG_-W",
        "outputId": "f7780312-5483-44ad-b1fd-a1cd955a814e"
      },
      "execution_count": null,
      "outputs": [
        {
          "output_type": "stream",
          "name": "stderr",
          "text": [
            "WARNING:absl:Found untraced functions such as _jit_compiled_convolution_op, _jit_compiled_convolution_op, _jit_compiled_convolution_op while saving (showing 3 of 3). These functions will not be directly callable after loading.\n"
          ]
        }
      ]
    }
  ]
}