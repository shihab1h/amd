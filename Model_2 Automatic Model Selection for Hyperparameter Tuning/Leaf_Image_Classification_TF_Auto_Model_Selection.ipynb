{
  "cells": [
    {
      "cell_type": "markdown",
      "metadata": {
        "id": "UajZdi6rvupH"
      },
      "source": [
        "## Libraries"
      ]
    },
    {
      "cell_type": "code",
      "execution_count": 1,
      "metadata": {
        "id": "8QgPyuzZS08X"
      },
      "outputs": [],
      "source": [
        "from google.colab import files, drive\n",
        "import os\n",
        "import shutil\n",
        "from PIL import Image\n",
        "import sys\n",
        "import glob\n",
        "from IPython.display import display, clear_output\n",
        "import matplotlib.pyplot as plt"
      ]
    },
    {
      "cell_type": "code",
      "execution_count": 2,
      "metadata": {
        "id": "SoZRCI0jwd2o"
      },
      "outputs": [],
      "source": [
        "import tensorflow as tf\n",
        "from tensorflow.keras.utils import image_dataset_from_directory\n",
        "from tensorflow.keras.models import Sequential\n",
        "from tensorflow.keras.layers import Input, RandomFlip, RandomRotation, RandomBrightness, Rescaling\n",
        "from tensorflow.keras.layers import Conv2D, MaxPooling2D, Dropout, Flatten, Dense, Softmax\n",
        "from tensorflow.keras.callbacks import ModelCheckpoint, EarlyStopping"
      ]
    },
    {
      "cell_type": "code",
      "execution_count": 3,
      "metadata": {
        "colab": {
          "base_uri": "https://localhost:8080/"
        },
        "id": "np5jVF6tAzmq",
        "outputId": "de997f76-22ac-419f-8a1d-237e3333a6b5"
      },
      "outputs": [
        {
          "name": "stdout",
          "output_type": "stream",
          "text": [
            "Looking in indexes: https://pypi.org/simple, https://us-python.pkg.dev/colab-wheels/public/simple/\n",
            "Collecting keras_tuner\n",
            "  Downloading keras_tuner-1.3.5-py3-none-any.whl (176 kB)\n",
            "\u001b[2K     \u001b[90m━━━━━━━━━━━━━━━━━━━━━━━━━━━━━━━━━━━━━━\u001b[0m \u001b[32m176.1/176.1 kB\u001b[0m \u001b[31m10.6 MB/s\u001b[0m eta \u001b[36m0:00:00\u001b[0m\n",
            "\u001b[?25hRequirement already satisfied: packaging in /usr/local/lib/python3.10/dist-packages (from keras_tuner) (23.1)\n",
            "Requirement already satisfied: requests in /usr/local/lib/python3.10/dist-packages (from keras_tuner) (2.27.1)\n",
            "Collecting kt-legacy (from keras_tuner)\n",
            "  Downloading kt_legacy-1.0.5-py3-none-any.whl (9.6 kB)\n",
            "Requirement already satisfied: urllib3<1.27,>=1.21.1 in /usr/local/lib/python3.10/dist-packages (from requests->keras_tuner) (1.26.15)\n",
            "Requirement already satisfied: certifi>=2017.4.17 in /usr/local/lib/python3.10/dist-packages (from requests->keras_tuner) (2022.12.7)\n",
            "Requirement already satisfied: charset-normalizer~=2.0.0 in /usr/local/lib/python3.10/dist-packages (from requests->keras_tuner) (2.0.12)\n",
            "Requirement already satisfied: idna<4,>=2.5 in /usr/local/lib/python3.10/dist-packages (from requests->keras_tuner) (3.4)\n",
            "Installing collected packages: kt-legacy, keras_tuner\n",
            "Successfully installed keras_tuner-1.3.5 kt-legacy-1.0.5\n"
          ]
        }
      ],
      "source": [
        "!pip install keras_tuner\n",
        "import keras_tuner as kt"
      ]
    },
    {
      "cell_type": "code",
      "execution_count": 4,
      "metadata": {
        "id": "a26btQ8YvA-x"
      },
      "outputs": [],
      "source": [
        "# Delete Unzipped Unempty Directory containing Dataset\n",
        "# Uncommend Code in case of need (e.g., need intact unzipped dataset)\n",
        "# shutil.rmtree(\"./Plants_2\")"
      ]
    },
    {
      "cell_type": "markdown",
      "metadata": {
        "id": "2IQjoNduvzEr"
      },
      "source": [
        "## Global Variables"
      ]
    },
    {
      "cell_type": "code",
      "execution_count": 5,
      "metadata": {
        "id": "TBVLZA3Qw3U5"
      },
      "outputs": [],
      "source": [
        "# Choose Source of Dataset\n",
        "DATASET_FROM_SCRATCH = False\n",
        "\n",
        "# IF True: download, unzip, resize dataset from scratch\n",
        "# Estimated time on free Colab instance is 20 mins\n",
        "\n",
        "# IF False: download a saved previously preprocess dataset"
      ]
    },
    {
      "cell_type": "code",
      "execution_count": 6,
      "metadata": {
        "id": "RreqaeCPvGGz"
      },
      "outputs": [],
      "source": [
        "# Paths as Folder Structure\n",
        "paths = [\"Plants_2/train\", \"Plants_2/valid\", \"Plants_2/test\"]\n",
        "paths = [os.path.join(os.getcwd(), path) for path in paths]"
      ]
    },
    {
      "cell_type": "code",
      "execution_count": 7,
      "metadata": {
        "id": "LNjLijuXwNDS"
      },
      "outputs": [],
      "source": [
        "PATH_KEYWORD = 'diseased'\n",
        "RESIZE_PIXELS = 512"
      ]
    },
    {
      "cell_type": "code",
      "execution_count": 8,
      "metadata": {
        "id": "QJsI31t5wKo9"
      },
      "outputs": [],
      "source": [
        "IMG_SIZE = 256 # Assumed Square Image IMG_SIZE x IMG_SIZE\n",
        "SEED = 101"
      ]
    },
    {
      "cell_type": "code",
      "execution_count": 9,
      "metadata": {
        "id": "XpFQSqy7GK-G"
      },
      "outputs": [],
      "source": [
        "MAX_TRIALS_TUNER = 10\n",
        "EPOCHS_TUNER = 10"
      ]
    },
    {
      "cell_type": "code",
      "execution_count": 10,
      "metadata": {
        "id": "Z3Cz6rwshcG4"
      },
      "outputs": [],
      "source": [
        "EPOCHS_FIT = 100"
      ]
    },
    {
      "cell_type": "markdown",
      "metadata": {
        "id": "F_UkHplQvhP4"
      },
      "source": [
        "## Functions"
      ]
    },
    {
      "cell_type": "code",
      "execution_count": 11,
      "metadata": {
        "id": "YEyyBQq7vXSF"
      },
      "outputs": [],
      "source": [
        "# Function to Delete Subdirectories Selectively\n",
        "def del_subdirs(path, keyword):\n",
        "  paths_to_delete = [sd for sd in os.listdir(path) if keyword in sd]\n",
        "  for p2d in paths_to_delete:\n",
        "    shutil.rmtree(os.path.join(path, p2d))\n",
        "  return"
      ]
    },
    {
      "cell_type": "code",
      "execution_count": 12,
      "metadata": {
        "id": "5M3Jkj5nvggW"
      },
      "outputs": [],
      "source": [
        "# Function to Resize Images\n",
        "def resize_images(size_pixels):\n",
        "  i = 0\n",
        "  for path_subdir in paths:\n",
        "    for img_path in glob.iglob(path_subdir + '/*/*.JPG', recursive=True):\n",
        "        img = Image.open(img_path)\n",
        "        img_resized = img.resize((size_pixels, size_pixels), Image.NEAREST)\n",
        "        img_path_resized = img_path[:-4] + \" _resized\" + img_path[-4:]\n",
        "        img_resized.save(img_path_resized, 'JPEG', quality=90)\n",
        "        os.remove(img_path)\n",
        "        clear_output(wait=True)\n",
        "        i += 1\n",
        "        display('Images resized: ' + str(i))"
      ]
    },
    {
      "cell_type": "code",
      "execution_count": 13,
      "metadata": {
        "id": "aW-brsTi8Jod"
      },
      "outputs": [],
      "source": [
        "# Function to Build Deep Learning Model\n",
        "def make_model(params):\n",
        "  # Hyperparameters Search Space\n",
        "  DROPOUT_CONV = params.Float(\"dropout_conv\", min_value = 0.1, max_value = 0.5, step = 0.1)\n",
        "  DROPOUT_DENSE = params.Float(\"dropout_dense\", min_value = 0.1, max_value = 0.5, step = 0.1)\n",
        "\n",
        "  FILTERS_1 = params.Choice(\"filters_1\", values = [16, 32, 48])\n",
        "  FILTERS_2 = params.Choice(\"filters_2\", values = [32, 48, 64])\n",
        "  FILTERS_3 = params.Choice(\"filters_3\", values = [48, 64, 96])\n",
        "\n",
        "  UNITS_DENSE = params.Choice(\"units_dense\", values = [16, 32, 48, 64])\n",
        "  OPTIMIZER = params.Choice(\"optimizer\", values = [\"adam\", \"sgd\"])\n",
        "\n",
        "  # Build Model\n",
        "  model = Sequential(\n",
        "      [\n",
        "          Input(shape=(IMG_SIZE, IMG_SIZE, 3)),\n",
        "          RandomFlip(\"horizontal\"),\n",
        "          RandomRotation(0.2),\n",
        "          RandomBrightness(0.2),\n",
        "          Rescaling(scale=1/127.5, offset=-1),\n",
        "          Conv2D(filters=FILTERS_1, kernel_size=3, padding=\"same\", activation=\"relu\"),\n",
        "          MaxPooling2D(),\n",
        "          Dropout(DROPOUT_CONV),\n",
        "          Conv2D(filters=FILTERS_2, kernel_size=3, padding=\"same\", activation=\"relu\"),\n",
        "          MaxPooling2D(),\n",
        "          Dropout(DROPOUT_CONV),\n",
        "          Conv2D(filters=FILTERS_3, kernel_size=3, padding=\"same\", activation=\"relu\"),\n",
        "          MaxPooling2D(),\n",
        "          Dropout(DROPOUT_CONV),\n",
        "          Flatten(),\n",
        "          Dense(UNITS_DENSE),\n",
        "          Dropout(DROPOUT_DENSE),\n",
        "          Dense(NUM_CLASSES),\n",
        "          Softmax()\n",
        "      ]\n",
        "  )\n",
        "\n",
        "  # Compile Model\n",
        "  model.compile(optimizer=OPTIMIZER, loss=\"sparse_categorical_crossentropy\", metrics=[\"accuracy\"])\n",
        "\n",
        "  return model\n"
      ]
    },
    {
      "cell_type": "markdown",
      "metadata": {
        "id": "bd96AR6KwoMX"
      },
      "source": [
        "## Dataset"
      ]
    },
    {
      "cell_type": "code",
      "execution_count": 14,
      "metadata": {
        "colab": {
          "base_uri": "https://localhost:8080/"
        },
        "id": "gildeUHw1JXV",
        "outputId": "d3adf618-4f0b-490e-af35-83e5a0212938"
      },
      "outputs": [
        {
          "name": "stdout",
          "output_type": "stream",
          "text": [
            "Mounted at /content/drive\n"
          ]
        }
      ],
      "source": [
        "# Mount Google Drive\n",
        "# Required either way to save to OR read from the processed dataset\n",
        "# Requires user permission\n",
        "drive.mount('/content/drive')"
      ]
    },
    {
      "cell_type": "code",
      "execution_count": 15,
      "metadata": {
        "colab": {
          "base_uri": "https://localhost:8080/"
        },
        "id": "DMuUUGjsTJ43",
        "outputId": "c19a3f2f-5507-4c68-bb4d-c91b0db88e2c"
      },
      "outputs": [
        {
          "name": "stdout",
          "output_type": "stream",
          "text": [
            "SELECTED OPTION: Use Previously Preprocessed Dataset\n"
          ]
        }
      ],
      "source": [
        "# Prepare Dataset\n",
        "if DATASET_FROM_SCRATCH:\n",
        "  # Download Original Dataset and Perform All Preprocessing from Scratch\n",
        "  print(\"SELECTED OPTION: Use Original Dataset\")\n",
        "  print(\"The original dataset approx 8 GB will be downloaded and processed\")\n",
        "  print(\"This procedure could take about 20 mins on a free Colab instance.\")\n",
        "  print(\"-----------------------------------------------------------------\")\n",
        "\n",
        "  # Upload Kaggle Credentials JSON File\n",
        "  print(\"STEP 1: Upload Kaggle JSON Credintials\")\n",
        "  kaggle_token = files.upload()\n",
        "\n",
        "  # Set Kaggle Directory Variable to Locate Kaggle Credentials\n",
        "  os.environ['KAGGLE_CONFIG_DIR'] = os.getcwd()\n",
        "\n",
        "  # Download Kaggle Dataset\n",
        "  print(\"STEP 2: Download Dataset\")\n",
        "  !kaggle datasets download -d csafrit2/plant-leaves-for-image-classification\n",
        "\n",
        "  # Unzip Dataset\n",
        "  print(\"STEP 3: Unzip Dataset\")\n",
        "  !unzip -q /content/plant-leaves-for-image-classification.zip\n",
        "\n",
        "  # Delete Diseased Images\n",
        "  print(\"STEP 4: Delete Certain Subdirectories\")\n",
        "  for path in paths:\n",
        "    del_subdirs(path, PATH_KEYWORD)\n",
        "\n",
        "  # Resize Images\n",
        "  print(\"STEP 5: Resize Images\")\n",
        "  resize_images(RESIZE_PIXELS)\n",
        "\n",
        "  # ZIP Processed Dataset\n",
        "  print(\"STEP 6: Zip Processed Dataset\")\n",
        "  !zip -r -q /content/Plants_2.zip /content/Plants_2\n",
        "\n",
        "  print(\"STEP 7: Save Processed Dataset to Drive\")\n",
        "  shutil.copy(\"/content/Plants_2.zip\",\"/content/drive/MyDrive/\")\n",
        "\n",
        "else:\n",
        "  # Use Previously Preprocessed Dataset, to save time\n",
        "  print(\"SELECTED OPTION: Use Previously Preprocessed Dataset\")\n",
        "  !unzip -q /content/drive/MyDrive/Plants_2.zip -d /"
      ]
    },
    {
      "cell_type": "markdown",
      "metadata": {
        "id": "JGR1JFWT7Ogw"
      },
      "source": [
        "## Model"
      ]
    },
    {
      "cell_type": "code",
      "execution_count": 16,
      "metadata": {
        "colab": {
          "base_uri": "https://localhost:8080/"
        },
        "id": "j4U7pZE44L6t",
        "outputId": "c840e6f5-2a09-40a6-c894-0b7460505f18"
      },
      "outputs": [
        {
          "name": "stdout",
          "output_type": "stream",
          "text": [
            "Found 2163 files belonging to 11 classes.\n",
            "Found 55 files belonging to 11 classes.\n",
            "Found 55 files belonging to 11 classes.\n"
          ]
        }
      ],
      "source": [
        "train_ds = image_dataset_from_directory(paths[0], image_size=(IMG_SIZE, IMG_SIZE)) # Default Batch Size: 32\n",
        "val_ds = image_dataset_from_directory(paths[1], image_size=(IMG_SIZE, IMG_SIZE))\n",
        "test_ds = image_dataset_from_directory(paths[2], image_size=(IMG_SIZE, IMG_SIZE))"
      ]
    },
    {
      "cell_type": "code",
      "execution_count": 17,
      "metadata": {
        "id": "8sEPD1fKEj7X"
      },
      "outputs": [],
      "source": [
        "NUM_CLASSES = len(train_ds.class_names)"
      ]
    },
    {
      "cell_type": "code",
      "execution_count": 18,
      "metadata": {
        "id": "tvoETGQzmqx1"
      },
      "outputs": [],
      "source": [
        "AUTOTUNE = tf.data.AUTOTUNE\n",
        "train_ds = train_ds.shuffle(512).cache().prefetch(buffer_size=AUTOTUNE)\n",
        "val_ds = val_ds.cache().prefetch(buffer_size=AUTOTUNE)\n",
        "test_ds = test_ds.cache().prefetch(buffer_size=AUTOTUNE)"
      ]
    },
    {
      "cell_type": "code",
      "execution_count": 19,
      "metadata": {
        "colab": {
          "base_uri": "https://localhost:8080/"
        },
        "id": "MzqhlKLGBCSa",
        "outputId": "377a2197-238d-4c67-cde3-4973c1f237a5"
      },
      "outputs": [
        {
          "name": "stdout",
          "output_type": "stream",
          "text": [
            "Trial 10 Complete [00h 00m 51s]\n",
            "val_accuracy: 0.290909081697464\n",
            "\n",
            "Best val_accuracy So Far: 0.6909090876579285\n",
            "Total elapsed time: 00h 13m 00s\n"
          ]
        }
      ],
      "source": [
        "tuner = kt.RandomSearch(make_model, objective = \"val_accuracy\", max_trials = MAX_TRIALS_TUNER, directory = \"grid_search\")\n",
        "tuner.search(train_ds, validation_data = val_ds, epochs = EPOCHS_TUNER)"
      ]
    },
    {
      "cell_type": "code",
      "execution_count": 20,
      "metadata": {
        "colab": {
          "base_uri": "https://localhost:8080/"
        },
        "id": "hDnX6_WoknZP",
        "outputId": "14742679-2666-4b89-a243-566e6229ebc9"
      },
      "outputs": [
        {
          "name": "stdout",
          "output_type": "stream",
          "text": [
            "Results summary\n",
            "Results in grid_search/untitled_project\n",
            "Showing 10 best trials\n",
            "Objective(name=\"val_accuracy\", direction=\"max\")\n",
            "\n",
            "Trial 04 summary\n",
            "Hyperparameters:\n",
            "dropout_conv: 0.2\n",
            "dropout_dense: 0.30000000000000004\n",
            "filters_1: 32\n",
            "filters_2: 48\n",
            "filters_3: 48\n",
            "units_dense: 16\n",
            "optimizer: adam\n",
            "Score: 0.6909090876579285\n",
            "\n",
            "Trial 05 summary\n",
            "Hyperparameters:\n",
            "dropout_conv: 0.5\n",
            "dropout_dense: 0.4\n",
            "filters_1: 48\n",
            "filters_2: 32\n",
            "filters_3: 48\n",
            "units_dense: 64\n",
            "optimizer: adam\n",
            "Score: 0.6363636255264282\n",
            "\n",
            "Trial 07 summary\n",
            "Hyperparameters:\n",
            "dropout_conv: 0.2\n",
            "dropout_dense: 0.5\n",
            "filters_1: 32\n",
            "filters_2: 32\n",
            "filters_3: 48\n",
            "units_dense: 64\n",
            "optimizer: adam\n",
            "Score: 0.6000000238418579\n",
            "\n",
            "Trial 00 summary\n",
            "Hyperparameters:\n",
            "dropout_conv: 0.1\n",
            "dropout_dense: 0.5\n",
            "filters_1: 16\n",
            "filters_2: 32\n",
            "filters_3: 96\n",
            "units_dense: 16\n",
            "optimizer: sgd\n",
            "Score: 0.5272727012634277\n",
            "\n",
            "Trial 08 summary\n",
            "Hyperparameters:\n",
            "dropout_conv: 0.30000000000000004\n",
            "dropout_dense: 0.30000000000000004\n",
            "filters_1: 48\n",
            "filters_2: 48\n",
            "filters_3: 64\n",
            "units_dense: 64\n",
            "optimizer: sgd\n",
            "Score: 0.41818180680274963\n",
            "\n",
            "Trial 02 summary\n",
            "Hyperparameters:\n",
            "dropout_conv: 0.4\n",
            "dropout_dense: 0.2\n",
            "filters_1: 32\n",
            "filters_2: 32\n",
            "filters_3: 48\n",
            "units_dense: 16\n",
            "optimizer: sgd\n",
            "Score: 0.38181817531585693\n",
            "\n",
            "Trial 06 summary\n",
            "Hyperparameters:\n",
            "dropout_conv: 0.4\n",
            "dropout_dense: 0.2\n",
            "filters_1: 16\n",
            "filters_2: 64\n",
            "filters_3: 48\n",
            "units_dense: 64\n",
            "optimizer: sgd\n",
            "Score: 0.3272727131843567\n",
            "\n",
            "Trial 09 summary\n",
            "Hyperparameters:\n",
            "dropout_conv: 0.5\n",
            "dropout_dense: 0.2\n",
            "filters_1: 16\n",
            "filters_2: 64\n",
            "filters_3: 48\n",
            "units_dense: 16\n",
            "optimizer: sgd\n",
            "Score: 0.290909081697464\n",
            "\n",
            "Trial 03 summary\n",
            "Hyperparameters:\n",
            "dropout_conv: 0.5\n",
            "dropout_dense: 0.1\n",
            "filters_1: 48\n",
            "filters_2: 32\n",
            "filters_3: 64\n",
            "units_dense: 64\n",
            "optimizer: sgd\n",
            "Score: 0.1818181872367859\n",
            "\n",
            "Trial 01 summary\n",
            "Hyperparameters:\n",
            "dropout_conv: 0.5\n",
            "dropout_dense: 0.1\n",
            "filters_1: 32\n",
            "filters_2: 64\n",
            "filters_3: 96\n",
            "units_dense: 16\n",
            "optimizer: sgd\n",
            "Score: 0.145454540848732\n"
          ]
        }
      ],
      "source": [
        "tuner.results_summary()"
      ]
    },
    {
      "cell_type": "code",
      "execution_count": 21,
      "metadata": {
        "colab": {
          "base_uri": "https://localhost:8080/"
        },
        "id": "byqyqDCnFNio",
        "outputId": "1e05050d-7a48-4788-e7d1-923debf581cb"
      },
      "outputs": [
        {
          "data": {
            "text/plain": [
              "{'space': [{'class_name': 'Float',\n",
              "   'config': {'name': 'dropout_conv',\n",
              "    'default': 0.1,\n",
              "    'conditions': [],\n",
              "    'min_value': 0.1,\n",
              "    'max_value': 0.5,\n",
              "    'step': 0.1,\n",
              "    'sampling': 'linear'}},\n",
              "  {'class_name': 'Float',\n",
              "   'config': {'name': 'dropout_dense',\n",
              "    'default': 0.1,\n",
              "    'conditions': [],\n",
              "    'min_value': 0.1,\n",
              "    'max_value': 0.5,\n",
              "    'step': 0.1,\n",
              "    'sampling': 'linear'}},\n",
              "  {'class_name': 'Choice',\n",
              "   'config': {'name': 'filters_1',\n",
              "    'default': 16,\n",
              "    'conditions': [],\n",
              "    'values': [16, 32, 48],\n",
              "    'ordered': True}},\n",
              "  {'class_name': 'Choice',\n",
              "   'config': {'name': 'filters_2',\n",
              "    'default': 32,\n",
              "    'conditions': [],\n",
              "    'values': [32, 48, 64],\n",
              "    'ordered': True}},\n",
              "  {'class_name': 'Choice',\n",
              "   'config': {'name': 'filters_3',\n",
              "    'default': 48,\n",
              "    'conditions': [],\n",
              "    'values': [48, 64, 96],\n",
              "    'ordered': True}},\n",
              "  {'class_name': 'Choice',\n",
              "   'config': {'name': 'units_dense',\n",
              "    'default': 16,\n",
              "    'conditions': [],\n",
              "    'values': [16, 32, 48, 64],\n",
              "    'ordered': True}},\n",
              "  {'class_name': 'Choice',\n",
              "   'config': {'name': 'optimizer',\n",
              "    'default': 'adam',\n",
              "    'conditions': [],\n",
              "    'values': ['adam', 'sgd'],\n",
              "    'ordered': False}}],\n",
              " 'values': {'dropout_conv': 0.2,\n",
              "  'dropout_dense': 0.30000000000000004,\n",
              "  'filters_1': 32,\n",
              "  'filters_2': 48,\n",
              "  'filters_3': 48,\n",
              "  'units_dense': 16,\n",
              "  'optimizer': 'adam'}}"
            ]
          },
          "execution_count": 21,
          "metadata": {},
          "output_type": "execute_result"
        }
      ],
      "source": [
        "best_params = tuner.get_best_hyperparameters()[0]\n",
        "best_params.get_config()"
      ]
    },
    {
      "cell_type": "code",
      "execution_count": 22,
      "metadata": {
        "id": "YaoLVsDmFdtW"
      },
      "outputs": [],
      "source": [
        "model = tuner.hypermodel.build(best_params)"
      ]
    },
    {
      "cell_type": "code",
      "execution_count": 23,
      "metadata": {
        "colab": {
          "base_uri": "https://localhost:8080/"
        },
        "id": "r4hM-YzDFwG6",
        "outputId": "1b24291c-eb61-433b-b841-3711145b1f6e"
      },
      "outputs": [
        {
          "name": "stdout",
          "output_type": "stream",
          "text": [
            "Model: \"sequential_1\"\n",
            "_________________________________________________________________\n",
            " Layer (type)                Output Shape              Param #   \n",
            "=================================================================\n",
            " random_flip_1 (RandomFlip)  (None, 256, 256, 3)       0         \n",
            "                                                                 \n",
            " random_rotation_1 (RandomRo  (None, 256, 256, 3)      0         \n",
            " tation)                                                         \n",
            "                                                                 \n",
            " random_brightness_1 (Random  (None, 256, 256, 3)      0         \n",
            " Brightness)                                                     \n",
            "                                                                 \n",
            " rescaling_1 (Rescaling)     (None, 256, 256, 3)       0         \n",
            "                                                                 \n",
            " conv2d_3 (Conv2D)           (None, 256, 256, 32)      896       \n",
            "                                                                 \n",
            " max_pooling2d_3 (MaxPooling  (None, 128, 128, 32)     0         \n",
            " 2D)                                                             \n",
            "                                                                 \n",
            " dropout_4 (Dropout)         (None, 128, 128, 32)      0         \n",
            "                                                                 \n",
            " conv2d_4 (Conv2D)           (None, 128, 128, 48)      13872     \n",
            "                                                                 \n",
            " max_pooling2d_4 (MaxPooling  (None, 64, 64, 48)       0         \n",
            " 2D)                                                             \n",
            "                                                                 \n",
            " dropout_5 (Dropout)         (None, 64, 64, 48)        0         \n",
            "                                                                 \n",
            " conv2d_5 (Conv2D)           (None, 64, 64, 48)        20784     \n",
            "                                                                 \n",
            " max_pooling2d_5 (MaxPooling  (None, 32, 32, 48)       0         \n",
            " 2D)                                                             \n",
            "                                                                 \n",
            " dropout_6 (Dropout)         (None, 32, 32, 48)        0         \n",
            "                                                                 \n",
            " flatten_1 (Flatten)         (None, 49152)             0         \n",
            "                                                                 \n",
            " dense_2 (Dense)             (None, 16)                786448    \n",
            "                                                                 \n",
            " dropout_7 (Dropout)         (None, 16)                0         \n",
            "                                                                 \n",
            " dense_3 (Dense)             (None, 11)                187       \n",
            "                                                                 \n",
            " softmax_1 (Softmax)         (None, 11)                0         \n",
            "                                                                 \n",
            "=================================================================\n",
            "Total params: 822,187\n",
            "Trainable params: 822,187\n",
            "Non-trainable params: 0\n",
            "_________________________________________________________________\n"
          ]
        }
      ],
      "source": [
        "model.summary()"
      ]
    },
    {
      "cell_type": "code",
      "execution_count": 24,
      "metadata": {
        "id": "JR_7Rq_3GB_x"
      },
      "outputs": [],
      "source": [
        "earlystop = EarlyStopping(monitor='val_loss', patience=5, restore_best_weights=True, start_from_epoch=50)"
      ]
    },
    {
      "cell_type": "code",
      "execution_count": 25,
      "metadata": {
        "colab": {
          "base_uri": "https://localhost:8080/"
        },
        "id": "p5Zq9VpwFxvC",
        "outputId": "9459a381-0fbb-430a-fe5a-be12db1091c6"
      },
      "outputs": [
        {
          "name": "stdout",
          "output_type": "stream",
          "text": [
            "Epoch 1/100\n",
            "68/68 [==============================] - 9s 107ms/step - loss: 2.6605 - accuracy: 0.1854 - val_loss: 2.1601 - val_accuracy: 0.2182\n",
            "Epoch 2/100\n",
            "68/68 [==============================] - 7s 103ms/step - loss: 2.0008 - accuracy: 0.3079 - val_loss: 1.8086 - val_accuracy: 0.3818\n",
            "Epoch 3/100\n",
            "68/68 [==============================] - 7s 104ms/step - loss: 1.8199 - accuracy: 0.3726 - val_loss: 1.6171 - val_accuracy: 0.4364\n",
            "Epoch 4/100\n",
            "68/68 [==============================] - 7s 102ms/step - loss: 1.7006 - accuracy: 0.4202 - val_loss: 1.4514 - val_accuracy: 0.4727\n",
            "Epoch 5/100\n",
            "68/68 [==============================] - 7s 105ms/step - loss: 1.5828 - accuracy: 0.4387 - val_loss: 1.3861 - val_accuracy: 0.6000\n",
            "Epoch 6/100\n",
            "68/68 [==============================] - 7s 101ms/step - loss: 1.5495 - accuracy: 0.4757 - val_loss: 1.3468 - val_accuracy: 0.6000\n",
            "Epoch 7/100\n",
            "68/68 [==============================] - 7s 100ms/step - loss: 1.4802 - accuracy: 0.5035 - val_loss: 1.2484 - val_accuracy: 0.5636\n",
            "Epoch 8/100\n",
            "68/68 [==============================] - 7s 101ms/step - loss: 1.4546 - accuracy: 0.4998 - val_loss: 1.2820 - val_accuracy: 0.6000\n",
            "Epoch 9/100\n",
            "68/68 [==============================] - 7s 99ms/step - loss: 1.3731 - accuracy: 0.5368 - val_loss: 1.0933 - val_accuracy: 0.6545\n",
            "Epoch 10/100\n",
            "68/68 [==============================] - 7s 101ms/step - loss: 1.3775 - accuracy: 0.5368 - val_loss: 1.1687 - val_accuracy: 0.6000\n",
            "Epoch 11/100\n",
            "68/68 [==============================] - 7s 99ms/step - loss: 1.3001 - accuracy: 0.5548 - val_loss: 0.9888 - val_accuracy: 0.7091\n",
            "Epoch 12/100\n",
            "68/68 [==============================] - 7s 100ms/step - loss: 1.2129 - accuracy: 0.5728 - val_loss: 0.9782 - val_accuracy: 0.6909\n",
            "Epoch 13/100\n",
            "68/68 [==============================] - 7s 100ms/step - loss: 1.2119 - accuracy: 0.5945 - val_loss: 0.8755 - val_accuracy: 0.8000\n",
            "Epoch 14/100\n",
            "68/68 [==============================] - 7s 98ms/step - loss: 1.1340 - accuracy: 0.6311 - val_loss: 0.9713 - val_accuracy: 0.7273\n",
            "Epoch 15/100\n",
            "68/68 [==============================] - 7s 100ms/step - loss: 1.0447 - accuracy: 0.6486 - val_loss: 0.8354 - val_accuracy: 0.7273\n",
            "Epoch 16/100\n",
            "68/68 [==============================] - 7s 97ms/step - loss: 1.0183 - accuracy: 0.6551 - val_loss: 0.8094 - val_accuracy: 0.8000\n",
            "Epoch 17/100\n",
            "68/68 [==============================] - 7s 98ms/step - loss: 1.0300 - accuracy: 0.6482 - val_loss: 0.9322 - val_accuracy: 0.6727\n",
            "Epoch 18/100\n",
            "68/68 [==============================] - 7s 97ms/step - loss: 0.9732 - accuracy: 0.6722 - val_loss: 0.7671 - val_accuracy: 0.7636\n",
            "Epoch 19/100\n",
            "68/68 [==============================] - 7s 101ms/step - loss: 0.9192 - accuracy: 0.6773 - val_loss: 0.8608 - val_accuracy: 0.7273\n",
            "Epoch 20/100\n",
            "68/68 [==============================] - 7s 99ms/step - loss: 0.9018 - accuracy: 0.6944 - val_loss: 0.8655 - val_accuracy: 0.7455\n",
            "Epoch 21/100\n",
            "68/68 [==============================] - 7s 98ms/step - loss: 0.8948 - accuracy: 0.7023 - val_loss: 0.7071 - val_accuracy: 0.7818\n",
            "Epoch 22/100\n",
            "68/68 [==============================] - 7s 98ms/step - loss: 0.8649 - accuracy: 0.7074 - val_loss: 0.6841 - val_accuracy: 0.7818\n",
            "Epoch 23/100\n",
            "68/68 [==============================] - 7s 98ms/step - loss: 0.8648 - accuracy: 0.7092 - val_loss: 0.8639 - val_accuracy: 0.6727\n",
            "Epoch 24/100\n",
            "68/68 [==============================] - 7s 98ms/step - loss: 0.8612 - accuracy: 0.7037 - val_loss: 0.7460 - val_accuracy: 0.7636\n",
            "Epoch 25/100\n",
            "68/68 [==============================] - 7s 100ms/step - loss: 0.7670 - accuracy: 0.7480 - val_loss: 0.5575 - val_accuracy: 0.8364\n",
            "Epoch 26/100\n",
            "68/68 [==============================] - 7s 98ms/step - loss: 0.7827 - accuracy: 0.7480 - val_loss: 0.7150 - val_accuracy: 0.7636\n",
            "Epoch 27/100\n",
            "68/68 [==============================] - 7s 98ms/step - loss: 0.7359 - accuracy: 0.7568 - val_loss: 0.5864 - val_accuracy: 0.8000\n",
            "Epoch 28/100\n",
            "68/68 [==============================] - 7s 97ms/step - loss: 0.7030 - accuracy: 0.7628 - val_loss: 0.5860 - val_accuracy: 0.8182\n",
            "Epoch 29/100\n",
            "68/68 [==============================] - 7s 98ms/step - loss: 0.6935 - accuracy: 0.7624 - val_loss: 0.4548 - val_accuracy: 0.8364\n",
            "Epoch 30/100\n",
            "68/68 [==============================] - 7s 98ms/step - loss: 0.6804 - accuracy: 0.7822 - val_loss: 0.6385 - val_accuracy: 0.7455\n",
            "Epoch 31/100\n",
            "68/68 [==============================] - 7s 98ms/step - loss: 0.6628 - accuracy: 0.7832 - val_loss: 0.4076 - val_accuracy: 0.8545\n",
            "Epoch 32/100\n",
            "68/68 [==============================] - 7s 97ms/step - loss: 0.6249 - accuracy: 0.7984 - val_loss: 0.5066 - val_accuracy: 0.8364\n",
            "Epoch 33/100\n",
            "68/68 [==============================] - 7s 97ms/step - loss: 0.6400 - accuracy: 0.7869 - val_loss: 0.4503 - val_accuracy: 0.8182\n",
            "Epoch 34/100\n",
            "68/68 [==============================] - 7s 97ms/step - loss: 0.6210 - accuracy: 0.7998 - val_loss: 0.4153 - val_accuracy: 0.8909\n",
            "Epoch 35/100\n",
            "68/68 [==============================] - 7s 98ms/step - loss: 0.5629 - accuracy: 0.8215 - val_loss: 0.4669 - val_accuracy: 0.8364\n",
            "Epoch 36/100\n",
            "68/68 [==============================] - 7s 96ms/step - loss: 0.5919 - accuracy: 0.8049 - val_loss: 0.4793 - val_accuracy: 0.8364\n",
            "Epoch 37/100\n",
            "68/68 [==============================] - 7s 98ms/step - loss: 0.5764 - accuracy: 0.8077 - val_loss: 0.3725 - val_accuracy: 0.8182\n",
            "Epoch 38/100\n",
            "68/68 [==============================] - 7s 96ms/step - loss: 0.6056 - accuracy: 0.7994 - val_loss: 0.4529 - val_accuracy: 0.8182\n",
            "Epoch 39/100\n",
            "68/68 [==============================] - 7s 96ms/step - loss: 0.5866 - accuracy: 0.8077 - val_loss: 0.3707 - val_accuracy: 0.8182\n",
            "Epoch 40/100\n",
            "68/68 [==============================] - 7s 98ms/step - loss: 0.5371 - accuracy: 0.8174 - val_loss: 0.2870 - val_accuracy: 0.8364\n",
            "Epoch 41/100\n",
            "68/68 [==============================] - 7s 97ms/step - loss: 0.5463 - accuracy: 0.8211 - val_loss: 0.3928 - val_accuracy: 0.8545\n",
            "Epoch 42/100\n",
            "68/68 [==============================] - 7s 98ms/step - loss: 0.6115 - accuracy: 0.8040 - val_loss: 0.4172 - val_accuracy: 0.8909\n",
            "Epoch 43/100\n",
            "68/68 [==============================] - 7s 97ms/step - loss: 0.5266 - accuracy: 0.8276 - val_loss: 0.4194 - val_accuracy: 0.8000\n",
            "Epoch 44/100\n",
            "68/68 [==============================] - 7s 96ms/step - loss: 0.4931 - accuracy: 0.8391 - val_loss: 0.2664 - val_accuracy: 0.8727\n",
            "Epoch 45/100\n",
            "68/68 [==============================] - 7s 98ms/step - loss: 0.5033 - accuracy: 0.8322 - val_loss: 0.2558 - val_accuracy: 0.9091\n",
            "Epoch 46/100\n",
            "68/68 [==============================] - 7s 96ms/step - loss: 0.4537 - accuracy: 0.8433 - val_loss: 0.3529 - val_accuracy: 0.8545\n",
            "Epoch 47/100\n",
            "68/68 [==============================] - 7s 98ms/step - loss: 0.4484 - accuracy: 0.8460 - val_loss: 0.5460 - val_accuracy: 0.8182\n",
            "Epoch 48/100\n",
            "68/68 [==============================] - 7s 98ms/step - loss: 0.4695 - accuracy: 0.8419 - val_loss: 0.2651 - val_accuracy: 0.8909\n",
            "Epoch 49/100\n",
            "68/68 [==============================] - 7s 98ms/step - loss: 0.4083 - accuracy: 0.8645 - val_loss: 0.4952 - val_accuracy: 0.8364\n",
            "Epoch 50/100\n",
            "68/68 [==============================] - 7s 97ms/step - loss: 0.4425 - accuracy: 0.8488 - val_loss: 0.3390 - val_accuracy: 0.8727\n",
            "Epoch 51/100\n",
            "68/68 [==============================] - 7s 103ms/step - loss: 0.4316 - accuracy: 0.8511 - val_loss: 0.4571 - val_accuracy: 0.8182\n",
            "Epoch 52/100\n",
            "68/68 [==============================] - 7s 106ms/step - loss: 0.4279 - accuracy: 0.8567 - val_loss: 0.1940 - val_accuracy: 0.9273\n",
            "Epoch 53/100\n",
            "68/68 [==============================] - 7s 98ms/step - loss: 0.4080 - accuracy: 0.8627 - val_loss: 0.1870 - val_accuracy: 0.9273\n",
            "Epoch 54/100\n",
            "68/68 [==============================] - 7s 96ms/step - loss: 0.4057 - accuracy: 0.8599 - val_loss: 0.2849 - val_accuracy: 0.8364\n",
            "Epoch 55/100\n",
            "68/68 [==============================] - 7s 98ms/step - loss: 0.4006 - accuracy: 0.8724 - val_loss: 0.3785 - val_accuracy: 0.8727\n",
            "Epoch 56/100\n",
            "68/68 [==============================] - 7s 97ms/step - loss: 0.4601 - accuracy: 0.8433 - val_loss: 0.2669 - val_accuracy: 0.8909\n",
            "Epoch 57/100\n",
            "68/68 [==============================] - 7s 96ms/step - loss: 0.4176 - accuracy: 0.8641 - val_loss: 0.2766 - val_accuracy: 0.8909\n",
            "Epoch 58/100\n",
            "68/68 [==============================] - 7s 98ms/step - loss: 0.4371 - accuracy: 0.8428 - val_loss: 0.3124 - val_accuracy: 0.8727\n"
          ]
        }
      ],
      "source": [
        "history = model.fit(train_ds, validation_data=val_ds, epochs=EPOCHS_FIT, callbacks=[earlystop])\n"
      ]
    },
    {
      "cell_type": "code",
      "execution_count": 26,
      "metadata": {
        "colab": {
          "base_uri": "https://localhost:8080/"
        },
        "id": "BNGhI4uHGfCk",
        "outputId": "f9f4501d-772a-43a5-c383-ec15821209d7"
      },
      "outputs": [
        {
          "name": "stdout",
          "output_type": "stream",
          "text": [
            "2/2 [==============================] - 0s 27ms/step - loss: 0.0755 - accuracy: 0.9818\n",
            "Loss: 0.07552292197942734 Accuracy: 0.9818181991577148\n"
          ]
        }
      ],
      "source": [
        "results = model.evaluate(test_ds)\n",
        "print(\"Loss: \"+str(results[0])+\" Accuracy: \" + str(results[1]))"
      ]
    },
    {
      "cell_type": "code",
      "execution_count": 28,
      "metadata": {
        "colab": {
          "base_uri": "https://localhost:8080/",
          "height": 410
        },
        "id": "B2if_KsmGh_D",
        "outputId": "96aac908-97b6-4d2a-a86c-68b94f0e5c2b"
      },
      "outputs": [
        {
          "data": {
            "image/png": "[encoded data removed]",
            "text/plain": [
              "<Figure size 1000x400 with 2 Axes>"
            ]
          },
          "metadata": {},
          "output_type": "display_data"
        }
      ],
      "source": [
        "plt.figure(figsize=(10,4))\n",
        "\n",
        "plt.subplot(1,2,1)\n",
        "plt.ylim(0,1)\n",
        "plt.grid(True, \"both\", linestyle=\"--\")\n",
        "plt.plot(history.history['accuracy'])\n",
        "plt.plot(history.history['val_accuracy'])\n",
        "plt.title('Model Accuracy')\n",
        "plt.ylabel('Accuracy')\n",
        "plt.xlabel('Epoch')\n",
        "plt.legend(['Train', 'Validation'], loc='lower right')\n",
        "\n",
        "plt.subplot(1,2,2)\n",
        "plt.grid(True, \"both\", linestyle=\"--\")\n",
        "plt.plot(history.history['loss'])\n",
        "plt.plot(history.history['val_loss'])\n",
        "plt.title('Model Loss')\n",
        "plt.ylabel('Loss')\n",
        "plt.xlabel('Epoch')\n",
        "plt.legend(['Train', 'Validation'], loc='upper right')\n",
        "\n",
        "plt.show()"
      ]
    },
    {
      "cell_type": "code",
      "execution_count": 29,
      "metadata": {
        "colab": {
          "base_uri": "https://localhost:8080/"
        },
        "id": "5hw3poklG_-W",
        "outputId": "66ab2ec1-5db6-46dc-b7a4-34e68dfb6c88"
      },
      "outputs": [
        {
          "name": "stderr",
          "output_type": "stream",
          "text": [
            "WARNING:absl:Found untraced functions such as _jit_compiled_convolution_op, _jit_compiled_convolution_op, _jit_compiled_convolution_op while saving (showing 3 of 3). These functions will not be directly callable after loading.\n"
          ]
        }
      ],
      "source": [
        "model.save(\"amd_cnn_model\")"
      ]
    },
    {
      "cell_type": "code",
      "execution_count": 31,
      "metadata": {
        "colab": {
          "base_uri": "https://localhost:8080/",
          "height": 36
        },
        "id": "yDACops83YHK",
        "outputId": "c4362357-bba4-4bef-cf08-ae6a2bf8d153"
      },
      "outputs": [
        {
          "data": {
            "application/vnd.google.colaboratory.intrinsic+json": {
              "type": "string"
            },
            "text/plain": [
              "'/content/drive/MyDrive/amd_cnn_model.zip'"
            ]
          },
          "execution_count": 31,
          "metadata": {},
          "output_type": "execute_result"
        }
      ],
      "source": [
        "# Save Model to Google Drive\n",
        "!zip -r -q /content/amd_cnn_model.zip /content/amd_cnn_model\n",
        "# shutil.copy(\"/content/amd_cnn_model.zip\",\"/content/drive/MyDrive/\")\n"
      ]
    },
    {
      "cell_type": "code",
      "execution_count": null,
      "metadata": {},
      "outputs": [],
      "source": []
    }
  ],
  "metadata": {
    "accelerator": "GPU",
    "colab": {
      "gpuType": "T4",
      "provenance": []
    },
    "kernelspec": {
      "display_name": "Python 3",
      "name": "python3"
    },
    "language_info": {
      "name": "python"
    }
  },
  "nbformat": 4,
  "nbformat_minor": 0
}
